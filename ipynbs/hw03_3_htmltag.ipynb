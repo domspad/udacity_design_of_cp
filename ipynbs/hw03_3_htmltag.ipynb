{
 "metadata": {
  "name": ""
 },
 "nbformat": 3,
 "nbformat_minor": 0,
 "worksheets": [
  {
   "cells": [
    {
     "cell_type": "code",
     "collapsed": false,
     "input": [
      "# ---------------\n",
      "# User Instructions\n",
      "#\n",
      "# Write a function, findtags(text), that takes a string of text\n",
      "# as input and returns a list of all the html start tags in the \n",
      "# text. It may be helpful to use regular expressions to solve\n",
      "# this problem.\n",
      "\n",
      "import re\n",
      "\n",
      "def findtags(text):\n",
      "    return re.findall(r'<\\s*[^\\s/]+\\s*(?:[^(\\s)]+=\"[^\"]*\")*\\s*>',text)\n",
      "\n",
      "testtext1 = \"\"\"\n",
      "My favorite website in the world is probably \n",
      "<a href=\"www.udacity.com\">Udacity</a>. If you want \n",
      "that link to open in a <b>new tab</b> by default, you should\n",
      "write <a href=\"www.udacity.com\"target=\"_blank\">Udacity</a>\n",
      "instead!\n",
      "\"\"\"\n",
      "\n",
      "testtext2 = \"\"\"\n",
      "Okay, so you passed the first test case. <let's see> how you \n",
      "handle this one. Did you know that 2 < 3 should return True? \n",
      "So should 3 > 2. But 2 > 3 is always False.\n",
      "\"\"\"\n",
      "\n",
      "testtext3 = \"\"\"\n",
      "It's not common, but we can put a LOT of whitespace into \n",
      "our HTML tags. For example, we can make something bold by\n",
      "doing <         b           > this <   /b    >, Though I \n",
      "don't know why you would ever want to.\n",
      "\"\"\"\n",
      "\n",
      "def test():\n",
      "    assert findtags(testtext1) == ['<a href=\"www.udacity.com\">', \n",
      "                                   '<b>', \n",
      "                                   '<a href=\"www.udacity.com\"target=\"_blank\">']\n",
      "    assert findtags(testtext2) == []\n",
      "    assert findtags(testtext3) == ['<         b           >']\n",
      "    return 'tests pass'\n",
      "\n",
      "print test()"
     ],
     "language": "python",
     "metadata": {},
     "outputs": [],
     "prompt_number": 80
    },
    {
     "cell_type": "code",
     "collapsed": false,
     "input": [
      "test()"
     ],
     "language": "python",
     "metadata": {},
     "outputs": [
      {
       "metadata": {},
       "output_type": "pyout",
       "prompt_number": 81,
       "text": [
        "'tests pass'"
       ]
      }
     ],
     "prompt_number": 81
    },
    {
     "cell_type": "code",
     "collapsed": false,
     "input": [
      "examples = [\"<b>\",\n",
      "\"\"\"<img src=\"w3schools.jpg\" alt=\"W3Schools.com\" width=\"104\" height=\"142\">\"\"\",\n",
      " \"\"\"<         b           >\"\"\",\n",
      " \"\"\"<a href=\"http://www.w3schools.com\">\"\"\",\n",
      " \"\"\"<   a href=\"http://www.w3sc  hools.com\"  >\"\"\",\n",
      " \"\"\"<  a b=\"c d\">\"\"\",\n",
      " '<a href=\"www.udacity.com\"target=\"_blank\">']"
     ],
     "language": "python",
     "metadata": {},
     "outputs": [],
     "prompt_number": 82
    },
    {
     "cell_type": "code",
     "collapsed": false,
     "input": [
      "for ex in examples :\n",
      "    print findtags(ex)"
     ],
     "language": "python",
     "metadata": {},
     "outputs": [
      {
       "output_type": "stream",
       "stream": "stdout",
       "text": [
        "['<b>']\n",
        "[]\n",
        "['<         b           >']\n",
        "['<a href=\"http://www.w3schools.com\">']\n",
        "['<   a href=\"http://www.w3sc  hools.com\"  >']\n",
        "['<  a b=\"c d\">']\n",
        "['<a href=\"www.udacity.com\"target=\"_blank\">']\n"
       ]
      }
     ],
     "prompt_number": 83
    },
    {
     "cell_type": "code",
     "collapsed": false,
     "input": [
      "re.findall(r'<\\s*[^\\s]+\\s*(?:[^(\\s)]+=\"[^\"]*\")*\\s*>',testtext1) #needed non-capturing (?:...) parens"
     ],
     "language": "python",
     "metadata": {},
     "outputs": [
      {
       "metadata": {},
       "output_type": "pyout",
       "prompt_number": 84,
       "text": [
        "['<a href=\"www.udacity.com\">',\n",
        " '</a>',\n",
        " '<b>',\n",
        " '</b>',\n",
        " '<a href=\"www.udacity.com\"target=\"_blank\">',\n",
        " '</a>']"
       ]
      }
     ],
     "prompt_number": 84
    },
    {
     "cell_type": "heading",
     "level": 3,
     "metadata": {},
     "source": [
      "Concept inventory"
     ]
    },
    {
     "cell_type": "markdown",
     "metadata": {},
     "source": [
      "Tag structure\n",
      "\n",
      " - < ... >\n",
      " - tag name\n",
      " - attrs\n",
      "     - aname\n",
      "     - aval\n",
      " - optional white space\n",
      " "
     ]
    },
    {
     "cell_type": "code",
     "collapsed": false,
     "input": [
      "r'<w*(tagname)w*(attr)*w*>' #structure\n",
      "r'<\\s*[^\\s]+\\s*([^\\s]+=\"[^\"]\")\\s*>' #attempt 1"
     ],
     "language": "python",
     "metadata": {},
     "outputs": [
      {
       "metadata": {},
       "output_type": "pyout",
       "prompt_number": 37,
       "text": [
        "'<\\\\s*[?!\\\\s]+\\\\s*([?!\\\\s]+=\"[?!\"]\")*\\\\s*>'"
       ]
      }
     ],
     "prompt_number": 37
    },
    {
     "cell_type": "code",
     "collapsed": false,
     "input": [
      "w = r'\\s' #spaces [ \\t\\n\\r\\f\\v]\n",
      "# include \\t or \\n or \\r?"
     ],
     "language": "python",
     "metadata": {},
     "outputs": [],
     "prompt_number": 10
    },
    {
     "cell_type": "code",
     "collapsed": false,
     "input": [
      "tagname = r'[^\\s]+' \n",
      "#without spaces at least one of any char\n",
      "#exclude number from start?"
     ],
     "language": "python",
     "metadata": {},
     "outputs": [],
     "prompt_number": 12
    },
    {
     "cell_type": "code",
     "collapsed": false,
     "input": [
      "attr = r'[^\\s]+=\"[^\"]\"'  \n",
      "#name:\"val\" pair\n",
      "#name has no spaces\n",
      "# val is ANYTHING not \""
     ],
     "language": "python",
     "metadata": {},
     "outputs": []
    },
    {
     "cell_type": "code",
     "collapsed": false,
     "input": [
      "import re"
     ],
     "language": "python",
     "metadata": {},
     "outputs": [],
     "prompt_number": 13
    },
    {
     "cell_type": "code",
     "collapsed": false,
     "input": [
      "re.findall(r'<\\s*[^\\s]+\\s*[^\\s]*]>','< this has=\"no spaces\" >')"
     ],
     "language": "python",
     "metadata": {},
     "outputs": [
      {
       "metadata": {},
       "output_type": "pyout",
       "prompt_number": 51,
       "text": [
        "[]"
       ]
      }
     ],
     "prompt_number": 51
    },
    {
     "cell_type": "code",
     "collapsed": false,
     "input": [
      "re.findall(r'[(a)]*','aaa')"
     ],
     "language": "python",
     "metadata": {},
     "outputs": [
      {
       "metadata": {},
       "output_type": "pyout",
       "prompt_number": 56,
       "text": [
        "['aaa', '']"
       ]
      }
     ],
     "prompt_number": 56
    },
    {
     "cell_type": "code",
     "collapsed": false,
     "input": [
      "r'<\\s*[^\\s/]+\\s*(?:[^\\s]+=\"[^\"]*\")*\\s*>'\n",
      "\n",
      "\"\"\"\n",
      "special constructs used :\n",
      "\n",
      "c*        zero or more c's\n",
      "c+        one or more c's\n",
      "[abcd]    one of a or b or c or d\n",
      "(abc)     abc (but captures the group, and can be referenced later)\n",
      "(?:abc)   abc (but non-capturing)\n",
      "^n        any character that's NOT n\n",
      "\n",
      "\"\"\""
     ],
     "language": "python",
     "metadata": {},
     "outputs": [],
     "prompt_number": 56
    },
    {
     "cell_type": "code",
     "collapsed": false,
     "input": [
      "\"\"\"\n",
      "Another solution\n",
      "\"\"\"\n",
      "\n",
      "p = re.compile(r'<\\s*\\w+\\s*(?:\\w+\\s*=\\s*\"[^\"]*\"\\s*)*\\s*/?>', re.IGNORECASE)\n",
      "\n",
      "def findtags(text):\n",
      "    return p.findall(text)\n",
      "\n",
      "\"\"\"\n",
      "the compile makes the pattern compiled and not needed to be recompile everytime it is used\n",
      "good for search speed\n",
      "\n",
      "the (?: expression also speeds things up (and in my case makes the code correct)\n",
      "\"\"\""
     ],
     "language": "python",
     "metadata": {},
     "outputs": [],
     "prompt_number": 84
    },
    {
     "cell_type": "code",
     "collapsed": false,
     "input": [],
     "language": "python",
     "metadata": {},
     "outputs": []
    }
   ],
   "metadata": {}
  }
 ]
}