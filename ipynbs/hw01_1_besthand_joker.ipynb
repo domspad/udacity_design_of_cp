{
 "metadata": {
  "name": ""
 },
 "nbformat": 3,
 "nbformat_minor": 0,
 "worksheets": [
  {
   "cells": [
    {
     "cell_type": "heading",
     "level": 1,
     "metadata": {},
     "source": [
      "Problem - Stated below as code cell"
     ]
    },
    {
     "cell_type": "code",
     "collapsed": false,
     "input": [
      "# CS 212, hw1-2: Jokers Wild\n",
      "#\n",
      "# -----------------\n",
      "# User Instructions\n",
      "#\n",
      "# Write a function best_wild_hand(hand) that takes as\n",
      "# input a 7-card hand and returns the best 5 card hand.\n",
      "# In this problem, it is possible for a hand to include\n",
      "# jokers. Jokers will be treated as 'wild cards' which\n",
      "# can take any rank or suit of the same color. The \n",
      "# black joker, '?B', can be used as any spade or club\n",
      "# and the red joker, '?R', can be used as any heart \n",
      "# or diamond.\n",
      "#\n",
      "# The itertools library may be helpful. Feel free to \n",
      "# define multiple functions if it helps you solve the\n",
      "# problem. \n",
      "#\n",
      "# -----------------\n",
      "# Grading Notes\n",
      "# \n",
      "# Muliple correct answers will be accepted in cases \n",
      "# where the best hand is ambiguous (for example, if \n",
      "# you have 4 kings and 3 queens, there are three best\n",
      "# hands: 4 kings along with any of the three queens).\n",
      "\n",
      "import itertools\n",
      "\n",
      "redreps = [ r+s for r in '23456789TJQKA' for s in 'DH' ]\n",
      "blackreps = [ r+s for r in '23456789TJQKA'for s in 'CS' ]\n",
      "\n",
      "def gen_replace(hand) :\n",
      "    \"\"\" Given hand of cards, returns a list of the possible ways to replace\n",
      "        any jokers in the hand\"\"\"\n",
      "    newhand = hand\n",
      "    replacements = [[]]\n",
      "    if '?R' in hand :\n",
      "        newhand.remove('?R')\n",
      "        replacements = [[r] for r in redreps]\n",
      "    if '?B' in hand :\n",
      "        newhand.remove('?B')\n",
      "        replacements = [h+[b] for b in blackreps for h in replacements]\n",
      "    return [hand + rep for rep in replacements ] \n",
      "\n",
      "def best_hand(hand):\n",
      "    return max(itertools.combinations(hand,5), key=hand_rank)\n",
      "\n",
      "def best_wild_hand(hand):\n",
      "    \"Try all values for jokers in all 5-card selections.\"\n",
      "    replaced_hands = gen_replace(hand)\n",
      "    return max([best_hand(h) for h in replaced_hands], key=hand_rank)\n",
      "\n",
      "def test_best_wild_hand():\n",
      "    assert (sorted(best_wild_hand(\"6C 7C 8C 9C TC 5C ?B\".split()))\n",
      "            == ['7C', '8C', '9C', 'JC', 'TC'])\n",
      "    assert (sorted(best_wild_hand(\"TD TC 5H 5C 7C ?R ?B\".split()))\n",
      "            == ['7C', 'TC', 'TD', 'TH', 'TS'])\n",
      "    assert (sorted(best_wild_hand(\"JD TC TH 7C 7D 7S 7H\".split()))\n",
      "            == ['7C', '7D', '7H', '7S', 'JD'])\n",
      "    return 'test_best_wild_hand passes'\n",
      "\n",
      "# ------------------\n",
      "# Provided Functions\n",
      "# \n",
      "# You may want to use some of the functions which\n",
      "# you have already defined in the unit to write \n",
      "# your best_hand function.\n",
      "\n",
      "def hand_rank(hand):\n",
      "    \"Return a value indicating the ranking of a hand.\"\n",
      "    ranks = card_ranks(hand) \n",
      "    if straight(ranks) and flush(hand):\n",
      "        return (8, max(ranks))\n",
      "    elif kind(4, ranks):\n",
      "        return (7, kind(4, ranks), kind(1, ranks))\n",
      "    elif kind(3, ranks) and kind(2, ranks):\n",
      "        return (6, kind(3, ranks), kind(2, ranks))\n",
      "    elif flush(hand):\n",
      "        return (5, ranks)\n",
      "    elif straight(ranks):\n",
      "        return (4, max(ranks))\n",
      "    elif kind(3, ranks):\n",
      "        return (3, kind(3, ranks), ranks)\n",
      "    elif two_pair(ranks):\n",
      "        return (2, two_pair(ranks), ranks)\n",
      "    elif kind(2, ranks):\n",
      "        return (1, kind(2, ranks), ranks)\n",
      "    else:\n",
      "        return (0, ranks)\n",
      "    \n",
      "def card_ranks(hand):\n",
      "    \"Return a list of the ranks, sorted with higher first.\"\n",
      "    ranks = ['--23456789TJQKA'.index(r) for r, s in hand]\n",
      "    ranks.sort(reverse = True)\n",
      "    return [5, 4, 3, 2, 1] if (ranks == [14, 5, 4, 3, 2]) else ranks\n",
      "\n",
      "def flush(hand):\n",
      "    \"Return True if all the cards have the same suit.\"\n",
      "    suits = [s for r,s in hand]\n",
      "    return len(set(suits)) == 1\n",
      "\n",
      "def straight(ranks):\n",
      "    \"\"\"Return True if the ordered \n",
      "    ranks form a 5-card straight.\"\"\"\n",
      "    return (max(ranks)-min(ranks) == 4) and len(set(ranks)) == 5\n",
      "\n",
      "def kind(n, ranks):\n",
      "    \"\"\"Return the first rank that this hand has \n",
      "    exactly n-of-a-kind of. Return None if there \n",
      "    is no n-of-a-kind in the hand.\"\"\"\n",
      "    for r in ranks:\n",
      "        if ranks.count(r) == n: return r\n",
      "    return None\n",
      "\n",
      "def two_pair(ranks):\n",
      "    \"\"\"If there are two pair here, return the two \n",
      "    ranks of the two pairs, else None.\"\"\"\n",
      "    pair = kind(2, ranks)\n",
      "    lowpair = kind(2, list(reversed(ranks)))\n",
      "    if pair and lowpair != pair:\n",
      "        return (pair, lowpair)\n",
      "    else:\n",
      "        return None \n"
     ],
     "language": "python",
     "metadata": {},
     "outputs": [],
     "prompt_number": 51
    },
    {
     "cell_type": "heading",
     "level": 2,
     "metadata": {},
     "source": [
      "Scratch Work"
     ]
    },
    {
     "cell_type": "code",
     "collapsed": false,
     "input": [
      "redreps = [ r+s for r in '23456789TJQKA' for s in 'DH' ]\n",
      "blackreps = [ r+s for r in '23456789TJQKA'for s in 'CS' ]\n",
      "\n",
      "def gen_replace(hand) :\n",
      "    \"\"\" Given hand of cards, returns a list of the possible ways to replace\n",
      "        any jokers in the hand\"\"\"\n",
      "    newhand = hand\n",
      "    replacements = [[]]\n",
      "    if '?R' in hand :\n",
      "        newhand.remove('?R')\n",
      "        replacements = [[r] for r in redreps]\n",
      "    if '?B' in hand :\n",
      "        newhand.remove('?B')\n",
      "        replacements = [h+[b] for b in blackreps for h in replacements]\n",
      "    return [hand + rep for rep in replacements ] \n",
      "\n",
      "def best_hand(hand):\n",
      "    return max(itertools.combinations(hand,5), key=hand_rank)\n",
      "\n",
      "def best_wild_hand(hand):\n",
      "    \"Try all values for jokers in all 5-card selections.\"\n",
      "    replaced_hands = gen_replace(hand)\n",
      "    return max([best_hand(h) for h in replaced_hands], key=hand_rank)\n",
      "    \n",
      "# def gen_hands(hand, replacements) :\n",
      "#     \"\"\" Given hand and replacements list for any jokers in hand, returns a \n",
      "#         list of the possible hands that can be played with the replacements\"\"\"\n",
      "#     return [hand + rep for rep in replacements ] \n"
     ],
     "language": "python",
     "metadata": {},
     "outputs": [],
     "prompt_number": 52
    },
    {
     "cell_type": "code",
     "collapsed": false,
     "input": [
      "def test() :\n",
      "    withblackjoker = \"6C 7C 8C 9C TC 5C ?B\".split()\n",
      "    withredjoker = \"6C 7C 8C 9C TC 5C ?R\".split()\n",
      "    withboth = \"TD TC 5H 5C 7C ?R ?B\".split()\n",
      "    neitherjoker = \"JD TC TH 7C 7D 7S 7H\".split()\n",
      "    assert gen_replace(withblackjoker) == [ \"6C 7C 8C 9C TC 5C\".split() + [b] for b in blackreps]\n",
      "    assert gen_replace(withredjoker) == [ \"6C 7C 8C 9C TC 5C\".split() + [r] for r in redreps]\n",
      "    assert sorted(gen_replace(withboth)) == \\\n",
      "        sorted([ \"TD TC 5H 5C 7C\".split() + [r, b] for r in redreps for b in blackreps ])\n",
      "    assert gen_replace(neitherjoker) == [\"JD TC TH 7C 7D 7S 7H\".split()]\n",
      "\n",
      "    assert (sorted(best_wild_hand(\"6C 7C 8C 9C TC 5C ?B\".split()))\n",
      "            == ['7C', '8C', '9C', 'JC', 'TC'])\n",
      "    assert (sorted(best_wild_hand(\"TD TC 5H 5C 7C ?R ?B\".split()))\n",
      "            == ['7C', 'TC', 'TC', 'TD', 'TD'])\n",
      "    assert (sorted(best_wild_hand(\"JD TC TH 7C 7D 7S 7H\".split()))\n",
      "            == ['7C', '7D', '7H', '7S', 'JD'])\n",
      "    return 'test_best_wild_hand passes'"
     ],
     "language": "python",
     "metadata": {},
     "outputs": [],
     "prompt_number": 62
    },
    {
     "cell_type": "code",
     "collapsed": false,
     "input": [
      "sorted(best_wild_hand(\"TD TC 5H 5C 7C ?R ?B\".split()))"
     ],
     "language": "python",
     "metadata": {},
     "outputs": [
      {
       "metadata": {},
       "output_type": "pyout",
       "prompt_number": 63,
       "text": [
        "['7C', 'TC', 'TC', 'TD', 'TD']"
       ]
      }
     ],
     "prompt_number": 63
    },
    {
     "cell_type": "code",
     "collapsed": false,
     "input": [
      "test()"
     ],
     "language": "python",
     "metadata": {},
     "outputs": [
      {
       "metadata": {},
       "output_type": "pyout",
       "prompt_number": 64,
       "text": [
        "'test_best_wild_hand passes'"
       ]
      }
     ],
     "prompt_number": 64
    },
    {
     "cell_type": "code",
     "collapsed": false,
     "input": [
      "gen_replace(\"TD TC 5H 5C 7C ?R ?B\".split()) == [ [r, b] for r in redreps for b in blackreps ]"
     ],
     "language": "python",
     "metadata": {},
     "outputs": [
      {
       "metadata": {},
       "output_type": "pyout",
       "prompt_number": 29,
       "text": [
        "False"
       ]
      }
     ],
     "prompt_number": 29
    },
    {
     "cell_type": "code",
     "collapsed": false,
     "input": [
      "len(gen_replace(\"TD TC 5H 5C 7C ?R ?B\".split()))"
     ],
     "language": "python",
     "metadata": {},
     "outputs": [
      {
       "metadata": {},
       "output_type": "pyout",
       "prompt_number": 30,
       "text": [
        "676"
       ]
      }
     ],
     "prompt_number": 30
    },
    {
     "cell_type": "code",
     "collapsed": false,
     "input": [
      "len([ [r, b] for r in redreps for b in blackreps ])"
     ],
     "language": "python",
     "metadata": {},
     "outputs": [
      {
       "metadata": {},
       "output_type": "pyout",
       "prompt_number": 31,
       "text": [
        "676"
       ]
      }
     ],
     "prompt_number": 31
    },
    {
     "cell_type": "code",
     "collapsed": false,
     "input": [
      "withblackjoker = \"6C 7C 8C 9C TC 5C\".split()\n",
      "withblackjoker\n",
      "withblackjoker.remove('?B')\n",
      "sol = [ \"6C 7C 8C 9C TC 5C\".split() + [b] for b in blackreps]"
     ],
     "language": "python",
     "metadata": {},
     "outputs": [],
     "prompt_number": 40
    },
    {
     "cell_type": "code",
     "collapsed": false,
     "input": [
      "\n",
      "sol"
     ],
     "language": "python",
     "metadata": {},
     "outputs": [
      {
       "metadata": {},
       "output_type": "pyout",
       "prompt_number": 43,
       "text": [
        "[['6C', '7C', '8C', '9C', 'TC', '5C', '2C'],\n",
        " ['6C', '7C', '8C', '9C', 'TC', '5C', '2S'],\n",
        " ['6C', '7C', '8C', '9C', 'TC', '5C', '3C'],\n",
        " ['6C', '7C', '8C', '9C', 'TC', '5C', '3S'],\n",
        " ['6C', '7C', '8C', '9C', 'TC', '5C', '4C'],\n",
        " ['6C', '7C', '8C', '9C', 'TC', '5C', '4S'],\n",
        " ['6C', '7C', '8C', '9C', 'TC', '5C', '5C'],\n",
        " ['6C', '7C', '8C', '9C', 'TC', '5C', '5S'],\n",
        " ['6C', '7C', '8C', '9C', 'TC', '5C', '6C'],\n",
        " ['6C', '7C', '8C', '9C', 'TC', '5C', '6S'],\n",
        " ['6C', '7C', '8C', '9C', 'TC', '5C', '7C'],\n",
        " ['6C', '7C', '8C', '9C', 'TC', '5C', '7S'],\n",
        " ['6C', '7C', '8C', '9C', 'TC', '5C', '8C'],\n",
        " ['6C', '7C', '8C', '9C', 'TC', '5C', '8S'],\n",
        " ['6C', '7C', '8C', '9C', 'TC', '5C', '9C'],\n",
        " ['6C', '7C', '8C', '9C', 'TC', '5C', '9S'],\n",
        " ['6C', '7C', '8C', '9C', 'TC', '5C', 'TC'],\n",
        " ['6C', '7C', '8C', '9C', 'TC', '5C', 'TS'],\n",
        " ['6C', '7C', '8C', '9C', 'TC', '5C', 'JC'],\n",
        " ['6C', '7C', '8C', '9C', 'TC', '5C', 'JS'],\n",
        " ['6C', '7C', '8C', '9C', 'TC', '5C', 'QC'],\n",
        " ['6C', '7C', '8C', '9C', 'TC', '5C', 'QS'],\n",
        " ['6C', '7C', '8C', '9C', 'TC', '5C', 'KC'],\n",
        " ['6C', '7C', '8C', '9C', 'TC', '5C', 'KS'],\n",
        " ['6C', '7C', '8C', '9C', 'TC', '5C', 'AC'],\n",
        " ['6C', '7C', '8C', '9C', 'TC', '5C', 'AS']]"
       ]
      }
     ],
     "prompt_number": 43
    },
    {
     "cell_type": "code",
     "collapsed": false,
     "input": [
      "### Norvig's solution to Hw1, problem 2: Jokers\n",
      "\n",
      "import itertools\n",
      "\n",
      "allranks = '23456789TJQKA'\n",
      "redcards = [r+s for r in allranks for s in 'DH' ]\n",
      "blackcards = [r+s for r in allranks for s in 'SC' ]\n",
      "\n",
      "def best_wild_hand(hand) :\n",
      "    \"Try all values for jokers in all 5-card selections\"\n",
      "    hands = set(best_hand(h)\n",
      "                for h in itertools.product(*map(replacements, hand)))\n",
      "    return max(hands, key=hand_rank)\n",
      "\n",
      "def replacements(card) :\n",
      "    \"\"\"Return a list of the possible replacements for a card.\n",
      "    There will be more than 1 only for wild cards.\"\"\"\n",
      "    if card == '?B' : return blackcards\n",
      "    elif card == '?R' : return redcards \n",
      "    else: return [card]\n"
     ],
     "language": "python",
     "metadata": {},
     "outputs": [],
     "prompt_number": 68
    },
    {
     "cell_type": "heading",
     "level": 2,
     "metadata": {},
     "source": [
      "Solutions and Testing comparing speeds with cProfiles"
     ]
    },
    {
     "cell_type": "code",
     "collapsed": false,
     "input": [
      "##Provided\n",
      "\n",
      "# ------------------\n",
      "# Provided Functions\n",
      "# \n",
      "# You may want to use some of the functions which\n",
      "# you have already defined in the unit to write \n",
      "# your best_hand function.\n",
      "\n",
      "def hand_rank(hand):\n",
      "    \"Return a value indicating the ranking of a hand.\"\n",
      "    ranks = card_ranks(hand) \n",
      "    if straight(ranks) and flush(hand):\n",
      "        return (8, max(ranks))\n",
      "    elif kind(4, ranks):\n",
      "        return (7, kind(4, ranks), kind(1, ranks))\n",
      "    elif kind(3, ranks) and kind(2, ranks):\n",
      "        return (6, kind(3, ranks), kind(2, ranks))\n",
      "    elif flush(hand):\n",
      "        return (5, ranks)\n",
      "    elif straight(ranks):\n",
      "        return (4, max(ranks))\n",
      "    elif kind(3, ranks):\n",
      "        return (3, kind(3, ranks), ranks)\n",
      "    elif two_pair(ranks):\n",
      "        return (2, two_pair(ranks), ranks)\n",
      "    elif kind(2, ranks):\n",
      "        return (1, kind(2, ranks), ranks)\n",
      "    else:\n",
      "        return (0, ranks)\n",
      "    \n",
      "def card_ranks(hand):\n",
      "    \"Return a list of the ranks, sorted with higher first.\"\n",
      "    ranks = ['--23456789TJQKA'.index(r) for r, s in hand]\n",
      "    ranks.sort(reverse = True)\n",
      "    return [5, 4, 3, 2, 1] if (ranks == [14, 5, 4, 3, 2]) else ranks\n",
      "\n",
      "def flush(hand):\n",
      "    \"Return True if all the cards have the same suit.\"\n",
      "    suits = [s for r,s in hand]\n",
      "    return len(set(suits)) == 1\n",
      "\n",
      "def straight(ranks):\n",
      "    \"\"\"Return True if the ordered \n",
      "    ranks form a 5-card straight.\"\"\"\n",
      "    return (max(ranks)-min(ranks) == 4) and len(set(ranks)) == 5\n",
      "\n",
      "def kind(n, ranks):\n",
      "    \"\"\"Return the first rank that this hand has \n",
      "    exactly n-of-a-kind of. Return None if there \n",
      "    is no n-of-a-kind in the hand.\"\"\"\n",
      "    for r in ranks:\n",
      "        if ranks.count(r) == n: return r\n",
      "    return None\n",
      "\n",
      "def two_pair(ranks):\n",
      "    \"\"\"If there are two pair here, return the two \n",
      "    ranks of the two pairs, else None.\"\"\"\n",
      "    pair = kind(2, ranks)\n",
      "    lowpair = kind(2, list(reversed(ranks)))\n",
      "    if pair and lowpair != pair:\n",
      "        return (pair, lowpair)\n",
      "    else:\n",
      "        return None \n"
     ],
     "language": "python",
     "metadata": {},
     "outputs": [],
     "prompt_number": 70
    },
    {
     "cell_type": "code",
     "collapsed": false,
     "input": [
      "#my solution\n",
      "\n",
      "redreps = [ r+s for r in '23456789TJQKA' for s in 'DH' ]\n",
      "blackreps = [ r+s for r in '23456789TJQKA'for s in 'CS' ]\n",
      "\n",
      "\n",
      "def best_wild_hand(hand):\n",
      "    \"Try all values for jokers in all 5-card selections.\"\n",
      "    replaced_hands = gen_replace(hand)\n",
      "    return max([best_hand(h) for h in replaced_hands], key=hand_rank)\n",
      "\n",
      "def gen_replace(hand) :\n",
      "    \"\"\" Given hand of cards, returns a list of the possible ways to replace\n",
      "        any jokers in the hand\"\"\"\n",
      "    newhand = hand\n",
      "    replacements = [[]]\n",
      "    if '?R' in hand :\n",
      "        newhand.remove('?R')\n",
      "        replacements = [[r] for r in redreps]\n",
      "    if '?B' in hand :\n",
      "        newhand.remove('?B')\n",
      "        replacements = [h+[b] for b in blackreps for h in replacements]\n",
      "    return [hand + rep for rep in replacements ] \n",
      "\n",
      "def best_hand(hand):\n",
      "    return max(itertools.combinations(hand,5), key=hand_rank)\n",
      "    "
     ],
     "language": "python",
     "metadata": {},
     "outputs": [],
     "prompt_number": 87
    },
    {
     "cell_type": "code",
     "collapsed": false,
     "input": [
      "import itertools"
     ],
     "language": "python",
     "metadata": {},
     "outputs": [],
     "prompt_number": 1
    },
    {
     "cell_type": "code",
     "collapsed": false,
     "input": [
      "### Norvig's solution to Hw1, problem 2: Jokers\n",
      "\n",
      "import itertools\n",
      "\n",
      "allranks = '23456789TJQKA'\n",
      "redcards = [r+s for r in allranks for s in 'DH' ]\n",
      "blackcards = [r+s for r in allranks for s in 'SC' ]\n",
      "\n",
      "def best_wild_hand(hand) :\n",
      "    \"Try all values for jokers in all 5-card selections\"\n",
      "    hands = set(best_hand(h)\n",
      "                for h in itertools.product(*map(replacements, hand))) # '*'returns list obj unpacked as arguments to a function\n",
      "    return max(hands, key=hand_rank) # itertools.product(listA,listB,...) gives all cross products \n",
      "\n",
      "def replacements(card) :\n",
      "    \"\"\"Return a list of the possible replacements for a card.\n",
      "    There will be more than 1 only for wild cards.\"\"\"\n",
      "    if card == '?B' : return blackcards\n",
      "    elif card == '?R' : return redcards \n",
      "    else: return [card]\n",
      "    \n",
      "def best_hand(hand):\n",
      "    return max(itertools.combinations(hand,5), key=hand_rank)"
     ],
     "language": "python",
     "metadata": {},
     "outputs": [],
     "prompt_number": 84
    },
    {
     "cell_type": "code",
     "collapsed": false,
     "input": [
      "\"\"\"\n",
      "Norvig's is ultimately the same idea of generating all the possible 7-card hands and then\n",
      "for each returning the best 5-card hand possible and finally choosing the max of those\n",
      "\n",
      "Correctness - for the sake of the problem (7-card with 2 jokers) we both return correct hands \n",
      "                as long as I am allowed to return hands with duplicate cards (from joker substitution)\n",
      "\n",
      "Efficiency - the set function saves max from doing as much work as I had it do... but similar\n",
      "            running times for all intents and purposes\n",
      "            \n",
      "Elegance - His code is more elegent in dealing with jokers on the 'card' level rather than the\n",
      "            'hand' level as I do in the gen_replace function\n",
      "\n",
      "Features - His code allows for cards with more than one joker of each type in a given hand\n",
      "\"\"\""
     ],
     "language": "python",
     "metadata": {},
     "outputs": []
    },
    {
     "cell_type": "code",
     "collapsed": false,
     "input": [
      "import cProfile"
     ],
     "language": "python",
     "metadata": {},
     "outputs": [],
     "prompt_number": 74
    },
    {
     "cell_type": "code",
     "collapsed": false,
     "input": [
      "#cases\n",
      "cases = [\"6C 7C 8C 9C TC 5C ?B\".split(),\n",
      "            \"6C 7C 8C 9C TC 5C ?R\".split(),\n",
      "            \"TD TC 5H 5C 7C ?R ?B\".split(),\n",
      "            \"JD TC TH 7C 7D 7S 7H\".split()]\n",
      "\n",
      "def test_bestwildhand(fn) :\n",
      "    return [fn(case) for case in cases]"
     ],
     "language": "python",
     "metadata": {},
     "outputs": [],
     "prompt_number": 80
    },
    {
     "cell_type": "code",
     "collapsed": false,
     "input": [
      "#my profile\n",
      "cProfile.run('test_bestwildhand(best_wild_hand)')"
     ],
     "language": "python",
     "metadata": {},
     "outputs": [
      {
       "output_type": "stream",
       "stream": "stdout",
       "text": [
        "         1219 function calls (1159 primitive calls) in 0.001 seconds\n",
        "\n",
        "   Ordered by: standard name\n",
        "\n",
        "   ncalls  tottime  percall  cumtime  percall filename:lineno(function)\n",
        "       38    0.000    0.000    0.001    0.000 <ipython-input-70-3912289b94ea>:10(hand_rank)\n",
        "       38    0.000    0.000    0.000    0.000 <ipython-input-70-3912289b94ea>:32(card_ranks)\n",
        "       30    0.000    0.000    0.000    0.000 <ipython-input-70-3912289b94ea>:38(flush)\n",
        "       54    0.000    0.000    0.000    0.000 <ipython-input-70-3912289b94ea>:43(straight)\n",
        "      144    0.000    0.000    0.000    0.000 <ipython-input-70-3912289b94ea>:48(kind)\n",
        "       16    0.000    0.000    0.000    0.000 <ipython-input-70-3912289b94ea>:56(two_pair)\n",
        "        1    0.000    0.000    0.001    0.001 <ipython-input-80-9682dc4d2285>:7(test_bestwildhand)\n",
        "        4    0.000    0.000    0.001    0.000 <ipython-input-87-b3c251460ff1>:19(best_hand)\n",
        "        4    0.000    0.000    0.001    0.000 <ipython-input-87-b3c251460ff1>:22(best_wild_hand)\n",
        "        4    0.000    0.000    0.000    0.000 <ipython-input-87-b3c251460ff1>:6(gen_replace)\n",
        "        1    0.000    0.000    0.001    0.001 <string>:1(<module>)\n",
        "       66    0.000    0.000    0.000    0.000 {len}\n",
        "     68/8    0.000    0.000    0.001    0.000 {max}\n",
        "      468    0.000    0.000    0.000    0.000 {method 'count' of 'list' objects}\n",
        "        1    0.000    0.000    0.000    0.000 {method 'disable' of '_lsprof.Profiler' objects}\n",
        "      190    0.000    0.000    0.000    0.000 {method 'index' of 'str' objects}\n",
        "       38    0.000    0.000    0.000    0.000 {method 'sort' of 'list' objects}\n",
        "       54    0.000    0.000    0.000    0.000 {min}\n",
        "\n",
        "\n"
       ]
      }
     ],
     "prompt_number": 88
    },
    {
     "cell_type": "code",
     "collapsed": false,
     "input": [
      "#Norvig's profile\n",
      "cProfile.run('test_bestwildhand(best_wild_hand)')"
     ],
     "language": "python",
     "metadata": {},
     "outputs": [
      {
       "output_type": "stream",
       "stream": "stdout",
       "text": [
        "         1251 function calls (1191 primitive calls) in 0.001 seconds\n",
        "\n",
        "   Ordered by: standard name\n",
        "\n",
        "   ncalls  tottime  percall  cumtime  percall filename:lineno(function)\n",
        "       38    0.000    0.000    0.001    0.000 <ipython-input-70-3912289b94ea>:10(hand_rank)\n",
        "       38    0.000    0.000    0.000    0.000 <ipython-input-70-3912289b94ea>:32(card_ranks)\n",
        "       30    0.000    0.000    0.000    0.000 <ipython-input-70-3912289b94ea>:38(flush)\n",
        "       54    0.000    0.000    0.000    0.000 <ipython-input-70-3912289b94ea>:43(straight)\n",
        "      144    0.000    0.000    0.000    0.000 <ipython-input-70-3912289b94ea>:48(kind)\n",
        "       16    0.000    0.000    0.000    0.000 <ipython-input-70-3912289b94ea>:56(two_pair)\n",
        "        1    0.000    0.000    0.001    0.001 <ipython-input-80-9682dc4d2285>:7(test_bestwildhand)\n",
        "        4    0.000    0.000    0.001    0.000 <ipython-input-82-b3c251460ff1>:19(best_hand)\n",
        "        8    0.000    0.000    0.001    0.000 <ipython-input-84-ac36ee4284a6>:11(<genexpr>)\n",
        "       24    0.000    0.000    0.000    0.000 <ipython-input-84-ac36ee4284a6>:15(replacements)\n",
        "        4    0.000    0.000    0.001    0.000 <ipython-input-84-ac36ee4284a6>:9(best_wild_hand)\n",
        "        1    0.000    0.000    0.001    0.001 <string>:1(<module>)\n",
        "       66    0.000    0.000    0.000    0.000 {len}\n",
        "        4    0.000    0.000    0.000    0.000 {map}\n",
        "     68/8    0.000    0.000    0.001    0.000 {max}\n",
        "      468    0.000    0.000    0.000    0.000 {method 'count' of 'list' objects}\n",
        "        1    0.000    0.000    0.000    0.000 {method 'disable' of '_lsprof.Profiler' objects}\n",
        "      190    0.000    0.000    0.000    0.000 {method 'index' of 'str' objects}\n",
        "       38    0.000    0.000    0.000    0.000 {method 'sort' of 'list' objects}\n",
        "       54    0.000    0.000    0.000    0.000 {min}\n",
        "\n",
        "\n"
       ]
      }
     ],
     "prompt_number": 86
    },
    {
     "cell_type": "code",
     "collapsed": false,
     "input": [],
     "language": "python",
     "metadata": {},
     "outputs": []
    }
   ],
   "metadata": {}
  }
 ]
}