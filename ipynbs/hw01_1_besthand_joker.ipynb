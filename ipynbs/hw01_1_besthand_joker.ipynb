{
 "metadata": {
  "name": ""
 },
 "nbformat": 3,
 "nbformat_minor": 0,
 "worksheets": [
  {
   "cells": [
    {
     "cell_type": "code",
     "collapsed": false,
     "input": [],
     "language": "python",
     "metadata": {},
     "outputs": [],
     "prompt_number": 1
    },
    {
     "cell_type": "code",
     "collapsed": false,
     "input": [],
     "language": "python",
     "metadata": {},
     "outputs": []
    },
    {
     "cell_type": "code",
     "collapsed": false,
     "input": [
      "redreps = [ r+s for r in '23456789TJQKA' for s in 'DH' ]\n",
      "blackreps = [ r+s for r in '23456789TJQKA'for s in 'CS' ]"
     ],
     "language": "python",
     "metadata": {},
     "outputs": [],
     "prompt_number": 8
    },
    {
     "cell_type": "code",
     "collapsed": false,
     "input": [
      "def gen_replace(hand) :\n",
      "    \"\"\" Given hand of cards, returns a list of the possible ways to replace\n",
      "        any jokers in the hand\"\"\"\n",
      "    replacements = [[]]\n",
      "    if '?R' in hand :\n",
      "        hand.pop('?R')\n",
      "        replacements = [[r] for r in redreps]\n",
      "    if '?B' in hand :\n",
      "        hand.pop('?B')\n",
      "        replacements = [h+[b] for b in blackreps for h in replacements]\n",
      "    return [hand + rep for rep in replacements ] \n",
      "    \n",
      "    \n",
      "# def gen_hands(hand, replacements) :\n",
      "#     \"\"\" Given hand and replacements list for any jokers in hand, returns a \n",
      "#         list of the possible hands that can be played with the replacements\"\"\"\n",
      "#     return [hand + rep for rep in replacements ] \n"
     ],
     "language": "python",
     "metadata": {},
     "outputs": [],
     "prompt_number": 34
    },
    {
     "cell_type": "code",
     "collapsed": false,
     "input": [
      "def test() :\n",
      "    assert gen_replace(\"6C 7C 8C 9C TC 5C ?B\".split()) == [[b] for b in blackreps]\n",
      "    assert gen_replace(\"6C 7C 8C 9C TC 5C ?R\".split()) == [[r] for r in redreps]\n",
      "    assert sorted(gen_replace(\"TD TC 5H 5C 7C ?R ?B\".split())) == \\\n",
      "        sorted([ [r, b] for r in redreps for b in blackreps ])\n",
      "    assert gen_replace(\"JD TC TH 7C 7D 7S 7H\".split()) == [[]]\n",
      "    \n",
      "    assert gen_hands(\"6C 7C 8C 9C TC 5C ?R\".split())\n",
      "    assert gen_hands(\"TD TC 5H 5C 7C ?R ?B\".split()"
     ],
     "language": "python",
     "metadata": {},
     "outputs": [],
     "prompt_number": 32
    },
    {
     "cell_type": "code",
     "collapsed": false,
     "input": [
      "test()"
     ],
     "language": "python",
     "metadata": {},
     "outputs": [],
     "prompt_number": 33
    },
    {
     "cell_type": "code",
     "collapsed": false,
     "input": [
      "gen_replace(\"TD TC 5H 5C 7C ?R ?B\".split()) == [ [r, b] for r in redreps for b in blackreps ]"
     ],
     "language": "python",
     "metadata": {},
     "outputs": [
      {
       "metadata": {},
       "output_type": "pyout",
       "prompt_number": 29,
       "text": [
        "False"
       ]
      }
     ],
     "prompt_number": 29
    },
    {
     "cell_type": "code",
     "collapsed": false,
     "input": [
      "len(gen_replace(\"TD TC 5H 5C 7C ?R ?B\".split()))"
     ],
     "language": "python",
     "metadata": {},
     "outputs": [
      {
       "metadata": {},
       "output_type": "pyout",
       "prompt_number": 30,
       "text": [
        "676"
       ]
      }
     ],
     "prompt_number": 30
    },
    {
     "cell_type": "code",
     "collapsed": false,
     "input": [
      "len([ [r, b] for r in redreps for b in blackreps ])"
     ],
     "language": "python",
     "metadata": {},
     "outputs": [
      {
       "metadata": {},
       "output_type": "pyout",
       "prompt_number": 31,
       "text": [
        "676"
       ]
      }
     ],
     "prompt_number": 31
    },
    {
     "cell_type": "code",
     "collapsed": false,
     "input": [],
     "language": "python",
     "metadata": {},
     "outputs": []
    }
   ],
   "metadata": {}
  }
 ]
}