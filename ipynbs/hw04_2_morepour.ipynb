{
 "metadata": {
  "name": ""
 },
 "nbformat": 3,
 "nbformat_minor": 0,
 "worksheets": [
  {
   "cells": [
    {
     "cell_type": "heading",
     "level": 1,
     "metadata": {},
     "source": [
      "Start-off Code"
     ]
    },
    {
     "cell_type": "code",
     "collapsed": true,
     "input": [
      "# -----------------\n",
      "# User Instructions\n",
      "# \n",
      "# In this problem, you will solve the pouring problem for an arbitrary\n",
      "# number of glasses. Write a function, more_pour_problem, that takes \n",
      "# as input capacities, goal, and (optionally) start. This function should \n",
      "# return a path of states and actions.\n",
      "#\n",
      "# Capacities is a tuple of numbers, where each number represents the \n",
      "# volume of a glass. \n",
      "#\n",
      "# Goal is the desired volume and start is a tuple of the starting levels\n",
      "# in each glass. Start defaults to None (all glasses empty).\n",
      "#\n",
      "# The returned path should look like [state, action, state, action, ... ]\n",
      "# where state is a tuple of volumes and action is one of ('fill', i), \n",
      "# ('empty', i), ('pour', i, j) where i and j are indices indicating the \n",
      "# glass number. \n",
      "\n",
      "\n",
      "\n",
      "def more_pour_problem(capacities, goal, start=None):\n",
      "    \"\"\"The first argument is a tuple of capacities (numbers) of glasses; the\n",
      "    goal is a number which we must achieve in some glass.  start is a tuple\n",
      "    of starting levels for each glass; if None, that means 0 for all.\n",
      "    Start at start state and follow successors until we reach the goal.\n",
      "    Keep track of frontier and previously explored; fail when no frontier.\n",
      "    On success return a path: a [state, action, state2, ...] list, where an\n",
      "    action is one of ('fill', i), ('empty', i), ('pour', i, j), where\n",
      "    i and j are indices indicating the glass number.\"\"\"\n",
      "    # your code here\n",
      "    \n",
      "    \n",
      "def shortest_path_search(start, successors, is_goal):\n",
      "    \"\"\"Find the shortest path from start state to a state\n",
      "    such that is_goal(state) is true.\"\"\"\n",
      "    if is_goal(start):\n",
      "        return [start]\n",
      "    explored = set()\n",
      "    frontier = [ [start] ] \n",
      "    while frontier:\n",
      "        path = frontier.pop(0)\n",
      "        s = path[-1]\n",
      "        for (state, action) in successors(s).items():\n",
      "            if state not in explored:\n",
      "                explored.add(state)\n",
      "                path2 = path + [action, state]\n",
      "                if is_goal(state):\n",
      "                    return path2\n",
      "                else:\n",
      "                    frontier.append(path2)\n",
      "    return Fail\n",
      "\n",
      "Fail = []\n",
      "    \n",
      "def test_more_pour():\n",
      "    assert more_pour_problem((1, 2, 4, 8), 4) == [\n",
      "        (0, 0, 0, 0), ('fill', 2), (0, 0, 4, 0)]\n",
      "    assert more_pour_problem((1, 2, 4), 3) == [\n",
      "        (0, 0, 0), ('fill', 2), (0, 0, 4), ('pour', 2, 0), (1, 0, 3)] \n",
      "    starbucks = (8, 12, 16, 20, 24)\n",
      "    assert not any(more_pour_problem(starbucks, odd) for odd in (3, 5, 7, 9))\n",
      "    assert all(more_pour_problem((1, 3, 9, 27), n) for n in range(28))\n",
      "    assert more_pour_problem((1, 3, 9, 27), 28) == []\n",
      "    return 'test_more_pour passes'\n",
      "\n",
      "print test_more_pour()"
     ],
     "language": "python",
     "metadata": {},
     "outputs": [
      {
       "ename": "AssertionError",
       "evalue": "",
       "output_type": "pyerr",
       "traceback": [
        "\u001b[0;31m---------------------------------------------------------------------------\u001b[0m\n\u001b[0;31mAssertionError\u001b[0m                            Traceback (most recent call last)",
        "\u001b[0;32m<ipython-input-1-f57b0663cd07>\u001b[0m in \u001b[0;36m<module>\u001b[0;34m()\u001b[0m\n\u001b[1;32m     65\u001b[0m     \u001b[0;32mreturn\u001b[0m \u001b[0;34m'test_more_pour passes'\u001b[0m\u001b[0;34m\u001b[0m\u001b[0m\n\u001b[1;32m     66\u001b[0m \u001b[0;34m\u001b[0m\u001b[0m\n\u001b[0;32m---> 67\u001b[0;31m \u001b[0;32mprint\u001b[0m \u001b[0mtest_more_pour\u001b[0m\u001b[0;34m(\u001b[0m\u001b[0;34m)\u001b[0m\u001b[0;34m\u001b[0m\u001b[0m\n\u001b[0m",
        "\u001b[0;32m<ipython-input-1-f57b0663cd07>\u001b[0m in \u001b[0;36mtest_more_pour\u001b[0;34m()\u001b[0m\n\u001b[1;32m     56\u001b[0m \u001b[0;32mdef\u001b[0m \u001b[0mtest_more_pour\u001b[0m\u001b[0;34m(\u001b[0m\u001b[0;34m)\u001b[0m\u001b[0;34m:\u001b[0m\u001b[0;34m\u001b[0m\u001b[0m\n\u001b[1;32m     57\u001b[0m     assert more_pour_problem((1, 2, 4, 8), 4) == [\n\u001b[0;32m---> 58\u001b[0;31m         (0, 0, 0, 0), ('fill', 2), (0, 0, 4, 0)]\n\u001b[0m\u001b[1;32m     59\u001b[0m     assert more_pour_problem((1, 2, 4), 3) == [\n\u001b[1;32m     60\u001b[0m         (0, 0, 0), ('fill', 2), (0, 0, 4), ('pour', 2, 0), (1, 0, 3)] \n",
        "\u001b[0;31mAssertionError\u001b[0m: "
       ]
      }
     ],
     "prompt_number": 1
    },
    {
     "cell_type": "markdown",
     "metadata": {},
     "source": [
      "Need to define a `successors` and a `is_goal` for the problem"
     ]
    },
    {
     "cell_type": "heading",
     "level": 2,
     "metadata": {},
     "source": [
      "Scratch work"
     ]
    },
    {
     "cell_type": "code",
     "collapsed": false,
     "input": [],
     "language": "python",
     "metadata": {},
     "outputs": []
    },
    {
     "cell_type": "heading",
     "level": 2,
     "metadata": {},
     "source": [
      "Tests"
     ]
    },
    {
     "cell_type": "code",
     "collapsed": false,
     "input": [
      "('fill',i)\n",
      "('empty',i)\n",
      "('pour',i,j)"
     ],
     "language": "python",
     "metadata": {},
     "outputs": []
    },
    {
     "cell_type": "code",
     "collapsed": false,
     "input": [
      "# for (1,2,4) cups\n",
      "\n",
      "\n",
      "zeros = (0,0,0)\n",
      "{('fill',0) : (1,0,0),\n",
      " ('fill',1) : (0,2,0),\n",
      " ('fill',2) : (0,0,4)}\n",
      "\n",
      "pours = (0,2,0) \n",
      "{('fill',0) : (1,2,0),\n",
      " ('fill',2) : (0,2,4),\n",
      " ('empty',1) : (0,0,0),\n",
      " ('pour',1,0) : (1,1,0),\n",
      " ('pour',1,2) : (0,0,2)}\n",
      "\n",
      "full = (1,2,4) \n",
      "{('empty',0) : (0,2,4),\n",
      " ('empty',1) : (1,0,4),\n",
      " ('empty',2) : (1,2,0)}\n",
      "\n",
      "# for (2,) cups\n",
      "\n",
      "zero = (0,)\n",
      "{('fill',0) : (2,)}\n",
      "\n",
      "half = (1,)\n",
      "{('empty',0) : (0,)}\n",
      "\n",
      "full = (2,)\n",
      "{('empty',0) : (0,)}\n"
     ],
     "language": "python",
     "metadata": {},
     "outputs": []
    }
   ],
   "metadata": {}
  }
 ]
}