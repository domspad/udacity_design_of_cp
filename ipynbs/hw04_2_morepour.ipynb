{
 "metadata": {
  "name": ""
 },
 "nbformat": 3,
 "nbformat_minor": 0,
 "worksheets": [
  {
   "cells": [
    {
     "cell_type": "heading",
     "level": 1,
     "metadata": {},
     "source": [
      "Start-off Code"
     ]
    },
    {
     "cell_type": "code",
     "collapsed": true,
     "input": [
      "# -----------------\n",
      "# User Instructions\n",
      "# \n",
      "# In this problem, you will solve the pouring problem for an arbitrary\n",
      "# number of glasses. Write a function, more_pour_problem, that takes \n",
      "# as input capacities, goal, and (optionally) start. This function should \n",
      "# return a path of states and actions.\n",
      "#\n",
      "# Capacities is a tuple of numbers, where each number represents the \n",
      "# volume of a glass. \n",
      "#\n",
      "# Goal is the desired volume and start is a tuple of the starting levels\n",
      "# in each glass. Start defaults to None (all glasses empty).\n",
      "#\n",
      "# The returned path should look like [state, action, state, action, ... ]\n",
      "# where state is a tuple of volumes and action is one of ('fill', i), \n",
      "# ('empty', i), ('pour', i, j) where i and j are indices indicating the \n",
      "# glass number. \n",
      "\n",
      "\n",
      "\n",
      "def more_pour_problem(capacities, goal, start=None):\n",
      "    \"\"\"The first argument is a tuple of capacities (numbers) of glasses; the\n",
      "    goal is a number which we must achieve in some glass.  start is a tuple\n",
      "    of starting levels for each glass; if None, that means 0 for all.\n",
      "    Start at start state and follow successors until we reach the goal.\n",
      "    Keep track of frontier and previously explored; fail when no frontier.\n",
      "    On success return a path: a [state, action, state2, ...] list, where an\n",
      "    action is one of ('fill', i), ('empty', i), ('pour', i, j), where\n",
      "    i and j are indices indicating the glass number.\"\"\"\n",
      "    if start is None :\n",
      "        start = (0,)*len(capacities)\n",
      "    \n",
      "    def is_goal(state) :\n",
      "        return goal in state\n",
      "    \n",
      "    def successors(state) :\n",
      "        \"\"\"(0,0), (1,2) returns {('fill', 0) : (1,0),\n",
      "                                 ('fill', 1) : (0,2)}\n",
      "        \"\"\"\n",
      "        cupnum = len(state)\n",
      "        #valid state checking\n",
      "        assert len(state) == len(capacities)\n",
      "        assert all((state[i] <= capacities[i] for i in range(len(state))))\n",
      "            \n",
      "        moves = {}\n",
      "        for i in range(cupnum) :\n",
      "            if state[i] != capacities[i] : moves[('fill',i)] = state[:i] + (capacities[i],) + state[i+1:]\n",
      "            if state[i] != 0 :\n",
      "                moves[('empty',i)] = state[:i] + (0,) + state[i+1:]\n",
      "                for j in range(0,i) :\n",
      "                    if state[j] != capacities[j] :\n",
      "                        change = min(state[i], capacities[j] - state[j])\n",
      "                        moves[('pour',i,j)] = state[:j] + (state[j]+change,) \\\n",
      "                                                + state[j+1:i] + (state[i]-change,) \\\n",
      "                                                + state[i+1:]\n",
      "                for j in range(i+1,cupnum) :\n",
      "                    if state[j] != capacities[j] :\n",
      "                        change = min(state[i], capacities[j] - state[j])\n",
      "                        moves[('pour',i,j)] = state[:i] + (state[i]-change,) \\\n",
      "                                                + state[i+1:j] + (state[j]+change,) \\\n",
      "                                                + state[j+1:]\n",
      "            \n",
      "        return moves\n",
      "    \n",
      "    return shortest_path_search(start, successors, is_goal)\n",
      "    \n",
      "def shortest_path_search(start, successors, is_goal):\n",
      "    \"\"\"Find the shortest path from start state to a state\n",
      "    such that is_goal(state) is true.\"\"\"\n",
      "    if is_goal(start):\n",
      "        return [start]\n",
      "    explored = set()\n",
      "    frontier = [ [start] ] \n",
      "    while frontier:\n",
      "        path = frontier.pop(0)\n",
      "        s = path[-1]\n",
      "        for (state, action) in successors(s).items():\n",
      "            if state not in explored:\n",
      "                explored.add(state)\n",
      "                path2 = path + [action, state]\n",
      "                if is_goal(state):\n",
      "                    return path2\n",
      "                else:\n",
      "                    frontier.append(path2)\n",
      "    return Fail\n",
      "\n",
      "Fail = []\n",
      "    \n",
      "def test_more_pour():\n",
      "    assert more_pour_problem((1, 2, 4, 8), 4) == [\n",
      "        (0, 0, 0, 0), ('fill', 2), (0, 0, 4, 0)]\n",
      "    assert more_pour_problem((1, 2, 4), 3) == [\n",
      "        (0, 0, 0), ('fill', 2), (0, 0, 4), ('pour', 2, 0), (1, 0, 3)] \n",
      "    starbucks = (8, 12, 16, 20, 24)\n",
      "    assert not any(more_pour_problem(starbucks, odd) for odd in (3, 5, 7, 9))\n",
      "    assert all(more_pour_problem((1, 3, 9, 27), n) for n in range(28))\n",
      "    assert more_pour_problem((1, 3, 9, 27), 28) == []\n",
      "    return 'test_more_pour passes'\n",
      "\n",
      "print test_more_pour()"
     ],
     "language": "python",
     "metadata": {},
     "outputs": [
      {
       "ename": "AssertionError",
       "evalue": "",
       "output_type": "pyerr",
       "traceback": [
        "\u001b[0;31m---------------------------------------------------------------------------\u001b[0m\n\u001b[0;31mAssertionError\u001b[0m                            Traceback (most recent call last)",
        "\u001b[0;32m<ipython-input-13-89c460f2ed54>\u001b[0m in \u001b[0;36m<module>\u001b[0;34m()\u001b[0m\n\u001b[1;32m     95\u001b[0m     \u001b[0;32mreturn\u001b[0m \u001b[0;34m'test_more_pour passes'\u001b[0m\u001b[0;34m\u001b[0m\u001b[0m\n\u001b[1;32m     96\u001b[0m \u001b[0;34m\u001b[0m\u001b[0m\n\u001b[0;32m---> 97\u001b[0;31m \u001b[0;32mprint\u001b[0m \u001b[0mtest_more_pour\u001b[0m\u001b[0;34m(\u001b[0m\u001b[0;34m)\u001b[0m\u001b[0;34m\u001b[0m\u001b[0m\n\u001b[0m",
        "\u001b[0;32m<ipython-input-13-89c460f2ed54>\u001b[0m in \u001b[0;36mtest_more_pour\u001b[0;34m()\u001b[0m\n\u001b[1;32m     85\u001b[0m \u001b[0;34m\u001b[0m\u001b[0m\n\u001b[1;32m     86\u001b[0m \u001b[0;32mdef\u001b[0m \u001b[0mtest_more_pour\u001b[0m\u001b[0;34m(\u001b[0m\u001b[0;34m)\u001b[0m\u001b[0;34m:\u001b[0m\u001b[0;34m\u001b[0m\u001b[0m\n\u001b[0;32m---> 87\u001b[0;31m     assert more_pour_problem((1, 2, 4, 8), 4) == [\n\u001b[0m\u001b[1;32m     88\u001b[0m         (0, 0, 0, 0), ('fill', 2), (0, 0, 4, 0)]\n\u001b[1;32m     89\u001b[0m     assert more_pour_problem((1, 2, 4), 3) == [\n",
        "\u001b[0;32m<ipython-input-13-89c460f2ed54>\u001b[0m in \u001b[0;36mmore_pour_problem\u001b[0;34m(capacities, goal, start)\u001b[0m\n\u001b[1;32m     60\u001b[0m         \u001b[0;32mreturn\u001b[0m \u001b[0mmoves\u001b[0m\u001b[0;34m\u001b[0m\u001b[0m\n\u001b[1;32m     61\u001b[0m \u001b[0;34m\u001b[0m\u001b[0m\n\u001b[0;32m---> 62\u001b[0;31m     \u001b[0;32mreturn\u001b[0m \u001b[0mshortest_path_search\u001b[0m\u001b[0;34m(\u001b[0m\u001b[0mstart\u001b[0m\u001b[0;34m,\u001b[0m \u001b[0msuccessors\u001b[0m\u001b[0;34m,\u001b[0m \u001b[0mis_goal\u001b[0m\u001b[0;34m)\u001b[0m\u001b[0;34m\u001b[0m\u001b[0m\n\u001b[0m\u001b[1;32m     63\u001b[0m \u001b[0;34m\u001b[0m\u001b[0m\n\u001b[1;32m     64\u001b[0m \u001b[0;32mdef\u001b[0m \u001b[0mshortest_path_search\u001b[0m\u001b[0;34m(\u001b[0m\u001b[0mstart\u001b[0m\u001b[0;34m,\u001b[0m \u001b[0msuccessors\u001b[0m\u001b[0;34m,\u001b[0m \u001b[0mis_goal\u001b[0m\u001b[0;34m)\u001b[0m\u001b[0;34m:\u001b[0m\u001b[0;34m\u001b[0m\u001b[0m\n",
        "\u001b[0;32m<ipython-input-13-89c460f2ed54>\u001b[0m in \u001b[0;36mshortest_path_search\u001b[0;34m(start, successors, is_goal)\u001b[0m\n\u001b[1;32m     72\u001b[0m         \u001b[0mpath\u001b[0m \u001b[0;34m=\u001b[0m \u001b[0mfrontier\u001b[0m\u001b[0;34m.\u001b[0m\u001b[0mpop\u001b[0m\u001b[0;34m(\u001b[0m\u001b[0;36m0\u001b[0m\u001b[0;34m)\u001b[0m\u001b[0;34m\u001b[0m\u001b[0m\n\u001b[1;32m     73\u001b[0m         \u001b[0ms\u001b[0m \u001b[0;34m=\u001b[0m \u001b[0mpath\u001b[0m\u001b[0;34m[\u001b[0m\u001b[0;34m-\u001b[0m\u001b[0;36m1\u001b[0m\u001b[0;34m]\u001b[0m\u001b[0;34m\u001b[0m\u001b[0m\n\u001b[0;32m---> 74\u001b[0;31m         \u001b[0;32mfor\u001b[0m \u001b[0;34m(\u001b[0m\u001b[0mstate\u001b[0m\u001b[0;34m,\u001b[0m \u001b[0maction\u001b[0m\u001b[0;34m)\u001b[0m \u001b[0;32min\u001b[0m \u001b[0msuccessors\u001b[0m\u001b[0;34m(\u001b[0m\u001b[0ms\u001b[0m\u001b[0;34m)\u001b[0m\u001b[0;34m.\u001b[0m\u001b[0mitems\u001b[0m\u001b[0;34m(\u001b[0m\u001b[0;34m)\u001b[0m\u001b[0;34m:\u001b[0m\u001b[0;34m\u001b[0m\u001b[0m\n\u001b[0m\u001b[1;32m     75\u001b[0m             \u001b[0;32mif\u001b[0m \u001b[0mstate\u001b[0m \u001b[0;32mnot\u001b[0m \u001b[0;32min\u001b[0m \u001b[0mexplored\u001b[0m\u001b[0;34m:\u001b[0m\u001b[0;34m\u001b[0m\u001b[0m\n\u001b[1;32m     76\u001b[0m                 \u001b[0mexplored\u001b[0m\u001b[0;34m.\u001b[0m\u001b[0madd\u001b[0m\u001b[0;34m(\u001b[0m\u001b[0mstate\u001b[0m\u001b[0;34m)\u001b[0m\u001b[0;34m\u001b[0m\u001b[0m\n",
        "\u001b[0;32m<ipython-input-13-89c460f2ed54>\u001b[0m in \u001b[0;36msuccessors\u001b[0;34m(state)\u001b[0m\n\u001b[1;32m     41\u001b[0m         \u001b[0mcupnum\u001b[0m \u001b[0;34m=\u001b[0m \u001b[0mlen\u001b[0m\u001b[0;34m(\u001b[0m\u001b[0mstate\u001b[0m\u001b[0;34m)\u001b[0m\u001b[0;34m\u001b[0m\u001b[0m\n\u001b[1;32m     42\u001b[0m         \u001b[0;31m#valid state checking\u001b[0m\u001b[0;34m\u001b[0m\u001b[0;34m\u001b[0m\u001b[0m\n\u001b[0;32m---> 43\u001b[0;31m         \u001b[0;32massert\u001b[0m \u001b[0mlen\u001b[0m\u001b[0;34m(\u001b[0m\u001b[0mstate\u001b[0m\u001b[0;34m)\u001b[0m \u001b[0;34m==\u001b[0m \u001b[0mlen\u001b[0m\u001b[0;34m(\u001b[0m\u001b[0mcapacities\u001b[0m\u001b[0;34m)\u001b[0m\u001b[0;34m\u001b[0m\u001b[0m\n\u001b[0m\u001b[1;32m     44\u001b[0m         \u001b[0;32massert\u001b[0m \u001b[0mall\u001b[0m\u001b[0;34m(\u001b[0m\u001b[0;34m(\u001b[0m\u001b[0mstate\u001b[0m\u001b[0;34m[\u001b[0m\u001b[0mi\u001b[0m\u001b[0;34m]\u001b[0m \u001b[0;34m<=\u001b[0m \u001b[0mcapacities\u001b[0m\u001b[0;34m[\u001b[0m\u001b[0mi\u001b[0m\u001b[0;34m]\u001b[0m \u001b[0;32mfor\u001b[0m \u001b[0mi\u001b[0m \u001b[0;32min\u001b[0m \u001b[0mrange\u001b[0m\u001b[0;34m(\u001b[0m\u001b[0mlen\u001b[0m\u001b[0;34m(\u001b[0m\u001b[0mstate\u001b[0m\u001b[0;34m)\u001b[0m\u001b[0;34m)\u001b[0m\u001b[0;34m)\u001b[0m\u001b[0;34m)\u001b[0m\u001b[0;34m\u001b[0m\u001b[0m\n\u001b[1;32m     45\u001b[0m \u001b[0;34m\u001b[0m\u001b[0m\n",
        "\u001b[0;31mAssertionError\u001b[0m: "
       ]
      }
     ],
     "prompt_number": 13
    },
    {
     "cell_type": "markdown",
     "metadata": {},
     "source": [
      "Need to define a `successors` and a `is_goal` for the problem"
     ]
    },
    {
     "cell_type": "heading",
     "level": 2,
     "metadata": {},
     "source": [
      "Scratch work"
     ]
    },
    {
     "cell_type": "code",
     "collapsed": false,
     "input": [
      "# capacities is given in previous scope\n",
      "def successors(state, capacities) :\n",
      "    \"\"\"(0,0), (1,2) returns {('fill', 0) : (1,0),\n",
      "                             ('fill', 1) : (0,2)}\n",
      "    \"\"\"\n",
      "    cupnum = len(state)\n",
      "    #valid state checking\n",
      "    assert len(state) == len(capacities)\n",
      "    assert all((state[i] <= capacities[i] for i in range(len(state))))\n",
      "        \n",
      "    moves = {}\n",
      "    for i in range(cupnum) :\n",
      "        if state[i] != capacities[i] : moves[('fill',i)] = state[:i] + (capacities[i],) + state[i+1:]\n",
      "        if state[i] != 0 :\n",
      "            moves[('empty',i)] = state[:i] + (0,) + state[i+1:]\n",
      "            for j in range(0,i) :\n",
      "                if state[j] != capacities[j] :\n",
      "                    change = min(state[i], capacities[j] - state[j])\n",
      "                    moves[('pour',i,j)] = state[:j] + (state[j]+change,) \\\n",
      "                                            + state[j+1:i] + (state[i]-change,) \\\n",
      "                                            + state[i+1:]\n",
      "            for j in range(i+1,cupnum) :\n",
      "                if state[j] != capacities[j] :\n",
      "                    change = min(state[i], capacities[j] - state[j])\n",
      "                    moves[('pour',i,j)] = state[:i] + (state[i]-change,) \\\n",
      "                                            + state[i+1:j] + (state[j]+change,) \\\n",
      "                                            + state[j+1:]\n",
      "        \n",
      "    return moves"
     ],
     "language": "python",
     "metadata": {},
     "outputs": [],
     "prompt_number": 6
    },
    {
     "cell_type": "code",
     "collapsed": true,
     "input": [
      "tup = (1,2,4)\n",
      "tup[2] = 3"
     ],
     "language": "python",
     "metadata": {},
     "outputs": [
      {
       "ename": "TypeError",
       "evalue": "'tuple' object does not support item assignment",
       "output_type": "pyerr",
       "traceback": [
        "\u001b[0;31m---------------------------------------------------------------------------\u001b[0m\n\u001b[0;31mTypeError\u001b[0m                                 Traceback (most recent call last)",
        "\u001b[0;32m<ipython-input-13-56b7dc7e6857>\u001b[0m in \u001b[0;36m<module>\u001b[0;34m()\u001b[0m\n\u001b[1;32m      1\u001b[0m \u001b[0mtup\u001b[0m \u001b[0;34m=\u001b[0m \u001b[0;34m(\u001b[0m\u001b[0;36m1\u001b[0m\u001b[0;34m,\u001b[0m\u001b[0;36m2\u001b[0m\u001b[0;34m,\u001b[0m\u001b[0;36m4\u001b[0m\u001b[0;34m)\u001b[0m\u001b[0;34m\u001b[0m\u001b[0m\n\u001b[0;32m----> 2\u001b[0;31m \u001b[0mtup\u001b[0m\u001b[0;34m[\u001b[0m\u001b[0;36m2\u001b[0m\u001b[0;34m]\u001b[0m \u001b[0;34m=\u001b[0m \u001b[0;36m3\u001b[0m\u001b[0;34m\u001b[0m\u001b[0m\n\u001b[0m",
        "\u001b[0;31mTypeError\u001b[0m: 'tuple' object does not support item assignment"
       ]
      }
     ],
     "prompt_number": 13
    },
    {
     "cell_type": "code",
     "collapsed": false,
     "input": [
      "tup"
     ],
     "language": "python",
     "metadata": {},
     "outputs": []
    },
    {
     "cell_type": "markdown",
     "metadata": {},
     "source": [
      "mapping fillable, pourable "
     ]
    },
    {
     "cell_type": "code",
     "collapsed": false,
     "input": [
      "(0,)*4"
     ],
     "language": "python",
     "metadata": {},
     "outputs": [
      {
       "metadata": {},
       "output_type": "pyout",
       "prompt_number": 11,
       "text": [
        "(0, 0, 0, 0)"
       ]
      }
     ],
     "prompt_number": 11
    },
    {
     "cell_type": "code",
     "collapsed": false,
     "input": [
      "m"
     ],
     "language": "python",
     "metadata": {},
     "outputs": []
    },
    {
     "cell_type": "markdown",
     "metadata": {},
     "source": [
      "returning updated tuple (2 spots changed)"
     ]
    },
    {
     "cell_type": "code",
     "collapsed": false,
     "input": [],
     "language": "python",
     "metadata": {},
     "outputs": []
    },
    {
     "cell_type": "code",
     "collapsed": false,
     "input": [],
     "language": "python",
     "metadata": {},
     "outputs": []
    },
    {
     "cell_type": "code",
     "collapsed": false,
     "input": [],
     "language": "python",
     "metadata": {},
     "outputs": []
    },
    {
     "cell_type": "heading",
     "level": 2,
     "metadata": {},
     "source": [
      "Tests"
     ]
    },
    {
     "cell_type": "code",
     "collapsed": true,
     "input": [
      "tests()"
     ],
     "language": "python",
     "metadata": {},
     "outputs": [
      {
       "output_type": "stream",
       "stream": "stdout",
       "text": [
        "tests passed\n"
       ]
      }
     ],
     "prompt_number": 10
    },
    {
     "cell_type": "code",
     "collapsed": false,
     "input": [
      "def tests() :\n",
      "    \"tests successors\"\n",
      "    capacities = (1,2,4)\n",
      "    zeros = (0,0,0)\n",
      "    pours = (0,2,0) \n",
      "    full = (1,2,4) \n",
      "    assert successors(zeros,capacities) == {('fill',0) : (1,0,0),\n",
      "                                             ('fill',1) : (0,2,0),\n",
      "                                             ('fill',2) : (0,0,4)}\n",
      "    assert successors(pours,capacities) == {('fill',0) : (1,2,0),\n",
      "                                             ('fill',2) : (0,2,4),\n",
      "                                             ('empty',1) : (0,0,0),\n",
      "                                             ('pour',1,0) : (1,1,0),\n",
      "                                             ('pour',1,2) : (0,0,2)}\n",
      "    assert successors(full,capacities) == {('empty',0) : (0,2,4),\n",
      "                                             ('empty',1) : (1,0,4),\n",
      "                                             ('empty',2) : (1,2,0)}\n",
      "    print \"tests passed\"\n",
      "#     capacities = (2,)\n",
      "#     zero = (0,)\n",
      "#     half = (1,)\n",
      "#     full = (2,)\n",
      "#     assert successors(zero, capacities) == {('fill',0) : (2,)}\n",
      "#     assert successors(half, capacities) == {('empty',0) : (0,)}\n",
      "#     assert successors(full, capacities) == {('empty',0) : (0,)}\n",
      "\n"
     ],
     "language": "python",
     "metadata": {},
     "outputs": [],
     "prompt_number": 9
    },
    {
     "cell_type": "code",
     "collapsed": false,
     "input": [
      "#options for actions\n",
      "('fill',i)\n",
      "('empty',i)\n",
      "('pour',i,j)"
     ],
     "language": "python",
     "metadata": {},
     "outputs": []
    },
    {
     "cell_type": "code",
     "collapsed": false,
     "input": [
      "# for (1,2,4) cups\n",
      "\n",
      "zeros = (0,0,0)\n",
      "{('fill',0) : (1,0,0),\n",
      " ('fill',1) : (0,2,0),\n",
      " ('fill',2) : (0,0,4)}\n",
      "\n",
      "pours = (0,2,0) \n",
      "{('fill',0) : (1,2,0),\n",
      " ('fill',2) : (0,2,4),\n",
      " ('empty',1) : (0,0,0),\n",
      " ('pour',1,0) : (1,1,0),\n",
      " ('pour',1,2) : (0,0,2)}\n",
      "\n",
      "full = (1,2,4) \n",
      "{('empty',0) : (0,2,4),\n",
      " ('empty',1) : (1,0,4),\n",
      " ('empty',2) : (1,2,0)}\n",
      "\n",
      "# for (2,) cups\n",
      "\n",
      "zero = (0,)\n",
      "{('fill',0) : (2,)}\n",
      "\n",
      "half = (1,)\n",
      "{('empty',0) : (0,)}\n",
      "\n",
      "full = (2,)\n",
      "{('empty',0) : (0,)}\n"
     ],
     "language": "python",
     "metadata": {},
     "outputs": []
    }
   ],
   "metadata": {}
  }
 ]
}