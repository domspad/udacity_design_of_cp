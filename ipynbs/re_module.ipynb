{
 "metadata": {
  "name": ""
 },
 "nbformat": 3,
 "nbformat_minor": 0,
 "worksheets": [
  {
   "cells": [
    {
     "cell_type": "code",
     "collapsed": false,
     "input": [
      "import re"
     ],
     "language": "python",
     "metadata": {},
     "outputs": [],
     "prompt_number": 1
    },
    {
     "cell_type": "markdown",
     "metadata": {},
     "source": [
      " - similar to Perl\n",
      " - can be Unicode or 8bit strings\n",
      " - "
     ]
    },
    {
     "cell_type": "code",
     "collapsed": false,
     "input": [
      "print \"\\\\\"\n",
      "\"\\\\\""
     ],
     "language": "python",
     "metadata": {},
     "outputs": [
      {
       "output_type": "stream",
       "stream": "stdout",
       "text": [
        "\\\n"
       ]
      },
      {
       "metadata": {},
       "output_type": "pyout",
       "prompt_number": 12,
       "text": [
        "'\\\\'"
       ]
      }
     ],
     "prompt_number": 12
    },
    {
     "cell_type": "code",
     "collapsed": false,
     "input": [
      "\"\\\""
     ],
     "language": "python",
     "metadata": {},
     "outputs": [
      {
       "ename": "SyntaxError",
       "evalue": "EOL while scanning string literal (<ipython-input-11-bdc6fd40f381>, line 1)",
       "output_type": "pyerr",
       "traceback": [
        "\u001b[0;36m  File \u001b[0;32m\"<ipython-input-11-bdc6fd40f381>\"\u001b[0;36m, line \u001b[0;32m1\u001b[0m\n\u001b[0;31m    \"\\\"\u001b[0m\n\u001b[0m      ^\u001b[0m\n\u001b[0;31mSyntaxError\u001b[0m\u001b[0;31m:\u001b[0m EOL while scanning string literal\n"
       ]
      }
     ],
     "prompt_number": 11
    },
    {
     "cell_type": "code",
     "collapsed": false,
     "input": [
      "print \"\\\\\\\\\""
     ],
     "language": "python",
     "metadata": {},
     "outputs": [
      {
       "output_type": "stream",
       "stream": "stdout",
       "text": [
        "\\\\\n"
       ]
      }
     ],
     "prompt_number": 13
    },
    {
     "cell_type": "code",
     "collapsed": false,
     "input": [
      "r\"\\n\"# raw string notation"
     ],
     "language": "python",
     "metadata": {},
     "outputs": [
      {
       "metadata": {},
       "output_type": "pyout",
       "prompt_number": 14,
       "text": [
        "'\\\\n'"
       ]
      }
     ],
     "prompt_number": 14
    },
    {
     "cell_type": "code",
     "collapsed": false,
     "input": [
      "print \"\\\\\"\n",
      "print r\"\\\\\"\n",
      "print r\"\\n\"\n",
      "print \"\\n\""
     ],
     "language": "python",
     "metadata": {},
     "outputs": [
      {
       "output_type": "stream",
       "stream": "stdout",
       "text": [
        "\\\n",
        "\\\\\n",
        "\\n\n",
        "\n",
        "\n"
       ]
      }
     ],
     "prompt_number": 27
    },
    {
     "cell_type": "heading",
     "level": 2,
     "metadata": {},
     "source": [
      "Regex syntax"
     ]
    },
    {
     "cell_type": "markdown",
     "metadata": {},
     "source": [
      "Special characters: \n",
      "\n",
      " - either stand for classes of ordinary characters or affect how the regular expressions around them are interpreted"
     ]
    },
    {
     "cell_type": "code",
     "collapsed": false,
     "input": [
      "'.^$*+?'\n",
      "\n",
      "'*? +? ??'  #non-greedy matching\n",
      "\n",
      "# AND MUCH MUCH MORE!"
     ],
     "language": "python",
     "metadata": {},
     "outputs": [
      {
       "metadata": {},
       "output_type": "pyout",
       "prompt_number": 36,
       "text": [
        "'*? +? ??'"
       ]
      }
     ],
     "prompt_number": 36
    },
    {
     "cell_type": "markdown",
     "metadata": {},
     "source": [
      "Special sequences and character classes\n",
      "\n",
      "- `\\number` contents of a group repeat `r\"(.+) \\1\"` matches `\"the the\"`\n",
      "- `\\b` matches boundary between a `\\w` and a `\\W` (non-`\\w`-character)...\n",
      "- `\\B` opposite of `\\b`\n",
      "- `\\s == [ \\t\\n\\f\\r\\v]`\n",
      "- `\\S == [^ \\t\\n\\f\\r\\v]`\n",
      "- `\\w == [a-zA-Z0-9_]`\n",
      "- `\\W` ...\n",
      "- `\\A` and `\\Z` match start and end of strings respectively"
     ]
    },
    {
     "cell_type": "markdown",
     "metadata": {},
     "source": [
      "Extensions `(?<char>...)`"
     ]
    },
    {
     "cell_type": "code",
     "collapsed": false,
     "input": [
      "# Lookahead (matches only if lookahead is in front of RE)\n",
      "\n",
      "m = re.search(r\"Lookie (?=here!)\",\"Lookie Lookie here!\")\n",
      "m.group(0)"
     ],
     "language": "python",
     "metadata": {},
     "outputs": [
      {
       "metadata": {},
       "output_type": "pyout",
       "prompt_number": 35,
       "text": [
        "'Lookie '"
       ]
      }
     ],
     "prompt_number": 35
    },
    {
     "cell_type": "code",
     "collapsed": false,
     "input": [
      "# Lookbehind\n",
      "\n",
      "re.findall(r\"(?<=here) Lookie\",\"not here Lookie Lookie here\")"
     ],
     "language": "python",
     "metadata": {},
     "outputs": [
      {
       "metadata": {},
       "output_type": "pyout",
       "prompt_number": 33,
       "text": [
        "[' Lookie']"
       ]
      }
     ],
     "prompt_number": 33
    },
    {
     "cell_type": "heading",
     "level": 2,
     "metadata": {},
     "source": [
      "`re` module contents "
     ]
    },
    {
     "cell_type": "heading",
     "level": 2,
     "metadata": {},
     "source": [
      "`re` objects"
     ]
    },
    {
     "cell_type": "heading",
     "level": 2,
     "metadata": {},
     "source": [
      "examples with `re`"
     ]
    },
    {
     "cell_type": "markdown",
     "metadata": {},
     "source": [
      "Making a Phonebook from text (splitting)"
     ]
    },
    {
     "cell_type": "code",
     "collapsed": false,
     "input": [
      "text = \"\"\"Ross McFluff: 834.345.1254 155 Elm Street\n",
      "\n",
      "Ronald Heathmore: 892.345.3428 436 Finley Avenue\n",
      "Frank Burger: 925.541.7625 662 South Dogwood Way\n",
      "\n",
      "\n",
      "Heather Albrecht: 548.326.4584 919 Park Place\"\"\""
     ],
     "language": "python",
     "metadata": {},
     "outputs": [],
     "prompt_number": 38
    },
    {
     "cell_type": "code",
     "collapsed": false,
     "input": [
      "[['Ross', 'McFluff', '834.345.1254', '155', 'Elm Street'],\n",
      "['Ronald', 'Heathmore', '892.345.3428', '436', 'Finley Avenue'],\n",
      "['Frank', 'Burger', '925.541.7625', '662', 'South Dogwood Way'],\n",
      "['Heather', 'Albrecht', '548.326.4584', '919', 'Park Place']]"
     ],
     "language": "python",
     "metadata": {},
     "outputs": [
      {
       "metadata": {},
       "output_type": "pyout",
       "prompt_number": 37,
       "text": [
        "[['Ross', 'McFluff', '834.345.1254', '155', 'Elm Street'],\n",
        " ['Ronald', 'Heathmore', '892.345.3428', '436', 'Finley Avenue'],\n",
        " ['Frank', 'Burger', '925.541.7625', '662', 'South Dogwood Way'],\n",
        " ['Heather', 'Albrecht', '548.326.4584', '919', 'Park Place']]"
       ]
      }
     ],
     "prompt_number": 37
    },
    {
     "cell_type": "markdown",
     "metadata": {},
     "source": [
      "concept inventory:\n",
      "\n",
      "- entry: [fn, ln, phone, addrnum, street]\n",
      "- iterate over lines\n",
      "- pull off each successful entry\n",
      "- split on \\n and process each line individually\n"
     ]
    },
    {
     "cell_type": "code",
     "collapsed": false,
     "input": [
      "name =\"Ross McFluff: 834.345.1254 155 Elm Street\""
     ],
     "language": "python",
     "metadata": {},
     "outputs": [],
     "prompt_number": 39
    },
    {
     "cell_type": "code",
     "collapsed": false,
     "input": [
      "pat = r\"(\\w+) (\\w+): (\\d+\\.\\d+.\\d+) (\\d+) (.+\\b)\""
     ],
     "language": "python",
     "metadata": {},
     "outputs": [],
     "prompt_number": 40
    },
    {
     "cell_type": "code",
     "collapsed": false,
     "input": [
      "re.findall(pat,name)"
     ],
     "language": "python",
     "metadata": {},
     "outputs": [
      {
       "metadata": {},
       "output_type": "pyout",
       "prompt_number": 41,
       "text": [
        "[('Ross', 'McFluff', '834.345.1254', '155', 'Elm Street')]"
       ]
      }
     ],
     "prompt_number": 41
    },
    {
     "cell_type": "code",
     "collapsed": false,
     "input": [
      "re.findall(pat,\" \")"
     ],
     "language": "python",
     "metadata": {},
     "outputs": [
      {
       "metadata": {},
       "output_type": "pyout",
       "prompt_number": 46,
       "text": [
        "[]"
       ]
      }
     ],
     "prompt_number": 46
    },
    {
     "cell_type": "code",
     "collapsed": false,
     "input": [
      "# split text by line\n",
      "\n",
      "# iterate over lines check for match\n",
      "\n",
      "# add to dictionary"
     ],
     "language": "python",
     "metadata": {},
     "outputs": []
    },
    {
     "cell_type": "code",
     "collapsed": false,
     "input": [
      "# MY solution\n",
      "pat = r\"(\\w+) (\\w+): (\\d+\\.\\d+.\\d+) (\\d+) (.+\\b)\"\n",
      "phonebook = [list(re.findall(pat,line)[0]) for line in text.splitlines()\n",
      "                                         if line is not '']\n",
      "phonebook"
     ],
     "language": "python",
     "metadata": {},
     "outputs": [
      {
       "metadata": {},
       "output_type": "pyout",
       "prompt_number": 81,
       "text": [
        "[['Ross', 'McFluff', '834.345.1254', '155', 'Elm Street'],\n",
        " ['Ronald', 'Heathmore', '892.345.3428', '436', 'Finley Avenue'],\n",
        " ['Frank', 'Burger', '925.541.7625', '662', 'South Dogwood Way'],\n",
        " ['Heather', 'Albrecht', '548.326.4584', '919', 'Park Place']]"
       ]
      }
     ],
     "prompt_number": 81
    },
    {
     "cell_type": "code",
     "collapsed": false,
     "input": [
      "# Given solution\n",
      "print text\n",
      "entries = re.split(\"\\n+\", text)  #more graceful dealing with \\n\n",
      "print \"entries is now list : \";\n",
      "for i in entries : print i\n",
      "phonebook = [re.split(\":? \", entry, 4) for entry in entries]\n",
      "#less specific but simpler splitting patter defined (either on ': ' or ' \"\n",
      "phonebook"
     ],
     "language": "python",
     "metadata": {},
     "outputs": [
      {
       "output_type": "stream",
       "stream": "stdout",
       "text": [
        "Ross McFluff: 834.345.1254 155 Elm Street\n",
        "\n",
        "Ronald Heathmore: 892.345.3428 436 Finley Avenue\n",
        "Frank Burger: 925.541.7625 662 South Dogwood Way\n",
        "\n",
        "\n",
        "Heather Albrecht: 548.326.4584 919 Park Place\n",
        "entries is now list : \n",
        "Ross McFluff: 834.345.1254 155 Elm Street\n",
        "Ronald Heathmore: 892.345.3428 436 Finley Avenue\n",
        "Frank Burger: 925.541.7625 662 South Dogwood Way\n",
        "Heather Albrecht: 548.326.4584 919 Park Place\n"
       ]
      },
      {
       "metadata": {},
       "output_type": "pyout",
       "prompt_number": 89,
       "text": [
        "[['Ross', 'McFluff', '834.345.1254', '155', 'Elm Street'],\n",
        " ['Ronald', 'Heathmore', '892.345.3428', '436', 'Finley Avenue'],\n",
        " ['Frank', 'Burger', '925.541.7625', '662', 'South Dogwood Way'],\n",
        " ['Heather', 'Albrecht', '548.326.4584', '919', 'Park Place']]"
       ]
      }
     ],
     "prompt_number": 89
    },
    {
     "cell_type": "code",
     "collapsed": false,
     "input": [],
     "language": "python",
     "metadata": {},
     "outputs": []
    }
   ],
   "metadata": {}
  }
 ]
}