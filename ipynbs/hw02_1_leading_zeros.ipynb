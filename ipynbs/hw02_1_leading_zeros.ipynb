{
 "metadata": {
  "name": ""
 },
 "nbformat": 3,
 "nbformat_minor": 0,
 "worksheets": [
  {
   "cells": [
    {
     "cell_type": "code",
     "collapsed": false,
     "input": [
      "f = (lambda x,y,z : x+y+z > 10 if 0 not in [x,y,z] else False)"
     ],
     "language": "python",
     "metadata": {},
     "outputs": [],
     "prompt_number": 5
    },
    {
     "cell_type": "code",
     "collapsed": false,
     "input": [
      "f(3,4,2)"
     ],
     "language": "python",
     "metadata": {},
     "outputs": [
      {
       "metadata": {},
       "output_type": "pyout",
       "prompt_number": 6,
       "text": [
        "False"
       ]
      }
     ],
     "prompt_number": 6
    },
    {
     "cell_type": "code",
     "collapsed": false,
     "input": [
      "f(1,1,100)"
     ],
     "language": "python",
     "metadata": {},
     "outputs": [
      {
       "metadata": {},
       "output_type": "pyout",
       "prompt_number": 8,
       "text": [
        "True"
       ]
      }
     ],
     "prompt_number": 8
    },
    {
     "cell_type": "code",
     "collapsed": false,
     "input": [
      "# --------------\n",
      "# User Instructions\n",
      "# \n",
      "# Modify the function compile_formula so that the function \n",
      "# it returns, f, does not allow numbers where the first digit\n",
      "# is zero. So if the formula contained YOU, f would return \n",
      "# False anytime that Y was 0 \n",
      "\n",
      "import re\n",
      "import itertools\n",
      "import string\n",
      "\n",
      "def compile_formula(formula, verbose=False):\n",
      "    \"\"\"Compile formula into a function. Also return letters found, as a str,\n",
      "    in same order as parms of function. The first digit of a multi-digit \n",
      "    number can't be 0. So if YOU is a word in the formula, and the function\n",
      "    is called with Y eqal to 0, the function should return False.\"\"\"\n",
      "    \n",
      "    # modify the code in this function.\n",
      "    \n",
      "    letters = ''.join(set(re.findall('[A-Z]', formula)))\n",
      "    parms = ', '.join(letters)\n",
      "    noncomp_tokens = re.split('([A-Z]+)', formula)\n",
      "    tokens = map(compile_word, noncomp_tokens)\n",
      "    nonzero_parms = '['+','.join(set([t[0] for t in noncomp_tokens\n",
      "                             if len(t) > 1\n",
      "                             if t[0].isalpha()]))+']'\n",
      "    body = ''.join(tokens)\n",
      "    f = 'lambda %s: %s if 0 not in %s else False' % (parms, body, nonzero_parms)\n",
      "    if verbose: print f\n",
      "    return eval(f), letters\n",
      "\n",
      "#                 set(map(first_letter, noncomp_tokens))\n",
      "\n",
      "# def first_letter(token) :\n",
      "#     \"\"\" \"\"\"\n",
      "#     if len(token) > 1 and token[0].isalpha():\n",
      "#         return token[0]\n",
      "#     return\n",
      "\n",
      "def compile_word(word):\n",
      "    \"\"\"Compile a word of uppercase letters as numeric digits.\n",
      "    E.g., compile_word('YOU') => '(1*U+10*O+100*Y)'\n",
      "    Non-uppercase words uncahanged: compile_word('+') => '+'\"\"\"\n",
      "    if word.isupper():\n",
      "        terms = [('%s*%s' % (10**i, d)) \n",
      "                 for (i, d) in enumerate(word[::-1])]\n",
      "        return '(' + '+'.join(terms) + ')'\n",
      "    else:\n",
      "        return word\n",
      "    \n",
      "def faster_solve(formula):\n",
      "    \"\"\"Given a formula like 'ODD + ODD == EVEN', fill in digits to solve it.\n",
      "    Input formula is a string; output is a digit-filled-in string or None.\n",
      "    This version precompiles the formula; only one eval per formula.\"\"\"\n",
      "    f, letters = compile_formula(formula)\n",
      "    for digits in itertools.permutations((1,2,3,4,5,6,7,8,9,0), len(letters)):\n",
      "        try:\n",
      "            if f(*digits) is True:\n",
      "                table = string.maketrans(letters, ''.join(map(str, digits)))\n",
      "                return formula.translate(table)\n",
      "        except ArithmeticError:\n",
      "            pass\n",
      "\n",
      "def test():\n",
      "    assert faster_solve('A + B == BA') == None # should NOT return '1 + 0 == 01'\n",
      "    assert faster_solve('YOU == ME**2') == ('289 == 17**2' or '576 == 24**2' or '841 == 29**2')\n",
      "    assert faster_solve('X / X == X') == '1 / 1 == 1'\n",
      "    return 'tests pass'\n",
      "test()"
     ],
     "language": "python",
     "metadata": {},
     "outputs": [
      {
       "metadata": {},
       "output_type": "pyout",
       "prompt_number": 37,
       "text": [
        "'tests pass'"
       ]
      }
     ],
     "prompt_number": 37
    },
    {
     "cell_type": "code",
     "collapsed": false,
     "input": [
      "faster_solve('A + B == BA')"
     ],
     "language": "python",
     "metadata": {},
     "outputs": [
      {
       "metadata": {},
       "output_type": "pyout",
       "prompt_number": 11,
       "text": [
        "'1 + 0 == 01'"
       ]
      }
     ],
     "prompt_number": 11
    },
    {
     "cell_type": "code",
     "collapsed": false,
     "input": [
      "map(str.isalpha, 'ASDFGHA @123#$%')"
     ],
     "language": "python",
     "metadata": {},
     "outputs": [
      {
       "metadata": {},
       "output_type": "pyout",
       "prompt_number": 15,
       "text": [
        "[True,\n",
        " True,\n",
        " True,\n",
        " True,\n",
        " True,\n",
        " True,\n",
        " True,\n",
        " False,\n",
        " False,\n",
        " False,\n",
        " False,\n",
        " False,\n",
        " False,\n",
        " False,\n",
        " False]"
       ]
      }
     ],
     "prompt_number": 15
    },
    {
     "cell_type": "code",
     "collapsed": false,
     "input": [
      "formula = 'A + B == BA'\n",
      "\n",
      "letters = ''.join(set(re.findall('[A-Z]', formula)))\n",
      "parms = ', '.join(letters)\n",
      "noncomp_tokens = re.split('([A-Z]+)', formula)\n",
      "tokens = map(compile_word, noncomp_tokens )\n",
      "nonzero_parms = set(map(first_letter, noncomp_tokens))"
     ],
     "language": "python",
     "metadata": {},
     "outputs": [],
     "prompt_number": 25
    },
    {
     "cell_type": "code",
     "collapsed": false,
     "input": [
      "nonzero_parms"
     ],
     "language": "python",
     "metadata": {},
     "outputs": [
      {
       "metadata": {},
       "output_type": "pyout",
       "prompt_number": 26,
       "text": [
        "{None, 'B'}"
       ]
      }
     ],
     "prompt_number": 26
    },
    {
     "cell_type": "code",
     "collapsed": false,
     "input": [
      "tokens"
     ],
     "language": "python",
     "metadata": {},
     "outputs": [
      {
       "metadata": {},
       "output_type": "pyout",
       "prompt_number": 18,
       "text": [
        "['', '(1*A)', ' + ', '(1*B)', ' == ', '(1*A+10*B)', '']"
       ]
      }
     ],
     "prompt_number": 18
    },
    {
     "cell_type": "code",
     "collapsed": false,
     "input": [
      "formula = 'A + B == BA'\n",
      "\n",
      "letters = ''.join(set(re.findall('[A-Z]', formula)))\n",
      "parms = ', '.join(letters)\n",
      "noncomp_tokens = re.split('([A-Z]+)', formula)\n",
      "tokens = map(compile_word, noncomp_tokens)\n",
      "nonzero_parms = '['+','.join(set([t[0] for t in noncomp_tokens\n",
      "                             if len(t) > 1\n",
      "                             if t[0].isalpha()]))+']'\n",
      "#                 set(map(first_letter, noncomp_tokens))\n",
      "body = ''.join(tokens)\n",
      "f = 'lambda %s: %s if 0 not in %s else False' % (parms, body, nonzero_parms)\n"
     ],
     "language": "python",
     "metadata": {},
     "outputs": [],
     "prompt_number": 34
    },
    {
     "cell_type": "code",
     "collapsed": false,
     "input": [
      "noncomp_tokens"
     ],
     "language": "python",
     "metadata": {},
     "outputs": [
      {
       "metadata": {},
       "output_type": "pyout",
       "prompt_number": 31,
       "text": [
        "['', 'A', ' + ', 'B', ' == ', 'BA', '']"
       ]
      }
     ],
     "prompt_number": 31
    },
    {
     "cell_type": "code",
     "collapsed": false,
     "input": [
      "nonzero_parms"
     ],
     "language": "python",
     "metadata": {},
     "outputs": [
      {
       "metadata": {},
       "output_type": "pyout",
       "prompt_number": 32,
       "text": [
        "{'B'}"
       ]
      }
     ],
     "prompt_number": 32
    },
    {
     "cell_type": "code",
     "collapsed": false,
     "input": [
      "f"
     ],
     "language": "python",
     "metadata": {},
     "outputs": [
      {
       "metadata": {},
       "output_type": "pyout",
       "prompt_number": 35,
       "text": [
        "\"lambda A, B: (1*A) + (1*B) == (1*A+10*B) if 0 not in set(['B']) else False\""
       ]
      }
     ],
     "prompt_number": 35
    },
    {
     "cell_type": "code",
     "collapsed": false,
     "input": [
      "parms"
     ],
     "language": "python",
     "metadata": {},
     "outputs": [
      {
       "metadata": {},
       "output_type": "pyout",
       "prompt_number": 36,
       "text": [
        "'A, B'"
       ]
      }
     ],
     "prompt_number": 36
    },
    {
     "cell_type": "code",
     "collapsed": false,
     "input": [],
     "language": "python",
     "metadata": {},
     "outputs": [
      {
       "metadata": {},
       "output_type": "pyout",
       "prompt_number": 38,
       "text": [
        "''"
       ]
      }
     ],
     "prompt_number": 38
    },
    {
     "cell_type": "code",
     "collapsed": false,
     "input": [],
     "language": "python",
     "metadata": {},
     "outputs": []
    }
   ],
   "metadata": {}
  }
 ]
}