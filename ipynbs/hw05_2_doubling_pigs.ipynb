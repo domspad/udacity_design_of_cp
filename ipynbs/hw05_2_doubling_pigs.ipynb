{
 "metadata": {
  "name": ""
 },
 "nbformat": 3,
 "nbformat_minor": 0,
 "worksheets": [
  {
   "cells": [
    {
     "cell_type": "code",
     "collapsed": false,
     "input": [
      "# -----------------\n",
      "# User Instructions\n",
      "# \n",
      "# In this problem, we introduce doubling to the game of pig. \n",
      "# At any point in the game, a player (let's say player A) can\n",
      "# offer to 'double' the game. Player B then has to decide to \n",
      "# 'accept', in which case the game is played through as normal,\n",
      "# but it is now worth two points, or 'decline,' in which case\n",
      "# player B immediately loses and player A wins one point. \n",
      "#\n",
      "# Your job is to write two functions. The first, pig_actions_d,\n",
      "# takes a state (p, me, you, pending, double), as input and \n",
      "# returns all of the legal actions.\n",
      "# \n",
      "# The second, strategy_d, is a strategy function which takes a\n",
      "# state as input and returns one of the possible actions. This\n",
      "# strategy needs to beat hold_20_d in order for you to be\n",
      "# marked correct. Happy pigging!\n",
      "\n",
      "import random\n",
      "\n",
      "def pig_actions_d(state):\n",
      "    \"\"\"The legal actions from a state. Usually, [\"roll\", \"hold\"].\n",
      "    Exceptions: If double is \"double\", can only \"accept\" or \"decline\".\n",
      "    Can't \"hold\" if pending is 0.\n",
      "    If double is 1, can \"double\" (in addition to other moves).\n",
      "    (If double > 1, cannot \"double\").\n",
      "    \"\"\"\n",
      "    # state is like before, but with one more component, double,\n",
      "    # which is 1 or 2 to denote the value of the game, or 'double'\n",
      "    # for the moment at which one player has doubled and is waiting\n",
      "    # for the other to accept or decline\n",
      "    (p, me, you, pending, double) = state \n",
      "    # your code here\n",
      "\n",
      "def strategy_d(state):\n",
      "    # your code here\n",
      "\n",
      "\n",
      "## You can use the code below, but don't need to modify it.\n",
      "\n",
      "def hold_20_d(state):\n",
      "    \"Hold at 20 pending.  Always accept; never double.\"\n",
      "    (p, me, you, pending, double) = state\n",
      "    return ('accept' if double == 'double' else\n",
      "            'hold' if (pending >= 20 or me + pending >= goal) else\n",
      "            'roll')\n",
      "    \n",
      "def clueless_d(state):\n",
      "    return random.choice(pig_actions_d(state))\n",
      " \n",
      "def dierolls():\n",
      "    \"Generate die rolls.\"\n",
      "    while True:\n",
      "        yield random.randint(1, 6)\n",
      "\n",
      "def play_pig_d(A, B, dierolls=dierolls()):\n",
      "    \"\"\"Play a game of pig between two players, represented by their strategies.\n",
      "    Each time through the main loop we ask the current player for one decision,\n",
      "    which must be 'hold' or 'roll', and we update the state accordingly.\n",
      "    When one player's score exceeds the goal, return that player.\"\"\"\n",
      "    strategies = [A, B]\n",
      "    state = (0, 0, 0, 0, 1)\n",
      "    while True:\n",
      "        (p, me, you, pending, double) = state\n",
      "        if me >= goal:\n",
      "            return strategies[p], double\n",
      "        elif you >= goal:\n",
      "            return strategies[other[p]], double\n",
      "        else:\n",
      "            action = strategies[p](state)\n",
      "            state = do(action, state, dierolls)\n",
      "\n",
      "## No more roll() and hold(); instead, do:\n",
      "\n",
      "def do(action, state, dierolls):\n",
      "    \"\"\"Return the state that results from doing action in state.\n",
      "     If action is not legal, return a state where the opponent wins.\n",
      "    Can use dierolls if needed.\"\"\"\n",
      "    (p, me, you, pending, double) = state\n",
      "    if action not in pig_actions_d(state):\n",
      "        return (other[p], goal, 0, 0, double)\n",
      "    elif action == 'roll':\n",
      "        d = next(dierolls)\n",
      "        if d == 1:\n",
      "            return (other[p], you, me+1, 0, double) # pig out; other player's turn\n",
      "        else:\n",
      "            return (p, me, you, pending+d, double)  # accumulate die in pending\n",
      "    elif action == 'hold':\n",
      "        return (other[p], you, me+pending, 0, double)\n",
      "    elif action == 'double':\n",
      "        return (other[p], you, me, pending, 'double')\n",
      "    elif action == 'decline':\n",
      "        return (other[p], goal, 0, 0, 1)\n",
      "    elif action == 'accept':\n",
      "        return (other[p], you, me, pending, 2)\n",
      "\n",
      "goal = 40\n",
      "other = {1:0, 0:1}\n",
      "\n",
      "def strategy_compare(A, B, N=1000):\n",
      "    \"\"\"Takes two strategies, A and B, as input and returns the percentage\n",
      "    of points won by strategy A.\"\"\"\n",
      "    A_points, B_points = 0, 0\n",
      "    for i in range(N):\n",
      "        if i % 2 == 0:  # take turns with who goes first\n",
      "            winner, points = play_pig_d(A, B)\n",
      "        else: \n",
      "            winner, points = play_pig_d(B, A)\n",
      "        if winner.__name__ == A.__name__:\n",
      "            A_points += points\n",
      "        else: B_points += points\n",
      "    A_percent = 100*A_points / float(A_points + B_points)\n",
      "    print 'In %s games of pig, strategy %s took %s percent of the points against %s.' % (N, A.__name__, A_percent, B.__name__)\n",
      "    return A_percent\n",
      "    \n",
      "def test():\n",
      "    assert set(pig_actions_d((0, 2, 3, 0, 1)))          == set(['roll', 'double'])\n",
      "    assert set(pig_actions_d((1, 20, 30, 5, 2)))        == set(['hold', 'roll']) \n",
      "    assert set(pig_actions_d((0, 5, 5, 5, 1)))          == set(['roll', 'hold', 'double'])\n",
      "    assert set(pig_actions_d((1, 10, 15, 6, 'double'))) == set(['accept', 'decline']) \n",
      "    assert strategy_compare(strategy_d, hold_20_d) > 60 # must win 60% of the points      \n",
      "    return 'test passes'\n",
      "\n",
      "print test()\n",
      "\n",
      "\n"
     ],
     "language": "python",
     "metadata": {},
     "outputs": [
      {
       "ename": "IndentationError",
       "evalue": "expected an indented block (<ipython-input-1-2aea30076c2a>, line 42)",
       "output_type": "pyerr",
       "traceback": [
        "\u001b[0;36m  File \u001b[0;32m\"<ipython-input-1-2aea30076c2a>\"\u001b[0;36m, line \u001b[0;32m42\u001b[0m\n\u001b[0;31m    def hold_20_d(state):\u001b[0m\n\u001b[0m      ^\u001b[0m\n\u001b[0;31mIndentationError\u001b[0m\u001b[0;31m:\u001b[0m expected an indented block\n"
       ]
      }
     ],
     "prompt_number": 1
    },
    {
     "cell_type": "code",
     "collapsed": false,
     "input": [
      "import lec5_pig as p"
     ],
     "language": "python",
     "metadata": {},
     "outputs": [],
     "prompt_number": 2
    },
    {
     "cell_type": "code",
     "collapsed": false,
     "input": [
      "state = (1,37,37,2)"
     ],
     "language": "python",
     "metadata": {},
     "outputs": [],
     "prompt_number": 17
    },
    {
     "cell_type": "code",
     "collapsed": false,
     "input": [
      "max_wins = p.trace(p.max_wins)"
     ],
     "language": "python",
     "metadata": {},
     "outputs": [],
     "prompt_number": 2
    },
    {
     "cell_type": "code",
     "collapsed": false,
     "input": [
      "max_wins(state)"
     ],
     "language": "python",
     "metadata": {},
     "outputs": [
      {
       "output_type": "stream",
       "stream": "stdout",
       "text": [
        "--> max_wins((1, 40, 49, 9))\n",
        "<-- max_wins((1, 40, 49, 9)) == roll\n"
       ]
      },
      {
       "metadata": {},
       "output_type": "pyout",
       "prompt_number": 9,
       "text": [
        "'roll'"
       ]
      }
     ],
     "prompt_number": 9
    },
    {
     "cell_type": "code",
     "collapsed": false,
     "input": [
      "Pwin = p.trace(p.Pwin)"
     ],
     "language": "python",
     "metadata": {},
     "outputs": [],
     "prompt_number": 6
    },
    {
     "cell_type": "code",
     "collapsed": false,
     "input": [
      "Pwin(state)"
     ],
     "language": "python",
     "metadata": {},
     "outputs": [
      {
       "output_type": "stream",
       "stream": "stdout",
       "text": [
        "--> Pwin((1, 40, 49, 9))\n",
        "<-- Pwin((1, 40, 49, 9)) == 1\n"
       ]
      },
      {
       "metadata": {},
       "output_type": "pyout",
       "prompt_number": 10,
       "text": [
        "1"
       ]
      }
     ],
     "prompt_number": 10
    },
    {
     "cell_type": "code",
     "collapsed": false,
     "input": [
      "p.goal"
     ],
     "language": "python",
     "metadata": {},
     "outputs": [
      {
       "metadata": {},
       "output_type": "pyout",
       "prompt_number": 14,
       "text": [
        "40"
       ]
      }
     ],
     "prompt_number": 14
    },
    {
     "cell_type": "code",
     "collapsed": false,
     "input": [
      "p.max_wins(state)"
     ],
     "language": "python",
     "metadata": {},
     "outputs": [
      {
       "output_type": "stream",
       "stream": "stdout",
       "text": [
        "--> max_wins((1, 37, 37, 2))\n",
        "   --> best_action((1, 37, 37, 2), <function pig_actions at 0x103cca398>, <function Q_pig at 0x103cca230>, <function Pwin at 0x103cca500>)\n",
        "      --> Q_pig((1, 37, 37, 2), 'roll', <function Pwin at 0x103cca500>)\n",
        "         --> Pwin((0, 37, 38, 0))\n",
        "            --> Q_pig((0, 37, 38, 0), 'roll', <function Pwin at 0x103cca500>)\n",
        "               --> Pwin((1, 38, 38, 0))\n",
        "                  --> Q_pig((1, 38, 38, 0), 'roll', <function Pwin at 0x103cca500>)\n",
        "                     --> Pwin((0, 38, 39, 0))\n",
        "                        --> Q_pig((0, 38, 39, 0), 'roll', <function Pwin at 0x103cca500>)\n",
        "                           --> Pwin((1, 39, 39, 0))\n",
        "                              --> Q_pig((1, 39, 39, 0), 'roll', <function Pwin at 0x103cca500>)\n",
        "                              <-- Q_pig((1, 39, 39, 0), 'roll', <function Pwin at 0x103cca500>) == 1.0\n",
        "                           <-- Pwin((1, 39, 39, 0)) == 1.0\n",
        "                           --> Pwin((0, 38, 39, 2))\n",
        "                           <-- Pwin((0, 38, 39, 2)) == 1\n",
        "                           --> Pwin((0, 38, 39, 3))\n",
        "                           <-- Pwin((0, 38, 39, 3)) == 1\n",
        "                           --> Pwin((0, 38, 39, 4))\n",
        "                           <-- Pwin((0, 38, 39, 4)) == 1\n",
        "                           --> Pwin((0, 38, 39, 5))\n",
        "                           <-- Pwin((0, 38, 39, 5)) == 1\n",
        "                           --> Pwin((0, 38, 39, 6))\n",
        "                           <-- Pwin((0, 38, 39, 6)) == 1\n",
        "                        <-- Q_pig((0, 38, 39, 0), 'roll', <function Pwin at 0x103cca500>) == 0.833333333333\n",
        "                     <-- Pwin((0, 38, 39, 0)) == 0.833333333333\n",
        "                     --> Pwin((1, 38, 38, 2))\n",
        "                     <-- Pwin((1, 38, 38, 2)) == 1\n",
        "                     --> Pwin((1, 38, 38, 3))\n",
        "                     <-- Pwin((1, 38, 38, 3)) == 1\n",
        "                     --> Pwin((1, 38, 38, 4))\n",
        "                     <-- Pwin((1, 38, 38, 4)) == 1\n",
        "                     --> Pwin((1, 38, 38, 5))\n",
        "                     <-- Pwin((1, 38, 38, 5)) == 1\n",
        "                     --> Pwin((1, 38, 38, 6))\n",
        "                     <-- Pwin((1, 38, 38, 6)) == 1\n",
        "                  <-- Q_pig((1, 38, 38, 0), 'roll', <function Pwin at 0x103cca500>) == 0.861111111111\n",
        "               <-- Pwin((1, 38, 38, 0)) == 0.861111111111\n",
        "               --> Pwin((0, 37, 38, 2))\n",
        "                  --> Q_pig((0, 37, 38, 2), 'roll', <function Pwin at 0x103cca500>)\n",
        "                     --> Pwin((0, 37, 38, 4))\n",
        "                     <-- Pwin((0, 37, 38, 4)) == 1\n",
        "                     --> Pwin((0, 37, 38, 5))\n",
        "                     <-- Pwin((0, 37, 38, 5)) == 1\n",
        "                     --> Pwin((0, 37, 38, 6))\n",
        "                     <-- Pwin((0, 37, 38, 6)) == 1\n",
        "                     --> Pwin((0, 37, 38, 7))\n",
        "                     <-- Pwin((0, 37, 38, 7)) == 1\n",
        "                     --> Pwin((0, 37, 38, 8))\n",
        "                     <-- Pwin((0, 37, 38, 8)) == 1\n",
        "                  <-- Q_pig((0, 37, 38, 2), 'roll', <function Pwin at 0x103cca500>) == 0.856481481481\n",
        "                  --> Q_pig((0, 37, 38, 2), 'hold', <function Pwin at 0x103cca500>)\n",
        "                     --> Pwin((1, 38, 39, 0))\n",
        "                        --> Q_pig((1, 38, 39, 0), 'roll', <function Pwin at 0x103cca500>)\n",
        "                           --> Pwin((0, 39, 39, 0))\n",
        "                              --> Q_pig((0, 39, 39, 0), 'roll', <function Pwin at 0x103cca500>)\n",
        "                                 --> Pwin((1, 39, 40, 0))\n",
        "                                 <-- Pwin((1, 39, 40, 0)) == 0\n",
        "                                 --> Pwin((0, 39, 39, 2))\n",
        "                                 <-- Pwin((0, 39, 39, 2)) == 1\n",
        "                                 --> Pwin((0, 39, 39, 3))\n",
        "                                 <-- Pwin((0, 39, 39, 3)) == 1\n",
        "                                 --> Pwin((0, 39, 39, 4))\n",
        "                                 <-- Pwin((0, 39, 39, 4)) == 1\n",
        "                                 --> Pwin((0, 39, 39, 5))\n",
        "                                 <-- Pwin((0, 39, 39, 5)) == 1\n",
        "                                 --> Pwin((0, 39, 39, 6))\n",
        "                                 <-- Pwin((0, 39, 39, 6)) == 1\n",
        "                              <-- Q_pig((0, 39, 39, 0), 'roll', <function Pwin at 0x103cca500>) == 1.0\n",
        "                           <-- Pwin((0, 39, 39, 0)) == 1.0\n",
        "                           --> Pwin((1, 38, 39, 2))\n",
        "                           <-- Pwin((1, 38, 39, 2)) == 1\n",
        "                           --> Pwin((1, 38, 39, 3))\n",
        "                           <-- Pwin((1, 38, 39, 3)) == 1\n",
        "                           --> Pwin((1, 38, 39, 4))\n",
        "                           <-- Pwin((1, 38, 39, 4)) == 1\n",
        "                           --> Pwin((1, 38, 39, 5))\n",
        "                           <-- Pwin((1, 38, 39, 5)) == 1\n",
        "                           --> Pwin((1, 38, 39, 6))\n",
        "                           <-- Pwin((1, 38, 39, 6)) == 1\n",
        "                        <-- Q_pig((1, 38, 39, 0), 'roll', <function Pwin at 0x103cca500>) == 0.833333333333\n",
        "                     <-- Pwin((1, 38, 39, 0)) == 0.833333333333\n",
        "                  <-- Q_pig((0, 37, 38, 2), 'hold', <function Pwin at 0x103cca500>) == 0.166666666667\n",
        "               <-- Pwin((0, 37, 38, 2)) == 0.856481481481\n",
        "               --> Pwin((0, 37, 38, 3))\n",
        "               <-- Pwin((0, 37, 38, 3)) == 1\n",
        "            <-- Q_pig((0, 37, 38, 0), 'roll', <function Pwin at 0x103cca500>) == 0.832561728395\n",
        "         <-- Pwin((0, 37, 38, 0)) == 0.832561728395\n",
        "         --> Pwin((1, 37, 37, 4))\n",
        "         <-- Pwin((1, 37, 37, 4)) == 1\n",
        "         --> Pwin((1, 37, 37, 5))\n",
        "         <-- Pwin((1, 37, 37, 5)) == 1\n",
        "         --> Pwin((1, 37, 37, 6))\n",
        "         <-- Pwin((1, 37, 37, 6)) == 1\n",
        "         --> Pwin((1, 37, 37, 7))\n",
        "         <-- Pwin((1, 37, 37, 7)) == 1\n",
        "         --> Pwin((1, 37, 37, 8))\n",
        "         <-- Pwin((1, 37, 37, 8)) == 1\n",
        "      <-- Q_pig((1, 37, 37, 2), 'roll', <function Pwin at 0x103cca500>) == 0.861239711934\n",
        "      --> Q_pig((1, 37, 37, 2), 'hold', <function Pwin at 0x103cca500>)\n",
        "         --> Pwin((0, 37, 39, 0))\n",
        "            --> Q_pig((0, 37, 39, 0), 'roll', <function Pwin at 0x103cca500>)\n",
        "               --> Pwin((1, 39, 38, 0))\n",
        "                  --> Q_pig((1, 39, 38, 0), 'roll', <function Pwin at 0x103cca500>)\n",
        "                     --> Pwin((0, 38, 40, 0))\n",
        "                     <-- Pwin((0, 38, 40, 0)) == 0\n",
        "                     --> Pwin((1, 39, 38, 2))\n",
        "                     <-- Pwin((1, 39, 38, 2)) == 1\n",
        "                     --> Pwin((1, 39, 38, 3))\n",
        "                     <-- Pwin((1, 39, 38, 3)) == 1\n",
        "                     --> Pwin((1, 39, 38, 4))\n",
        "                     <-- Pwin((1, 39, 38, 4)) == 1\n",
        "                     --> Pwin((1, 39, 38, 5))\n",
        "                     <-- Pwin((1, 39, 38, 5)) == 1\n",
        "                     --> Pwin((1, 39, 38, 6))\n",
        "                     <-- Pwin((1, 39, 38, 6)) == 1\n",
        "                  <-- Q_pig((1, 39, 38, 0), 'roll', <function Pwin at 0x103cca500>) == 1.0\n",
        "               <-- Pwin((1, 39, 38, 0)) == 1.0\n",
        "               --> Pwin((0, 37, 39, 2))\n",
        "                  --> Q_pig((0, 37, 39, 2), 'roll', <function Pwin at 0x103cca500>)\n",
        "                     --> Pwin((0, 37, 39, 4))\n",
        "                     <-- Pwin((0, 37, 39, 4)) == 1\n",
        "                     --> Pwin((0, 37, 39, 5))\n",
        "                     <-- Pwin((0, 37, 39, 5)) == 1\n",
        "                     --> Pwin((0, 37, 39, 6))\n",
        "                     <-- Pwin((0, 37, 39, 6)) == 1\n",
        "                     --> Pwin((0, 37, 39, 7))\n",
        "                     <-- Pwin((0, 37, 39, 7)) == 1\n",
        "                     --> Pwin((0, 37, 39, 8))\n",
        "                     <-- Pwin((0, 37, 39, 8)) == 1\n",
        "                  <-- Q_pig((0, 37, 39, 2), 'roll', <function Pwin at 0x103cca500>) == 0.833333333333\n",
        "                  --> Q_pig((0, 37, 39, 2), 'hold', <function Pwin at 0x103cca500>)\n",
        "                  <-- Q_pig((0, 37, 39, 2), 'hold', <function Pwin at 0x103cca500>) == 0.0\n",
        "               <-- Pwin((0, 37, 39, 2)) == 0.833333333333\n",
        "               --> Pwin((0, 37, 39, 3))\n",
        "               <-- Pwin((0, 37, 39, 3)) == 1\n",
        "            <-- Q_pig((0, 37, 39, 0), 'roll', <function Pwin at 0x103cca500>) == 0.805555555556\n",
        "         <-- Pwin((0, 37, 39, 0)) == 0.805555555556\n",
        "      <-- Q_pig((1, 37, 37, 2), 'hold', <function Pwin at 0x103cca500>) == 0.194444444444\n",
        "   <-- best_action((1, 37, 37, 2), <function pig_actions at 0x103cca398>, <function Q_pig at 0x103cca230>, <function Pwin at 0x103cca500>) == roll\n",
        "<-- max_wins((1, 37, 37, 2)) == roll\n"
       ]
      },
      {
       "metadata": {},
       "output_type": "pyout",
       "prompt_number": 18,
       "text": [
        "'roll'"
       ]
      }
     ],
     "prompt_number": 18
    },
    {
     "cell_type": "code",
     "collapsed": false,
     "input": [],
     "language": "python",
     "metadata": {},
     "outputs": []
    }
   ],
   "metadata": {}
  }
 ]
}