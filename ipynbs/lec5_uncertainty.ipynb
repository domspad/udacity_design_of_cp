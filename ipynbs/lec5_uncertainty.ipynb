{
 "metadata": {
  "name": ""
 },
 "nbformat": 3,
 "nbformat_minor": 0,
 "worksheets": [
  {
   "cells": [
    {
     "cell_type": "code",
     "collapsed": false,
     "input": [
      "a = 0\n",
      "print int(not a)"
     ],
     "language": "python",
     "metadata": {},
     "outputs": [
      {
       "output_type": "stream",
       "stream": "stdout",
       "text": [
        "1\n"
       ]
      }
     ],
     "prompt_number": 3
    },
    {
     "cell_type": "code",
     "collapsed": false,
     "input": [
      "import random"
     ],
     "language": "python",
     "metadata": {},
     "outputs": [],
     "prompt_number": 7
    },
    {
     "cell_type": "code",
     "collapsed": false,
     "input": [
      "random.choice([1,2])"
     ],
     "language": "python",
     "metadata": {},
     "outputs": [
      {
       "metadata": {},
       "output_type": "pyout",
       "prompt_number": 5,
       "text": [
        "2"
       ]
      }
     ],
     "prompt_number": 5
    },
    {
     "cell_type": "code",
     "collapsed": false,
     "input": [
      "(2,1) < "
     ],
     "language": "python",
     "metadata": {},
     "outputs": [
      {
       "metadata": {},
       "output_type": "pyout",
       "prompt_number": 6,
       "text": [
        "False"
       ]
      }
     ],
     "prompt_number": 6
    },
    {
     "cell_type": "code",
     "collapsed": false,
     "input": [
      "# -----------------\n",
      "# User Instructions\n",
      "# \n",
      "# Write a function, play_pig, that takes two strategy functions as input,\n",
      "# plays a game of pig between the two strategies, and returns the winning\n",
      "# strategy. Enter your code at line 41.\n",
      "#\n",
      "# You may want to borrow from the random module to help generate die rolls.\n",
      "\n",
      "import random\n",
      "\n",
      "possible_moves = ['roll', 'hold']\n",
      "other = {1:0, 0:1}\n",
      "goal = 50\n",
      "\n",
      "def clueless(state):\n",
      "    \"A strategy that ignores the state and chooses at random from possible moves.\"\n",
      "    return random.choice(possible_moves)\n",
      "\n",
      "def hold(state):\n",
      "    \"\"\"Apply the hold action to a state to yield a new state:\n",
      "    Reap the 'pending' points and it becomes the other player's turn.\"\"\"\n",
      "    (p, me, you, pending) = state\n",
      "    return (other[p], you, me+pending, 0)\n",
      "\n",
      "def roll(state, d):\n",
      "    \"\"\"Apply the roll action to a state (and a die roll d) to yield a new state:\n",
      "    If d is 1, get 1 point (losing any accumulated 'pending' points),\n",
      "    and it is the other player's turn. If d > 1, add d to 'pending' points.\"\"\"\n",
      "    (p, me, you, pending) = state\n",
      "    if d == 1:\n",
      "        return (other[p], you, me+1, 0) # pig out; other player's turn\n",
      "    else:\n",
      "        return (p, me, you, pending+d)  # accumulate die roll in pending\n",
      "\n",
      "def play_pig(A, B):\n",
      "    \"\"\"Play a game of pig between two players, represented by their strategies.\n",
      "    Each time through the main loop we ask the current player for one decision,\n",
      "    which must be 'hold' or 'roll', and we update the state accordingly.\n",
      "    When one player's score exceeds the goal, return that player.\"\"\"\n",
      "    # setup game\n",
      "    state = (0,)*4\n",
      "    players = (A,B)\n",
      "    \n",
      "    # loop turns until someone has score >= goal\n",
      "    while state[1] < goal and state[2] < goal :\n",
      "        p, _, _, _ = state\n",
      "        action = players[p](state)\n",
      "        if action == 'roll' :\n",
      "            d = random.randint(1,6)\n",
      "            state = roll(state, d)\n",
      "        else :\n",
      "            state = hold(state)\n",
      "\n",
      "    return A if state[1] >= goal else B\n",
      "\n",
      "    # Norvig's more clear solution to Play pig\n",
      "    # while True :\n",
      "    #     (p, me, you, pending) = state\n",
      "    #     if me >= goal :\n",
      "    #         return players[p] \n",
      "    #     elif you >= goal :\n",
      "    #         return players[other[p]] \n",
      "    #     elif players[p](state) == 'hold' :\n",
      "    #         state = hold(state)\n",
      "    #     else :\n",
      "    #         state = roll(state, random.randint(1,6))\n",
      "\n",
      "def always_roll(state):\n",
      "    return 'roll'\n",
      "\n",
      "def always_hold(state):\n",
      "    return 'hold'\n",
      "\n",
      "def test():\n",
      "    for _ in range(10):\n",
      "        winner = play_pig(always_hold, always_roll)\n",
      "        assert winner.__name__ == 'always_roll'\n",
      "    return 'tests pass'\n",
      "\n",
      "print test()\n"
     ],
     "language": "python",
     "metadata": {},
     "outputs": []
    },
    {
     "cell_type": "code",
     "collapsed": false,
     "input": [
      "from math import sqrt\n",
      "if sqrt(3) == 8 : \n",
      "    print 8\n",
      "elif _ == 9 :\n",
      "    print 9"
     ],
     "language": "python",
     "metadata": {},
     "outputs": [],
     "prompt_number": 4
    },
    {
     "cell_type": "code",
     "collapsed": false,
     "input": [
      "_"
     ],
     "language": "python",
     "metadata": {},
     "outputs": [
      {
       "metadata": {},
       "output_type": "pyout",
       "prompt_number": 5,
       "text": [
        "''"
       ]
      }
     ],
     "prompt_number": 5
    },
    {
     "cell_type": "code",
     "collapsed": false,
     "input": [
      "action = 1\n",
      "if action == 'hold' :\n",
      "    print True\n",
      "else :\n",
      "    print False"
     ],
     "language": "python",
     "metadata": {},
     "outputs": [
      {
       "output_type": "stream",
       "stream": "stdout",
       "text": [
        "False\n"
       ]
      }
     ],
     "prompt_number": 7
    },
    {
     "cell_type": "code",
     "collapsed": false,
     "input": [],
     "language": "python",
     "metadata": {},
     "outputs": []
    }
   ],
   "metadata": {}
  }
 ]
}