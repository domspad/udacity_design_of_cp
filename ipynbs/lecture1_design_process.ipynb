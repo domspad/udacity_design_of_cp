{
 "metadata": {
  "name": ""
 },
 "nbformat": 3,
 "nbformat_minor": 0,
 "worksheets": [
  {
   "cells": [
    {
     "cell_type": "code",
     "collapsed": false,
     "input": [
      "handrank1 = (7,9,5)\n",
      "handrank2 = (7,5,3)\n",
      "handrank3 = (6,3)\n",
      "handrank4 = (6)"
     ],
     "language": "python",
     "metadata": {},
     "outputs": [],
     "prompt_number": 4
    },
    {
     "cell_type": "code",
     "collapsed": false,
     "input": [
      "handrank1 > handrank2 \n"
     ],
     "language": "python",
     "metadata": {},
     "outputs": [
      {
       "metadata": {},
       "output_type": "pyout",
       "prompt_number": 2,
       "text": [
        "True"
       ]
      }
     ],
     "prompt_number": 2
    },
    {
     "cell_type": "code",
     "collapsed": false,
     "input": [
      "handrank2 > handrank3"
     ],
     "language": "python",
     "metadata": {},
     "outputs": [
      {
       "metadata": {},
       "output_type": "pyout",
       "prompt_number": 3,
       "text": [
        "True"
       ]
      }
     ],
     "prompt_number": 3
    },
    {
     "cell_type": "code",
     "collapsed": false,
     "input": [
      "handrank3 > handrank4"
     ],
     "language": "python",
     "metadata": {},
     "outputs": [
      {
       "metadata": {},
       "output_type": "pyout",
       "prompt_number": 5,
       "text": [
        "True"
       ]
      }
     ],
     "prompt_number": 5
    },
    {
     "cell_type": "code",
     "collapsed": false,
     "input": [
      "string1 = 'hello'\n",
      "string2 = 'help'\n",
      "string3 = 'hel'"
     ],
     "language": "python",
     "metadata": {},
     "outputs": [],
     "prompt_number": 6
    },
    {
     "cell_type": "code",
     "collapsed": false,
     "input": [
      "string1 > string2"
     ],
     "language": "python",
     "metadata": {},
     "outputs": [
      {
       "metadata": {},
       "output_type": "pyout",
       "prompt_number": 7,
       "text": [
        "False"
       ]
      }
     ],
     "prompt_number": 7
    },
    {
     "cell_type": "code",
     "collapsed": false,
     "input": [
      "string2 > string3"
     ],
     "language": "python",
     "metadata": {},
     "outputs": [
      {
       "metadata": {},
       "output_type": "pyout",
       "prompt_number": 8,
       "text": [
        "True"
       ]
      }
     ],
     "prompt_number": 8
    },
    {
     "cell_type": "code",
     "collapsed": false,
     "input": [
      "list1 = [10,3,2]\n",
      "list2 = [10,3]\n",
      "list3 = [10,3,2,1]"
     ],
     "language": "python",
     "metadata": {},
     "outputs": [],
     "prompt_number": 9
    },
    {
     "cell_type": "code",
     "collapsed": false,
     "input": [
      "list1 > list2"
     ],
     "language": "python",
     "metadata": {},
     "outputs": [
      {
       "metadata": {},
       "output_type": "pyout",
       "prompt_number": 10,
       "text": [
        "True"
       ]
      }
     ],
     "prompt_number": 10
    },
    {
     "cell_type": "code",
     "collapsed": false,
     "input": [
      "list1 > list3"
     ],
     "language": "python",
     "metadata": {},
     "outputs": [
      {
       "metadata": {},
       "output_type": "pyout",
       "prompt_number": 11,
       "text": [
        "False"
       ]
      }
     ],
     "prompt_number": 11
    },
    {
     "cell_type": "code",
     "collapsed": false,
     "input": [
      "mix1 = (7, 3, [10, 10, 10, 9, 9])\n",
      "mix2 = (7, 3, [10, 10, 10, 8, 8])\n",
      "mix1 > mix2"
     ],
     "language": "python",
     "metadata": {},
     "outputs": [
      {
       "metadata": {},
       "output_type": "pyout",
       "prompt_number": 12,
       "text": [
        "True"
       ]
      }
     ],
     "prompt_number": 12
    },
    {
     "cell_type": "code",
     "collapsed": false,
     "input": [
      "# You may assume the following behavior of each function:\n",
      "#\n",
      "# straight(ranks): returns True if the hand is a straight.\n",
      "# flush(hand):     returns True if the hand is a flush.\n",
      "# kind(n, ranks):  returns the first rank that the hand has\n",
      "#                  exactly n of. For A hand with 4 sevens \n",
      "#                  this function would return 7.\n",
      "# two_pair(ranks): if there is a two pair, this function \n",
      "#                  returns their corresponding ranks as a \n",
      "#                  tuple. For example, a hand with 2 twos\n",
      "#                  and 2 fours would cause this function\n",
      "#                  to return (4, 2).\n",
      "# card_ranks(hand) returns an ORDERED tuple of the ranks \n",
      "#                  in a hand (where the order goes from\n",
      "#                  highest to lowest rank). \n",
      "#\n",
      "# Since we are assuming that some functions are already\n",
      "# written, this code will not RUN. Clicking SUBMIT will \n",
      "# tell you if you are correct."
     ],
     "language": "python",
     "metadata": {},
     "outputs": []
    },
    {
     "cell_type": "code",
     "collapsed": false,
     "input": [
      "def hand_rank(hand):\n",
      "    ranks = card_ranks(hand)\n",
      "    if straight(ranks) and flush(hand):            # straight flush\n",
      "        return (8, max(ranks))\n",
      "    elif kind(4, ranks):                           # 4 of a kind\n",
      "        return (7, kind(4, ranks), kind(1, ranks))\n",
      "    elif kind(3, ranks) and kind(2, ranks):        # full house\n",
      "        return (6, kind(3, ranks), kind(2, ranks))\n",
      "    elif flush(hand):                              # flush\n",
      "        return (5, ranks)\n",
      "    elif straight(ranks):                          # straight\n",
      "        return (4, max(ranks))\n",
      "    elif kind(3, ranks):                           # 3 of a kind\n",
      "        return (3, kind(3, ranks), ranks)\n",
      "    elif two_pair(ranks):                          # 2 pair\n",
      "        return (2,two_pair(ranks), ranks)\n",
      "    elif kind(2, ranks):                           # kind\n",
      "        return (1, kind(2, ranks), ranks)\n",
      "    else:                                          # high card\n",
      "        return (0, ranks)"
     ],
     "language": "python",
     "metadata": {},
     "outputs": []
    },
    {
     "cell_type": "code",
     "collapsed": false,
     "input": [
      "'3'.isdigit()"
     ],
     "language": "python",
     "metadata": {},
     "outputs": [
      {
       "metadata": {},
       "output_type": "pyout",
       "prompt_number": 23,
       "text": [
        "True"
       ]
      }
     ],
     "prompt_number": 23
    },
    {
     "cell_type": "code",
     "collapsed": false,
     "input": [
      "def card_ranks(cards):\n",
      "    \"Return a list of the ranks, sorted with higher first.\"\n",
      "    ranks = [rank_to_int(r) for r,s in cards]\n",
      "    ranks.sort(reverse=True)\n",
      "    return ranks\n",
      "\n",
      "def rank_to_int(rank) :\n",
      "    \"Returns integer form of rank.\"\n",
      "    intform = { 'A' : 14,\n",
      "                'K' : 13, \n",
      "                'Q' : 12,\n",
      "                'J' : 11,\n",
      "                'T' : 10}\n",
      "    if rank.isdigit() :\n",
      "        return int(rank)\n",
      "    else :\n",
      "        return intform[rank]"
     ],
     "language": "python",
     "metadata": {},
     "outputs": []
    },
    {
     "cell_type": "code",
     "collapsed": false,
     "input": [
      "\"\"\"WOOOOWWWWW\"\"\"\n",
      "def card_ranks(cards):\n",
      "    \"Return a list of the ranks, sorted with higher first.\"\n",
      "    ranks = [\"--23456789TJQKA\".index(r) for r,s in cards]\n",
      "    ranks.sort(reverse=True)\n",
      "    return ranks"
     ],
     "language": "python",
     "metadata": {},
     "outputs": [],
     "prompt_number": 25
    },
    {
     "cell_type": "code",
     "collapsed": false,
     "input": [
      "def straight(ranks):\n",
      "    \"Return True if the ordered ranks form a 5-card straight.\"\n",
      "    return ranks == range(max(ranks), max(ranks)-5,-1)\n",
      "\n",
      "def flush(hand):\n",
      "    \"Return True if all the cards have the same suit.\"\n",
      "    return [card[1] for card in hand] == [hand[0][1]]*5"
     ],
     "language": "python",
     "metadata": {},
     "outputs": []
    },
    {
     "cell_type": "code",
     "collapsed": false,
     "input": [
      "\"\"\"WOWWWW\"\"\"\n",
      "def straight(ranks) :\n",
      "    return max(ranks) - min(ranks) == 4 and len(set(ranks)) == 5\n",
      "\n",
      "def flush(hand) :\n",
      "    suits = [s for r,s in hand]\n",
      "    return len(set(suits)) == 1"
     ],
     "language": "python",
     "metadata": {},
     "outputs": []
    },
    {
     "cell_type": "code",
     "collapsed": false,
     "input": [
      "range(5,-1)"
     ],
     "language": "python",
     "metadata": {},
     "outputs": [
      {
       "metadata": {},
       "output_type": "pyout",
       "prompt_number": 27,
       "text": [
        "[]"
       ]
      }
     ],
     "prompt_number": 27
    },
    {
     "cell_type": "code",
     "collapsed": false,
     "input": [
      "ranks = [10,9,8]"
     ],
     "language": "python",
     "metadata": {},
     "outputs": [],
     "prompt_number": 28
    },
    {
     "cell_type": "code",
     "collapsed": false,
     "input": [
      "range(10,5,-1)"
     ],
     "language": "python",
     "metadata": {},
     "outputs": [
      {
       "metadata": {},
       "output_type": "pyout",
       "prompt_number": 33,
       "text": [
        "[10, 9, 8, 7, 6]"
       ]
      }
     ],
     "prompt_number": 33
    },
    {
     "cell_type": "code",
     "collapsed": false,
     "input": [
      "sf = \"6C 7C 8C 9C TC\".split()\n",
      "sf"
     ],
     "language": "python",
     "metadata": {},
     "outputs": [
      {
       "metadata": {},
       "output_type": "pyout",
       "prompt_number": 43,
       "text": [
        "['6C', '7C', '8C', '9C', 'TC']"
       ]
      }
     ],
     "prompt_number": 43
    },
    {
     "cell_type": "code",
     "collapsed": false,
     "input": [
      "[i[1] for i in sf]"
     ],
     "language": "python",
     "metadata": {},
     "outputs": [
      {
       "metadata": {},
       "output_type": "pyout",
       "prompt_number": 41,
       "text": [
        "['C', 'C', 'C', 'C', 'C']"
       ]
      }
     ],
     "prompt_number": 41
    },
    {
     "cell_type": "code",
     "collapsed": false,
     "input": [
      "[i[1] for i in sf] == [sf[0][1]]*5"
     ],
     "language": "python",
     "metadata": {},
     "outputs": [
      {
       "metadata": {},
       "output_type": "pyout",
       "prompt_number": 44,
       "text": [
        "True"
       ]
      }
     ],
     "prompt_number": 44
    },
    {
     "cell_type": "heading",
     "level": 3,
     "metadata": {},
     "source": [
      "Ch ch ch ch changes"
     ]
    },
    {
     "cell_type": "code",
     "collapsed": false,
     "input": [
      "def card_ranks(hand):\n",
      "    \"Return a list of the ranks, sorted with higher first.\"\n",
      "    ranks = ['--23456789TJQKA'.index(r) for r, s in hand]\n",
      "    ranks.sort(reverse = True)\n",
      "    if ranks == [14, 5, 4, 3, 2] :\n",
      "        ranks = [5, 4, 3, 2, 1]\n",
      "    return ranks"
     ],
     "language": "python",
     "metadata": {},
     "outputs": []
    },
    {
     "cell_type": "code",
     "collapsed": false,
     "input": [
      "multiple = [5, 5, 3, 5, 2]\n",
      "multiple2 = [5, 4, 3, 2, 1]\n",
      "multiple3 = [1]\n",
      "multiple.count(max(multiple))"
     ],
     "language": "python",
     "metadata": {},
     "outputs": [
      {
       "metadata": {},
       "output_type": "pyout",
       "prompt_number": 79,
       "text": [
        "3"
       ]
      }
     ],
     "prompt_number": 79
    },
    {
     "cell_type": "code",
     "collapsed": false,
     "input": [
      "allmax(multiple)"
     ],
     "language": "python",
     "metadata": {},
     "outputs": [
      {
       "metadata": {},
       "output_type": "pyout",
       "prompt_number": 80,
       "text": [
        "[5, 5, 5]"
       ]
      }
     ],
     "prompt_number": 80
    },
    {
     "cell_type": "code",
     "collapsed": false,
     "input": [
      "def poker(hands):\n",
      "    \"Return a list of winning hands: poker([hand,...]) => [hand,...]\"\n",
      "    return allmax(hands, key=hand_rank)\n",
      "def allmax(iterable, key=None):\n",
      "    \"Return a list of all items equal to the max of the iterable.\"\n",
      "    key = key or (lambda x: x)\n",
      "    nummax = iterable.count(max(iterable,key=key)) #WRONG because two elements equal w.r.t. key MAY NOT BE THE SAME ELEMENT\n",
      "    return [max(iterable,key=key)] * nummax"
     ],
     "language": "python",
     "metadata": {},
     "outputs": [],
     "prompt_number": 77
    },
    {
     "cell_type": "code",
     "collapsed": false,
     "input": [
      "\"\"\"WOWWWWW\"\"\" #and with only ONE pass through the list...\n"
     ],
     "language": "python",
     "metadata": {},
     "outputs": [
      {
       "metadata": {},
       "output_type": "pyout",
       "prompt_number": 87,
       "text": [
        "[1]"
       ]
      }
     ],
     "prompt_number": 87
    },
    {
     "cell_type": "heading",
     "level": 4,
     "metadata": {},
     "source": [
      "Deal deal deal"
     ]
    },
    {
     "cell_type": "code",
     "collapsed": false,
     "input": [
      "# -----------\n",
      "# User Instructions\n",
      "# \n",
      "# Write a function, deal(numhands, n=5, deck), that \n",
      "# deals numhands hands with n cards each.\n",
      "#\n",
      "\n",
      "import random # this will be a useful library for shuffling\n",
      "\n",
      "# This builds a deck of 52 cards. If you are unfamiliar\n",
      "# with this notation, check out Andy's supplemental video\n",
      "# on list comprehensions (you can find the link in the \n",
      "# Instructor Comments box below).\n",
      "\n",
      "mydeck = [r+s for r in '23456789TJQKA' for s in 'SHDC'] \n",
      "\n",
      "def deal(numhands, n=5, deck=mydeck):\n",
      "    shuffled_inds = range(len(mydeck))\n",
      "    random.shuffle(shuffled_inds)\n",
      "    hands = []\n",
      "    for numhand in xrange(numhands) :\n",
      "        hand = []\n",
      "        for card in xrange(n) :\n",
      "            hand.append(mydeck[shuffled_inds.pop()])\n",
      "        hands.append(hand)\n",
      "    return hands\n",
      "    "
     ],
     "language": "python",
     "metadata": {},
     "outputs": [],
     "prompt_number": 98
    },
    {
     "cell_type": "code",
     "collapsed": false,
     "input": [
      "deal(4)"
     ],
     "language": "python",
     "metadata": {},
     "outputs": [
      {
       "metadata": {},
       "output_type": "pyout",
       "prompt_number": 100,
       "text": [
        "[['AS', 'QC', '5S', '4H', '5H'],\n",
        " ['4C', '7D', '3D', 'KS', '7C'],\n",
        " ['2H', '9S', '9D', 'AH', 'AC'],\n",
        " ['8C', '2C', '7S', 'JH', 'KD']]"
       ]
      }
     ],
     "prompt_number": 100
    },
    {
     "cell_type": "code",
     "collapsed": false,
     "input": [
      "\"\"\"Wowwwww\"\"\"\n",
      "\n"
     ],
     "language": "python",
     "metadata": {},
     "outputs": []
    },
    {
     "cell_type": "code",
     "collapsed": false,
     "input": [
      "\"Finished lecture\""
     ],
     "language": "python",
     "metadata": {},
     "outputs": []
    },
    {
     "cell_type": "code",
     "collapsed": false,
     "input": [],
     "language": "python",
     "metadata": {},
     "outputs": []
    },
    {
     "cell_type": "heading",
     "level": 4,
     "metadata": {},
     "source": [
      "HW -1 "
     ]
    },
    {
     "cell_type": "code",
     "collapsed": false,
     "input": [
      "import itertools"
     ],
     "language": "python",
     "metadata": {},
     "outputs": [],
     "prompt_number": 2
    },
    {
     "cell_type": "code",
     "collapsed": false,
     "input": [
      "itertools."
     ],
     "language": "python",
     "metadata": {},
     "outputs": []
    },
    {
     "cell_type": "code",
     "collapsed": false,
     "input": [
      "# CS 212, hw1-1: 7-card stud\n",
      "#\n",
      "# -----------------\n",
      "# User Instructions\n",
      "#\n",
      "# Write a function best_hand(hand) that takes a seven\n",
      "# card hand as input and returns the best possible 5\n",
      "# card hand. The itertools library has some functions\n",
      "# that may help you solve this problem.\n",
      "#\n",
      "# -----------------\n",
      "# Grading Notes\n",
      "# \n",
      "# Muliple correct answers will be accepted in cases \n",
      "# where the best hand is ambiguous (for example, if \n",
      "# you have 4 kings and 3 queens, there are three best\n",
      "# hands: 4 kings along with any of the three queens).\n",
      "\n",
      "import itertools\n",
      "\n",
      "def best_hand(hand):\n",
      "    return max(itertools.combinations(hand,5), key=hand_rank)\n",
      "        \n",
      "# ------------------\n",
      "# Provided Functions\n",
      "# \n",
      "# You may want to use some of the functions which\n",
      "# you have already defined in the unit to write \n",
      "# your best_hand function.\n",
      "\n",
      "def hand_rank(hand):\n",
      "    \"Return a value indicating the ranking of a hand.\"\n",
      "    ranks = card_ranks(hand) \n",
      "    if straight(ranks) and flush(hand):\n",
      "        return (8, max(ranks))\n",
      "    elif kind(4, ranks):\n",
      "        return (7, kind(4, ranks), kind(1, ranks))\n",
      "    elif kind(3, ranks) and kind(2, ranks):\n",
      "        return (6, kind(3, ranks), kind(2, ranks))\n",
      "    elif flush(hand):\n",
      "        return (5, ranks)\n",
      "    elif straight(ranks):\n",
      "        return (4, max(ranks))\n",
      "    elif kind(3, ranks):\n",
      "        return (3, kind(3, ranks), ranks)\n",
      "    elif two_pair(ranks):\n",
      "        return (2, two_pair(ranks), ranks)\n",
      "    elif kind(2, ranks):\n",
      "        return (1, kind(2, ranks), ranks)\n",
      "    else:\n",
      "        return (0, ranks)\n",
      "    \n",
      "def card_ranks(hand):\n",
      "    \"Return a list of the ranks, sorted with higher first.\"\n",
      "    ranks = ['--23456789TJQKA'.index(r) for r, s in hand]\n",
      "    ranks.sort(reverse = True)\n",
      "    return [5, 4, 3, 2, 1] if (ranks == [14, 5, 4, 3, 2]) else ranks\n",
      "\n",
      "def flush(hand):\n",
      "    \"Return True if all the cards have the same suit.\"\n",
      "    suits = [s for r,s in hand]\n",
      "    return len(set(suits)) == 1\n",
      "\n",
      "def straight(ranks):\n",
      "    \"\"\"Return True if the ordered \n",
      "    ranks form a 5-card straight.\"\"\"\n",
      "    return (max(ranks)-min(ranks) == 4) and len(set(ranks)) == 5\n",
      "\n",
      "def kind(n, ranks):\n",
      "    \"\"\"Return the first rank that this hand has \n",
      "    exactly n-of-a-kind of. Return None if there \n",
      "    is no n-of-a-kind in the hand.\"\"\"\n",
      "    for r in ranks:\n",
      "        if ranks.count(r) == n: return r\n",
      "    return None\n",
      "\n",
      "def two_pair(ranks):\n",
      "    \"\"\"If there are two pair here, return the two \n",
      "    ranks of the two pairs, else None.\"\"\"\n",
      "    pair = kind(2, ranks)\n",
      "    lowpair = kind(2, list(reversed(ranks)))\n",
      "    if pair and lowpair != pair:\n",
      "        return (pair, lowpair)\n",
      "    else:\n",
      "        return None \n",
      "    \n",
      "def test_best_hand():\n",
      "    assert (sorted(best_hand(\"6C 7C 8C 9C TC 5C JS\".split()))\n",
      "            == ['6C', '7C', '8C', '9C', 'TC'])\n",
      "    assert (sorted(best_hand(\"TD TC TH 7C 7D 8C 8S\".split()))\n",
      "            == ['8C', '8S', 'TC', 'TD', 'TH'])\n",
      "    assert (sorted(best_hand(\"JD TC TH 7C 7D 7S 7H\".split()))\n",
      "            == ['7C', '7D', '7H', '7S', 'JD'])\n",
      "    return 'test_best_hand passes'\n",
      "\n",
      "print test_best_hand()\n"
     ],
     "language": "python",
     "metadata": {},
     "outputs": [
      {
       "output_type": "stream",
       "stream": "stdout",
       "text": [
        "test_best_hand passes\n"
       ]
      }
     ],
     "prompt_number": 10
    },
    {
     "cell_type": "code",
     "collapsed": false,
     "input": [
      "best_hand(\"6C 7C 8C 9C TC 5C JS\".split())"
     ],
     "language": "python",
     "metadata": {},
     "outputs": [
      {
       "metadata": {},
       "output_type": "pyout",
       "prompt_number": 11,
       "text": [
        "('6C', '7C', '8C', '9C', 'TC')"
       ]
      }
     ],
     "prompt_number": 11
    },
    {
     "cell_type": "code",
     "collapsed": false,
     "input": [
      "# CS 212, hw1-2: Jokers Wild\n",
      "#\n",
      "# -----------------\n",
      "# User Instructions\n",
      "#\n",
      "# Write a function best_wild_hand(hand) that takes as\n",
      "# input a 7-card hand and returns the best 5 card hand.\n",
      "# In this problem, it is possible for a hand to include\n",
      "# jokers. Jokers will be treated as 'wild cards' which\n",
      "# can take any rank or suit of the same color. The \n",
      "# black joker, '?B', can be used as any spade or club\n",
      "# and the red joker, '?R', can be used as any heart \n",
      "# or diamond.\n",
      "#\n",
      "# The itertools library may be helpful. Feel free to \n",
      "# define multiple functions if it helps you solve the\n",
      "# problem. \n",
      "#\n",
      "# -----------------\n",
      "# Grading Notes\n",
      "# \n",
      "# Muliple correct answers will be accepted in cases \n",
      "# where the best hand is ambiguous (for example, if \n",
      "# you have 4 kings and 3 queens, there are three best\n",
      "# hands: 4 kings along with any of the three queens).\n",
      "\n",
      "import itertools\n",
      "\n",
      "def best_hand(hand):\n",
      "    return max(itertools.combinations(hand,5), key=hand_rank)\n",
      "\n",
      "def replace(list_a, drop, add) :\n",
      "    list_b = list_a\n",
      "    list_b.remove(drop)\n",
      "    list_b.append(add)\n",
      "    return list_b\n",
      "\n",
      "def best_wild_hand(hand):\n",
      "    \"Try all values for jokers in all 5-card selections.\"\n",
      "    \"\"\"\n",
      "    handles only case with one of each kind of joker possible\n",
      "    \"\"\"\n",
      "    all_7_card_hands = [hand]\n",
      "    if '?R' in hand :\n",
      "        redreps = [ r+s for r in '23456789TJQKA' for s in 'DH' ]\n",
      "        all_7_card_hands = [ replace(h,'?R',rep) for h in all_7_card_hands for rep in redreps ]\n",
      "    if '?B' in hand :\n",
      "        blackreps = [ r+s for r in '23456789TJQKA'for s in 'CS' ]\n",
      "        all_7_card_hands = [ replace(h,'?B',rep) for h in all_7_card_hands for rep in blackreps ]\n",
      "    return max([best_hand(hand_i) for hand_i in all_7_card_hands], key=hand_rank)\n",
      "    # Your code here\n",
      "\n",
      "def test_best_wild_hand():\n",
      "    assert (sorted(best_wild_hand(\"6C 7C 8C 9C TC 5C ?B\".split()))\n",
      "            == ['7C', '8C', '9C', 'JC', 'TC'])\n",
      "    assert (sorted(best_wild_hand(\"TD TC 5H 5C 7C ?R ?B\".split()))\n",
      "            == ['7C', 'TC', 'TD', 'TH', 'TS'])\n",
      "    assert (sorted(best_wild_hand(\"JD TC TH 7C 7D 7S 7H\".split()))\n",
      "            == ['7C', '7D', '7H', '7S', 'JD'])\n",
      "    return 'test_best_wild_hand passes'\n",
      "\n",
      "# ------------------\n",
      "# Provided Functions\n",
      "# \n",
      "# You may want to use some of the functions which\n",
      "# you have already defined in the unit to write \n",
      "# your best_hand function.\n",
      "\n",
      "def hand_rank(hand):\n",
      "    \"Return a value indicating the ranking of a hand.\"\n",
      "    ranks = card_ranks(hand) \n",
      "    if straight(ranks) and flush(hand):\n",
      "        return (8, max(ranks))\n",
      "    elif kind(4, ranks):\n",
      "        return (7, kind(4, ranks), kind(1, ranks))\n",
      "    elif kind(3, ranks) and kind(2, ranks):\n",
      "        return (6, kind(3, ranks), kind(2, ranks))\n",
      "    elif flush(hand):\n",
      "        return (5, ranks)\n",
      "    elif straight(ranks):\n",
      "        return (4, max(ranks))\n",
      "    elif kind(3, ranks):\n",
      "        return (3, kind(3, ranks), ranks)\n",
      "    elif two_pair(ranks):\n",
      "        return (2, two_pair(ranks), ranks)\n",
      "    elif kind(2, ranks):\n",
      "        return (1, kind(2, ranks), ranks)\n",
      "    else:\n",
      "        return (0, ranks)\n",
      "    \n",
      "def card_ranks(hand):\n",
      "    \"Return a list of the ranks, sorted with higher first.\"\n",
      "    ranks = ['--23456789TJQKA'.index(r) for r, s in hand]\n",
      "    ranks.sort(reverse = True)\n",
      "    return [5, 4, 3, 2, 1] if (ranks == [14, 5, 4, 3, 2]) else ranks\n",
      "\n",
      "def flush(hand):\n",
      "    \"Return True if all the cards have the same suit.\"\n",
      "    suits = [s for r,s in hand]\n",
      "    return len(set(suits)) == 1\n",
      "\n",
      "def straight(ranks):\n",
      "    \"\"\"Return True if the ordered \n",
      "    ranks form a 5-card straight.\"\"\"\n",
      "    return (max(ranks)-min(ranks) == 4) and len(set(ranks)) == 5\n",
      "\n",
      "def kind(n, ranks):\n",
      "    \"\"\"Return the first rank that this hand has \n",
      "    exactly n-of-a-kind of. Return None if there \n",
      "    is no n-of-a-kind in the hand.\"\"\"\n",
      "    for r in ranks:\n",
      "        if ranks.count(r) == n: return r\n",
      "    return None\n",
      "\n",
      "def two_pair(ranks):\n",
      "    \"\"\"If there are two pair here, return the two \n",
      "    ranks of the two pairs, else None.\"\"\"\n",
      "    pair = kind(2, ranks)\n",
      "    lowpair = kind(2, list(reversed(ranks)))\n",
      "    if pair and lowpair != pair:\n",
      "        return (pair, lowpair)\n",
      "    else:\n",
      "        return None \n"
     ],
     "language": "python",
     "metadata": {},
     "outputs": [],
     "prompt_number": 34
    },
    {
     "cell_type": "code",
     "collapsed": false,
     "input": [
      "replace([1,2,3,'?R','?B'],'?R','b')"
     ],
     "language": "python",
     "metadata": {},
     "outputs": [
      {
       "metadata": {},
       "output_type": "pyout",
       "prompt_number": 35,
       "text": [
        "[1, 2, 3, '?B', 'b']"
       ]
      }
     ],
     "prompt_number": 35
    },
    {
     "cell_type": "code",
     "collapsed": false,
     "input": [
      "test_best_wild_hand()"
     ],
     "language": "python",
     "metadata": {},
     "outputs": [
      {
       "ename": "ValueError",
       "evalue": "list.remove(x): x not in list",
       "output_type": "pyerr",
       "traceback": [
        "\u001b[0;31m---------------------------------------------------------------------------\u001b[0m\n\u001b[0;31mValueError\u001b[0m                                Traceback (most recent call last)",
        "\u001b[0;32m<ipython-input-36-ba37fc195ba5>\u001b[0m in \u001b[0;36m<module>\u001b[0;34m()\u001b[0m\n\u001b[0;32m----> 1\u001b[0;31m \u001b[0mtest_best_wild_hand\u001b[0m\u001b[0;34m(\u001b[0m\u001b[0;34m)\u001b[0m\u001b[0;34m\u001b[0m\u001b[0m\n\u001b[0m",
        "\u001b[0;32m<ipython-input-34-f10eb4af8b7a>\u001b[0m in \u001b[0;36mtest_best_wild_hand\u001b[0;34m()\u001b[0m\n\u001b[1;32m     52\u001b[0m \u001b[0;34m\u001b[0m\u001b[0m\n\u001b[1;32m     53\u001b[0m \u001b[0;32mdef\u001b[0m \u001b[0mtest_best_wild_hand\u001b[0m\u001b[0;34m(\u001b[0m\u001b[0;34m)\u001b[0m\u001b[0;34m:\u001b[0m\u001b[0;34m\u001b[0m\u001b[0m\n\u001b[0;32m---> 54\u001b[0;31m     assert (sorted(best_wild_hand(\"6C 7C 8C 9C TC 5C ?B\".split()))\n\u001b[0m\u001b[1;32m     55\u001b[0m             == ['7C', '8C', '9C', 'JC', 'TC'])\n\u001b[1;32m     56\u001b[0m     assert (sorted(best_wild_hand(\"TD TC 5H 5C 7C ?R ?B\".split()))\n",
        "\u001b[0;32m<ipython-input-34-f10eb4af8b7a>\u001b[0m in \u001b[0;36mbest_wild_hand\u001b[0;34m(hand)\u001b[0m\n\u001b[1;32m     47\u001b[0m     \u001b[0;32mif\u001b[0m \u001b[0;34m'?B'\u001b[0m \u001b[0;32min\u001b[0m \u001b[0mhand\u001b[0m \u001b[0;34m:\u001b[0m\u001b[0;34m\u001b[0m\u001b[0m\n\u001b[1;32m     48\u001b[0m         \u001b[0mblackreps\u001b[0m \u001b[0;34m=\u001b[0m \u001b[0;34m[\u001b[0m \u001b[0mr\u001b[0m\u001b[0;34m+\u001b[0m\u001b[0ms\u001b[0m \u001b[0;32mfor\u001b[0m \u001b[0mr\u001b[0m \u001b[0;32min\u001b[0m \u001b[0;34m'23456789TJQKA'\u001b[0m\u001b[0;32mfor\u001b[0m \u001b[0ms\u001b[0m \u001b[0;32min\u001b[0m \u001b[0;34m'CS'\u001b[0m \u001b[0;34m]\u001b[0m\u001b[0;34m\u001b[0m\u001b[0m\n\u001b[0;32m---> 49\u001b[0;31m         \u001b[0mall_7_card_hands\u001b[0m \u001b[0;34m=\u001b[0m \u001b[0;34m[\u001b[0m \u001b[0mreplace\u001b[0m\u001b[0;34m(\u001b[0m\u001b[0mh\u001b[0m\u001b[0;34m,\u001b[0m\u001b[0;34m'?B'\u001b[0m\u001b[0;34m,\u001b[0m\u001b[0mrep\u001b[0m\u001b[0;34m)\u001b[0m \u001b[0;32mfor\u001b[0m \u001b[0mh\u001b[0m \u001b[0;32min\u001b[0m \u001b[0mall_7_card_hands\u001b[0m \u001b[0;32mfor\u001b[0m \u001b[0mrep\u001b[0m \u001b[0;32min\u001b[0m \u001b[0mblackreps\u001b[0m \u001b[0;34m]\u001b[0m\u001b[0;34m\u001b[0m\u001b[0m\n\u001b[0m\u001b[1;32m     50\u001b[0m     \u001b[0;32mreturn\u001b[0m \u001b[0mmax\u001b[0m\u001b[0;34m(\u001b[0m\u001b[0;34m[\u001b[0m\u001b[0mbest_hand\u001b[0m\u001b[0;34m(\u001b[0m\u001b[0mhand_i\u001b[0m\u001b[0;34m)\u001b[0m \u001b[0;32mfor\u001b[0m \u001b[0mhand_i\u001b[0m \u001b[0;32min\u001b[0m \u001b[0mall_7_card_hands\u001b[0m\u001b[0;34m]\u001b[0m\u001b[0;34m,\u001b[0m \u001b[0mkey\u001b[0m\u001b[0;34m=\u001b[0m\u001b[0mhand_rank\u001b[0m\u001b[0;34m)\u001b[0m\u001b[0;34m\u001b[0m\u001b[0m\n\u001b[1;32m     51\u001b[0m     \u001b[0;31m# Your code here\u001b[0m\u001b[0;34m\u001b[0m\u001b[0;34m\u001b[0m\u001b[0m\n",
        "\u001b[0;32m<ipython-input-34-f10eb4af8b7a>\u001b[0m in \u001b[0;36mreplace\u001b[0;34m(list_a, drop, add)\u001b[0m\n\u001b[1;32m     32\u001b[0m \u001b[0;32mdef\u001b[0m \u001b[0mreplace\u001b[0m\u001b[0;34m(\u001b[0m\u001b[0mlist_a\u001b[0m\u001b[0;34m,\u001b[0m \u001b[0mdrop\u001b[0m\u001b[0;34m,\u001b[0m \u001b[0madd\u001b[0m\u001b[0;34m)\u001b[0m \u001b[0;34m:\u001b[0m\u001b[0;34m\u001b[0m\u001b[0m\n\u001b[1;32m     33\u001b[0m     \u001b[0mlist_b\u001b[0m \u001b[0;34m=\u001b[0m \u001b[0mlist_a\u001b[0m\u001b[0;34m\u001b[0m\u001b[0m\n\u001b[0;32m---> 34\u001b[0;31m     \u001b[0mlist_b\u001b[0m\u001b[0;34m.\u001b[0m\u001b[0mremove\u001b[0m\u001b[0;34m(\u001b[0m\u001b[0mdrop\u001b[0m\u001b[0;34m)\u001b[0m\u001b[0;34m\u001b[0m\u001b[0m\n\u001b[0m\u001b[1;32m     35\u001b[0m     \u001b[0mlist_b\u001b[0m\u001b[0;34m.\u001b[0m\u001b[0mappend\u001b[0m\u001b[0;34m(\u001b[0m\u001b[0madd\u001b[0m\u001b[0;34m)\u001b[0m\u001b[0;34m\u001b[0m\u001b[0m\n\u001b[1;32m     36\u001b[0m     \u001b[0;32mreturn\u001b[0m \u001b[0mlist_b\u001b[0m\u001b[0;34m\u001b[0m\u001b[0m\n",
        "\u001b[0;31mValueError\u001b[0m: list.remove(x): x not in list"
       ]
      }
     ],
     "prompt_number": 36
    }
   ],
   "metadata": {}
  }
 ]
}