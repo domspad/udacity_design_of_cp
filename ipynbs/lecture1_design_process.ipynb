{
 "metadata": {
  "name": ""
 },
 "nbformat": 3,
 "nbformat_minor": 0,
 "worksheets": [
  {
   "cells": [
    {
     "cell_type": "code",
     "collapsed": false,
     "input": [
      "handrank1 = (7,9,5)\n",
      "handrank2 = (7,5,3)\n",
      "handrank3 = (6,3)\n",
      "handrank4 = (6)"
     ],
     "language": "python",
     "metadata": {},
     "outputs": [],
     "prompt_number": 4
    },
    {
     "cell_type": "code",
     "collapsed": false,
     "input": [
      "handrank1 > handrank2 \n"
     ],
     "language": "python",
     "metadata": {},
     "outputs": [
      {
       "metadata": {},
       "output_type": "pyout",
       "prompt_number": 2,
       "text": [
        "True"
       ]
      }
     ],
     "prompt_number": 2
    },
    {
     "cell_type": "code",
     "collapsed": false,
     "input": [
      "handrank2 > handrank3"
     ],
     "language": "python",
     "metadata": {},
     "outputs": [
      {
       "metadata": {},
       "output_type": "pyout",
       "prompt_number": 3,
       "text": [
        "True"
       ]
      }
     ],
     "prompt_number": 3
    },
    {
     "cell_type": "code",
     "collapsed": false,
     "input": [
      "handrank3 > handrank4"
     ],
     "language": "python",
     "metadata": {},
     "outputs": [
      {
       "metadata": {},
       "output_type": "pyout",
       "prompt_number": 5,
       "text": [
        "True"
       ]
      }
     ],
     "prompt_number": 5
    },
    {
     "cell_type": "code",
     "collapsed": false,
     "input": [
      "string1 = 'hello'\n",
      "string2 = 'help'\n",
      "string3 = 'hel'"
     ],
     "language": "python",
     "metadata": {},
     "outputs": [],
     "prompt_number": 6
    },
    {
     "cell_type": "code",
     "collapsed": false,
     "input": [
      "string1 > string2"
     ],
     "language": "python",
     "metadata": {},
     "outputs": [
      {
       "metadata": {},
       "output_type": "pyout",
       "prompt_number": 7,
       "text": [
        "False"
       ]
      }
     ],
     "prompt_number": 7
    },
    {
     "cell_type": "code",
     "collapsed": false,
     "input": [
      "string2 > string3"
     ],
     "language": "python",
     "metadata": {},
     "outputs": [
      {
       "metadata": {},
       "output_type": "pyout",
       "prompt_number": 8,
       "text": [
        "True"
       ]
      }
     ],
     "prompt_number": 8
    },
    {
     "cell_type": "code",
     "collapsed": false,
     "input": [
      "list1 = [10,3,2]\n",
      "list2 = [10,3]\n",
      "list3 = [10,3,2,1]"
     ],
     "language": "python",
     "metadata": {},
     "outputs": [],
     "prompt_number": 9
    },
    {
     "cell_type": "code",
     "collapsed": false,
     "input": [
      "list1 > list2"
     ],
     "language": "python",
     "metadata": {},
     "outputs": [
      {
       "metadata": {},
       "output_type": "pyout",
       "prompt_number": 10,
       "text": [
        "True"
       ]
      }
     ],
     "prompt_number": 10
    },
    {
     "cell_type": "code",
     "collapsed": false,
     "input": [
      "list1 > list3"
     ],
     "language": "python",
     "metadata": {},
     "outputs": [
      {
       "metadata": {},
       "output_type": "pyout",
       "prompt_number": 11,
       "text": [
        "False"
       ]
      }
     ],
     "prompt_number": 11
    },
    {
     "cell_type": "code",
     "collapsed": false,
     "input": [
      "mix1 = (7, 3, [10, 10, 10, 9, 9])\n",
      "mix2 = (7, 3, [10, 10, 10, 8, 8])\n",
      "mix1 > mix2"
     ],
     "language": "python",
     "metadata": {},
     "outputs": [
      {
       "metadata": {},
       "output_type": "pyout",
       "prompt_number": 12,
       "text": [
        "True"
       ]
      }
     ],
     "prompt_number": 12
    },
    {
     "cell_type": "code",
     "collapsed": false,
     "input": [
      "# You may assume the following behavior of each function:\n",
      "#\n",
      "# straight(ranks): returns True if the hand is a straight.\n",
      "# flush(hand):     returns True if the hand is a flush.\n",
      "# kind(n, ranks):  returns the first rank that the hand has\n",
      "#                  exactly n of. For A hand with 4 sevens \n",
      "#                  this function would return 7.\n",
      "# two_pair(ranks): if there is a two pair, this function \n",
      "#                  returns their corresponding ranks as a \n",
      "#                  tuple. For example, a hand with 2 twos\n",
      "#                  and 2 fours would cause this function\n",
      "#                  to return (4, 2).\n",
      "# card_ranks(hand) returns an ORDERED tuple of the ranks \n",
      "#                  in a hand (where the order goes from\n",
      "#                  highest to lowest rank). \n",
      "#\n",
      "# Since we are assuming that some functions are already\n",
      "# written, this code will not RUN. Clicking SUBMIT will \n",
      "# tell you if you are correct."
     ],
     "language": "python",
     "metadata": {},
     "outputs": []
    },
    {
     "cell_type": "code",
     "collapsed": false,
     "input": [
      "def hand_rank(hand):\n",
      "    ranks = card_ranks(hand)\n",
      "    if straight(ranks) and flush(hand):            # straight flush\n",
      "        return (8, max(ranks))\n",
      "    elif kind(4, ranks):                           # 4 of a kind\n",
      "        return (7, kind(4, ranks), kind(1, ranks))\n",
      "    elif kind(3, ranks) and kind(2, ranks):        # full house\n",
      "        return (6, kind(3, ranks), kind(2, ranks))\n",
      "    elif flush(hand):                              # flush\n",
      "        return (5, ranks)\n",
      "    elif straight(ranks):                          # straight\n",
      "        return (4, max(ranks))\n",
      "    elif kind(3, ranks):                           # 3 of a kind\n",
      "        return (3, kind(3, ranks), ranks)\n",
      "    elif two_pair(ranks):                          # 2 pair\n",
      "        return (2,two_pair(ranks), ranks)\n",
      "    elif kind(2, ranks):                           # kind\n",
      "        return (1, kind(2, ranks), ranks)\n",
      "    else:                                          # high card\n",
      "        return (0, ranks)"
     ],
     "language": "python",
     "metadata": {},
     "outputs": []
    },
    {
     "cell_type": "code",
     "collapsed": false,
     "input": [
      "'3'.isdigit()"
     ],
     "language": "python",
     "metadata": {},
     "outputs": [
      {
       "metadata": {},
       "output_type": "pyout",
       "prompt_number": 23,
       "text": [
        "True"
       ]
      }
     ],
     "prompt_number": 23
    },
    {
     "cell_type": "code",
     "collapsed": false,
     "input": [
      "def card_ranks(cards):\n",
      "    \"Return a list of the ranks, sorted with higher first.\"\n",
      "    ranks = [rank_to_int(r) for r,s in cards]\n",
      "    ranks.sort(reverse=True)\n",
      "    return ranks\n",
      "\n",
      "def rank_to_int(rank) :\n",
      "    \"Returns integer form of rank.\"\n",
      "    intform = { 'A' : 14,\n",
      "                'K' : 13, \n",
      "                'Q' : 12,\n",
      "                'J' : 11,\n",
      "                'T' : 10}\n",
      "    if rank.isdigit() :\n",
      "        return int(rank)\n",
      "    else :\n",
      "        return intform[rank]"
     ],
     "language": "python",
     "metadata": {},
     "outputs": []
    },
    {
     "cell_type": "code",
     "collapsed": false,
     "input": [
      "\"\"\"WOOOOWWWWW\"\"\"\n",
      "def card_ranks(cards):\n",
      "    \"Return a list of the ranks, sorted with higher first.\"\n",
      "    ranks = [\"--23456789TJQKA\".index(r) for r,s in cards]\n",
      "    ranks.sort(reverse=True)\n",
      "    return ranks"
     ],
     "language": "python",
     "metadata": {},
     "outputs": [],
     "prompt_number": 25
    },
    {
     "cell_type": "code",
     "collapsed": false,
     "input": [
      "def straight(ranks):\n",
      "    \"Return True if the ordered ranks form a 5-card straight.\"\n",
      "    return ranks == range(max(ranks), max(ranks)-5,-1)\n",
      "\n",
      "def flush(hand):\n",
      "    \"Return True if all the cards have the same suit.\"\n",
      "    return [card[1] for card in hand] == [hand[0][1]]*5"
     ],
     "language": "python",
     "metadata": {},
     "outputs": []
    },
    {
     "cell_type": "code",
     "collapsed": false,
     "input": [
      "\"\"\"WOWWWW\"\"\"\n",
      "def straight(ranks) :\n",
      "    return max(ranks) - min(ranks) == 4 and len(set(ranks)) == 5\n",
      "\n",
      "def flush(hand) :\n",
      "    suits = [s for r,s in hand]\n",
      "    return len(set(suits)) == 1"
     ],
     "language": "python",
     "metadata": {},
     "outputs": []
    },
    {
     "cell_type": "code",
     "collapsed": false,
     "input": [
      "range(5,-1)"
     ],
     "language": "python",
     "metadata": {},
     "outputs": [
      {
       "metadata": {},
       "output_type": "pyout",
       "prompt_number": 27,
       "text": [
        "[]"
       ]
      }
     ],
     "prompt_number": 27
    },
    {
     "cell_type": "code",
     "collapsed": false,
     "input": [
      "ranks = [10,9,8]"
     ],
     "language": "python",
     "metadata": {},
     "outputs": [],
     "prompt_number": 28
    },
    {
     "cell_type": "code",
     "collapsed": false,
     "input": [
      "range(10,5,-1)"
     ],
     "language": "python",
     "metadata": {},
     "outputs": [
      {
       "metadata": {},
       "output_type": "pyout",
       "prompt_number": 33,
       "text": [
        "[10, 9, 8, 7, 6]"
       ]
      }
     ],
     "prompt_number": 33
    },
    {
     "cell_type": "code",
     "collapsed": false,
     "input": [
      "sf = \"6C 7C 8C 9C TC\".split()\n",
      "sf"
     ],
     "language": "python",
     "metadata": {},
     "outputs": [
      {
       "metadata": {},
       "output_type": "pyout",
       "prompt_number": 43,
       "text": [
        "['6C', '7C', '8C', '9C', 'TC']"
       ]
      }
     ],
     "prompt_number": 43
    },
    {
     "cell_type": "code",
     "collapsed": false,
     "input": [
      "[i[1] for i in sf]"
     ],
     "language": "python",
     "metadata": {},
     "outputs": [
      {
       "metadata": {},
       "output_type": "pyout",
       "prompt_number": 41,
       "text": [
        "['C', 'C', 'C', 'C', 'C']"
       ]
      }
     ],
     "prompt_number": 41
    },
    {
     "cell_type": "code",
     "collapsed": false,
     "input": [
      "[i[1] for i in sf] == [sf[0][1]]*5"
     ],
     "language": "python",
     "metadata": {},
     "outputs": [
      {
       "metadata": {},
       "output_type": "pyout",
       "prompt_number": 44,
       "text": [
        "True"
       ]
      }
     ],
     "prompt_number": 44
    },
    {
     "cell_type": "heading",
     "level": 3,
     "metadata": {},
     "source": [
      "Ch ch ch ch changes"
     ]
    },
    {
     "cell_type": "code",
     "collapsed": false,
     "input": [
      "def card_ranks(hand):\n",
      "    \"Return a list of the ranks, sorted with higher first.\"\n",
      "    ranks = ['--23456789TJQKA'.index(r) for r, s in hand]\n",
      "    ranks.sort(reverse = True)\n",
      "    if ranks == [14, 5, 4, 3, 2] :\n",
      "        ranks = [5, 4, 3, 2, 1]\n",
      "    return ranks"
     ],
     "language": "python",
     "metadata": {},
     "outputs": []
    },
    {
     "cell_type": "code",
     "collapsed": false,
     "input": [
      "multiple = [5, 5, 3, 5, 2]\n",
      "multiple2 = [5, 4, 3, 2, 1]\n",
      "multiple3 = [1]\n",
      "multiple.count(max(multiple))"
     ],
     "language": "python",
     "metadata": {},
     "outputs": [
      {
       "metadata": {},
       "output_type": "pyout",
       "prompt_number": 79,
       "text": [
        "3"
       ]
      }
     ],
     "prompt_number": 79
    },
    {
     "cell_type": "code",
     "collapsed": false,
     "input": [
      "allmax(multiple)"
     ],
     "language": "python",
     "metadata": {},
     "outputs": [
      {
       "metadata": {},
       "output_type": "pyout",
       "prompt_number": 80,
       "text": [
        "[5, 5, 5]"
       ]
      }
     ],
     "prompt_number": 80
    },
    {
     "cell_type": "code",
     "collapsed": false,
     "input": [
      "def poker(hands):\n",
      "    \"Return a list of winning hands: poker([hand,...]) => [hand,...]\"\n",
      "    return allmax(hands, key=hand_rank)\n",
      "def allmax(iterable, key=None):\n",
      "    \"Return a list of all items equal to the max of the iterable.\"\n",
      "    key = key or (lambda x: x)\n",
      "    nummax = iterable.count(max(iterable,key=key)) #WRONG because two elements equal w.r.t. key MAY NOT BE THE SAME ELEMENT\n",
      "    return [max(iterable,key=key)] * nummax"
     ],
     "language": "python",
     "metadata": {},
     "outputs": [],
     "prompt_number": 77
    },
    {
     "cell_type": "code",
     "collapsed": false,
     "input": [
      "\"\"\"WOWWWWW\"\"\" #and with only ONE pass through the list...\n"
     ],
     "language": "python",
     "metadata": {},
     "outputs": [
      {
       "metadata": {},
       "output_type": "pyout",
       "prompt_number": 87,
       "text": [
        "[1]"
       ]
      }
     ],
     "prompt_number": 87
    },
    {
     "cell_type": "heading",
     "level": 4,
     "metadata": {},
     "source": [
      "Deal deal deal"
     ]
    },
    {
     "cell_type": "code",
     "collapsed": false,
     "input": [
      "# -----------\n",
      "# User Instructions\n",
      "# \n",
      "# Write a function, deal(numhands, n=5, deck), that \n",
      "# deals numhands hands with n cards each.\n",
      "#\n",
      "\n",
      "import random # this will be a useful library for shuffling\n",
      "\n",
      "# This builds a deck of 52 cards. If you are unfamiliar\n",
      "# with this notation, check out Andy's supplemental video\n",
      "# on list comprehensions (you can find the link in the \n",
      "# Instructor Comments box below).\n",
      "\n",
      "mydeck = [r+s for r in '23456789TJQKA' for s in 'SHDC'] \n",
      "\n",
      "def deal(numhands, n=5, deck=mydeck):\n",
      "    shuffled_inds = range(len(mydeck))\n",
      "    random.shuffle(shuffled_inds)\n",
      "    hands = []\n",
      "    for numhand in xrange(numhands) :\n",
      "        hand = []\n",
      "        for card in xrange(n) :\n",
      "            hand.append(mydeck[shuffled_inds.pop()])\n",
      "        hands.append(hand)\n",
      "    return hands\n",
      "    "
     ],
     "language": "python",
     "metadata": {},
     "outputs": [],
     "prompt_number": 98
    },
    {
     "cell_type": "code",
     "collapsed": false,
     "input": [
      "deal(4)"
     ],
     "language": "python",
     "metadata": {},
     "outputs": [
      {
       "metadata": {},
       "output_type": "pyout",
       "prompt_number": 100,
       "text": [
        "[['AS', 'QC', '5S', '4H', '5H'],\n",
        " ['4C', '7D', '3D', 'KS', '7C'],\n",
        " ['2H', '9S', '9D', 'AH', 'AC'],\n",
        " ['8C', '2C', '7S', 'JH', 'KD']]"
       ]
      }
     ],
     "prompt_number": 100
    },
    {
     "cell_type": "code",
     "collapsed": false,
     "input": [
      "\"\"\"Wowwwww\"\"\"\n",
      "\n"
     ],
     "language": "python",
     "metadata": {},
     "outputs": []
    },
    {
     "cell_type": "code",
     "collapsed": false,
     "input": [
      "\"Finished lecture\""
     ],
     "language": "python",
     "metadata": {},
     "outputs": []
    }
   ],
   "metadata": {}
  }
 ]
}