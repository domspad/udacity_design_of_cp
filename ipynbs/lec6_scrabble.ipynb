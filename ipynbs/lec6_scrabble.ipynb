{
 "metadata": {
  "name": ""
 },
 "nbformat": 3,
 "nbformat_minor": 0,
 "worksheets": [
  {
   "cells": [
    {
     "cell_type": "code",
     "collapsed": false,
     "input": [
      "import itertools as it"
     ],
     "language": "python",
     "metadata": {},
     "outputs": [],
     "prompt_number": 1
    },
    {
     "cell_type": "code",
     "collapsed": false,
     "input": [
      "WORDS = set(open('words4k.txt','r').read().upper().split())"
     ],
     "language": "python",
     "metadata": {},
     "outputs": [],
     "prompt_number": 2
    },
    {
     "cell_type": "code",
     "collapsed": false,
     "input": [
      "def find_words(hand) :\n",
      "    perms = set()\n",
      "    for r in range(1,len(hand)+1) :\n",
      "        perms = perms | set([''.join(perm).upper() for perm in it.permutations(hand,r)])\n",
      "    return perms & WORDS\n",
      "\n",
      "#JAJ! Number of ordered combos of length n is https://oeis.org/A007526 faster than exponential growth"
     ],
     "language": "python",
     "metadata": {},
     "outputs": [],
     "prompt_number": 75
    },
    {
     "cell_type": "code",
     "collapsed": false,
     "input": [
      "%%timeit\n",
      "p = find_words('PUTTONYOST')"
     ],
     "language": "python",
     "metadata": {},
     "outputs": [
      {
       "output_type": "stream",
       "stream": "stdout",
       "text": [
        "1 loops, best of 3: 8.14 s per loop\n"
       ]
      }
     ],
     "prompt_number": 81
    },
    {
     "cell_type": "code",
     "collapsed": false,
     "input": [
      "print p"
     ],
     "language": "python",
     "metadata": {},
     "outputs": [
      {
       "output_type": "stream",
       "stream": "stdout",
       "text": [
        "set(['TOY', 'YO', 'YON', 'YUP', 'TOP', 'UPON', 'TOT', 'TON', 'NO', 'POT', 'TO', 'NU', 'OUT', 'UPO', 'TUN', 'NOT', 'YOU', 'OPT', 'ON', 'PUN', 'TUP', 'UT', 'TUT', 'UP', 'UN', 'OY', 'PUT', 'NUT', 'OP'])\n"
       ]
      }
     ],
     "prompt_number": 77
    },
    {
     "cell_type": "code",
     "collapsed": false,
     "input": [
      "# REGRESSION TESTS\n",
      "\n",
      "hands = {\n",
      "    'ABECEDR' : set(['BE', 'CARE', 'BAR', 'BA', 'ACE', 'READ', \n",
      "                     'CAR', 'DE', 'BED', 'BEE', 'ERE', 'BAD', 'ERA', \n",
      "                     'REC', 'REB', 'CAB', 'DEB', 'DEE', 'RED', 'CAD', \n",
      "                     'RAD', 'DAB', 'REE', 'RE', 'RACE', 'EAR', 'AB', 'AE', \n",
      "                     'AD', 'DEAR', 'ED', 'CEE', 'BEAR', 'AR', 'ER', 'ARB', 'ARC', 'ARE', 'BRA']),\n",
      "    'ABACUSS' : set(['AA', 'ABA', 'AB', 'BAS', 'SAC', 'SAB', 'ASS', 'BAA', 'BA', 'US', \n",
      "                     'AS', 'ABS', 'CUB', 'AAS', 'BUS', 'CAB', 'SAU', 'SUB']),\n",
      "    'SNOOZEL' : set(['LOO', 'NE', 'SON', 'OLE', 'NO', 'LO', 'SOL', 'ONE', 'NOSE', \n",
      "                     'SEN', 'SEL', 'OSE', 'EL', 'EN', 'EON', 'ONES', 'ONS', 'ELS', \n",
      "                     'ZOO', 'ES', 'ON', 'NOO', 'OES', 'OS', 'OE', 'LOOSE', 'ENS', \n",
      "                     'SO', 'LOSE', 'LEZ', 'SOON', 'NOS']),\n",
      "    'PUTTONY' : set(['TOY', 'YO', 'YON', 'YUP', 'TOP', 'UPON', 'TOT', 'TON',\n",
      "                     'NO', 'POT', 'TO', 'NU', 'OUT', 'UPO', 'TUN', 'NOT', \n",
      "                     'YOU', 'OPT', 'ON', 'PUN', 'TUP', 'UT', 'TUT', 'UP', \n",
      "                     'UN', 'OY', 'PUT', 'NUT', 'OP'])\n",
      "    }\n",
      "\n",
      "def test():\n",
      "    from timeit import timeit\n",
      "    assert all((find_words(hand) == val for hand,val in hands.items()))\n",
      "#     print timeit('map(find_words ,hands)')\n",
      "    print 'passes tests'"
     ],
     "language": "python",
     "metadata": {},
     "outputs": [],
     "prompt_number": 72
    },
    {
     "cell_type": "code",
     "collapsed": false,
     "input": [
      "test()"
     ],
     "language": "python",
     "metadata": {},
     "outputs": [
      {
       "output_type": "stream",
       "stream": "stdout",
       "text": [
        "passes tests\n"
       ]
      }
     ],
     "prompt_number": 73
    },
    {
     "cell_type": "code",
     "collapsed": false,
     "input": [
      "from timeit import timeit\n"
     ],
     "language": "python",
     "metadata": {},
     "outputs": [],
     "prompt_number": 49
    },
    {
     "cell_type": "code",
     "collapsed": false,
     "input": [
      "timeit('find_words(')"
     ],
     "language": "python",
     "metadata": {},
     "outputs": [
      {
       "metadata": {},
       "output_type": "pyout",
       "prompt_number": 74,
       "text": [
        "0.03728604316711426"
       ]
      }
     ],
     "prompt_number": 74
    },
    {
     "cell_type": "code",
     "collapsed": false,
     "input": [],
     "language": "python",
     "metadata": {},
     "outputs": []
    }
   ],
   "metadata": {}
  }
 ]
}