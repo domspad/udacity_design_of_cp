{
 "metadata": {
  "name": ""
 },
 "nbformat": 3,
 "nbformat_minor": 0,
 "worksheets": [
  {
   "cells": [
    {
     "cell_type": "code",
     "collapsed": false,
     "input": [
      "# def longest_subpalindrome_slice(text) :\n",
      "#     \" Return (i,j) such that text[i:j] is the longest (earliest) palindrom in text.\"\n",
      "#     return\n",
      "\n",
      "def test() :\n",
      "    L = longest_subpalindrome_slice\n",
      "    assert L('racecar') == L('Racecar') == L('RacecarX') == (0,7)\n",
      "    assert L('Race car') == (0,1)\n",
      "    assert L('') == (0,0)\n",
      "    assert L('something rac e car going') == (8,21)\n",
      "    assert L('xxxxx') == (0,5)\n",
      "    assert L('Mad am I ma dam.') == (0,15)\n",
      "    assert L('xxxxxxxxxxxxxxxxxxxx') == (0,20)\n",
      "    return 'tests pass'\n",
      "           "
     ],
     "language": "python",
     "metadata": {},
     "outputs": [],
     "prompt_number": 160
    },
    {
     "cell_type": "code",
     "collapsed": false,
     "input": [
      "test()"
     ],
     "language": "python",
     "metadata": {},
     "outputs": [
      {
       "metadata": {},
       "output_type": "pyout",
       "prompt_number": 161,
       "text": [
        "'tests pass'"
       ]
      }
     ],
     "prompt_number": 161
    },
    {
     "cell_type": "code",
     "collapsed": false,
     "input": [
      "longest_subpalindrome_slice('Racecar')"
     ],
     "language": "python",
     "metadata": {},
     "outputs": [
      {
       "metadata": {},
       "output_type": "pyout",
       "prompt_number": 150,
       "text": [
        "(6, 6)"
       ]
      }
     ],
     "prompt_number": 150
    },
    {
     "cell_type": "heading",
     "level": 1,
     "metadata": {},
     "source": [
      "Simple solution a simple loop over all orderings"
     ]
    },
    {
     "cell_type": "markdown",
     "metadata": {},
     "source": [
      "concepts :\n",
      "    \n",
      "    - is_palindrom(text)\n",
      "    - looping over substrings (longest earlist --> shortest last)\n",
      "        - length, first\n"
     ]
    },
    {
     "cell_type": "code",
     "collapsed": false,
     "input": [
      "def simple_solution(text) :\n",
      "    \"\"\"\n",
      "    Finds the longest (and earliest if multiple) subpalindrome in text\n",
      "    Returns the indecies of the first and last character of the subpalindrom\n",
      "    \"\"\"\n",
      "    if len(text) < 2 :\n",
      "        return (0,len(text))\n",
      "    text = text.lower()\n",
      "    substrings = ((i,j) for i in range(len(text),0,-1) \n",
      "                  for j in range(0,len(text)-i))\n",
      "    try :\n",
      "        sol = next( (i,j) for (i,j) in substrings\n",
      "                    if is_palindrome(text[j:j+i+1]))\n",
      "    except StopIteration :\n",
      "        return (0,1)\n",
      "    return (sol[1],sol[1]+sol[0]+1)\n",
      "\n",
      "def is_palindrome(s) :\n",
      "    \"Returns True if s is palindrome\"\n",
      "    if s == '' :\n",
      "        return True\n",
      "    for i in range(0, len(s)/2 + 1) :\n",
      "        if s[i] != s[-i-1] :\n",
      "            return False\n",
      "    return True"
     ],
     "language": "python",
     "metadata": {},
     "outputs": [],
     "prompt_number": 111
    },
    {
     "cell_type": "code",
     "collapsed": false,
     "input": [
      "(length, start)\n",
      "(15,0)\n",
      "(14,0)\n",
      "(14,1)\n",
      "(13,0)\n",
      "(13,1)\n",
      "(13,2)\n",
      "...\n",
      "(2,13)\n",
      "("
     ],
     "language": "python",
     "metadata": {},
     "outputs": []
    },
    {
     "cell_type": "code",
     "collapsed": false,
     "input": [
      "(start,end)\n",
      "(0,15)\n",
      "(0,14)\n",
      "(1,15)\n",
      "(0,13)\n",
      "(1,14)\n",
      "(2,15)\n"
     ],
     "language": "python",
     "metadata": {},
     "outputs": []
    },
    {
     "cell_type": "code",
     "collapsed": false,
     "input": [],
     "language": "python",
     "metadata": {},
     "outputs": [],
     "prompt_number": 103
    },
    {
     "cell_type": "code",
     "collapsed": false,
     "input": [
      "\n",
      "for i,j in substrings :\n",
      "    print (i,j), text[j:j+i+1]"
     ],
     "language": "python",
     "metadata": {},
     "outputs": [
      {
       "output_type": "stream",
       "stream": "stdout",
       "text": [
        "(9, 0) 0123456789\n",
        "(8, 0) 012345678\n",
        "(8, 1) 123456789\n",
        "(7, 0) 01234567\n",
        "(7, 1) 12345678\n",
        "(7, 2) 23456789\n",
        "(6, 0) 0123456\n",
        "(6, 1) 1234567\n",
        "(6, 2) 2345678\n",
        "(6, 3) 3456789\n",
        "(5, 0) 012345\n",
        "(5, 1) 123456\n",
        "(5, 2) 234567\n",
        "(5, 3) 345678\n",
        "(5, 4) 456789\n",
        "(4, 0) 01234\n",
        "(4, 1) 12345\n",
        "(4, 2) 23456\n",
        "(4, 3) 34567\n",
        "(4, 4) 45678\n",
        "(4, 5) 56789\n",
        "(3, 0) 0123\n",
        "(3, 1) 1234\n",
        "(3, 2) 2345\n",
        "(3, 3) 3456\n",
        "(3, 4) 4567\n",
        "(3, 5) 5678\n",
        "(3, 6) 6789\n",
        "(2, 0) 012\n",
        "(2, 1) 123\n",
        "(2, 2) 234\n",
        "(2, 3) 345\n",
        "(2, 4) 456\n",
        "(2, 5) 567\n",
        "(2, 6) 678\n",
        "(2, 7) 789\n",
        "(1, 0) 01\n",
        "(1, 1) 12\n",
        "(1, 2) 23\n",
        "(1, 3) 34\n",
        "(1, 4) 45\n",
        "(1, 5) 56\n",
        "(1, 6) 67\n",
        "(1, 7) 78\n",
        "(1, 8) 89\n"
       ]
      }
     ],
     "prompt_number": 79
    },
    {
     "cell_type": "code",
     "collapsed": false,
     "input": [
      "next(g)"
     ],
     "language": "python",
     "metadata": {},
     "outputs": [
      {
       "metadata": {},
       "output_type": "pyout",
       "prompt_number": 51,
       "text": [
        "'012345678'"
       ]
      }
     ],
     "prompt_number": 51
    },
    {
     "cell_type": "code",
     "collapsed": false,
     "input": [],
     "language": "python",
     "metadata": {},
     "outputs": [],
     "prompt_number": 29
    },
    {
     "cell_type": "code",
     "collapsed": false,
     "input": [
      "is_palindrome('texttex')"
     ],
     "language": "python",
     "metadata": {},
     "outputs": [
      {
       "metadata": {},
       "output_type": "pyout",
       "prompt_number": 24,
       "text": [
        "(False, 't')"
       ]
      }
     ],
     "prompt_number": 24
    },
    {
     "cell_type": "code",
     "collapsed": false,
     "input": [
      "simple_solution('texttext')"
     ],
     "language": "python",
     "metadata": {},
     "outputs": [
      {
       "metadata": {},
       "output_type": "pyout",
       "prompt_number": 87,
       "text": [
        "(3, 4)"
       ]
      }
     ],
     "prompt_number": 87
    },
    {
     "cell_type": "code",
     "collapsed": false,
     "input": [
      "((i,j) for i in range(len(text),1,-1) for j in range(0,len(text)-i))"
     ],
     "language": "python",
     "metadata": {},
     "outputs": [
      {
       "metadata": {},
       "output_type": "pyout",
       "prompt_number": 15,
       "text": [
        "True"
       ]
      }
     ],
     "prompt_number": 15
    },
    {
     "cell_type": "code",
     "collapsed": false,
     "input": [
      "range(5,0,-1)"
     ],
     "language": "python",
     "metadata": {},
     "outputs": [
      {
       "metadata": {},
       "output_type": "pyout",
       "prompt_number": 43,
       "text": [
        "[5, 4, 3, 2, 1]"
       ]
      }
     ],
     "prompt_number": 43
    },
    {
     "cell_type": "code",
     "collapsed": false,
     "input": [
      "text = ''\n",
      "text[0:0]"
     ],
     "language": "python",
     "metadata": {},
     "outputs": [
      {
       "metadata": {},
       "output_type": "pyout",
       "prompt_number": 84,
       "text": [
        "''"
       ]
      }
     ],
     "prompt_number": 84
    },
    {
     "cell_type": "heading",
     "level": 2,
     "metadata": {},
     "source": [
      "O(n^2) solution"
     ]
    },
    {
     "cell_type": "markdown",
     "metadata": {},
     "source": [
      "concepts :\n",
      "\n",
      "    - seed substrings (2 and 3 sized)\n",
      "    - boundary (start end of text)\n",
      "    - stop condition on seed growth : boundary or failure\n",
      "    - iteration through seeds then iteration on growth for each seed\n",
      "    - "
     ]
    },
    {
     "cell_type": "code",
     "collapsed": false,
     "input": [
      "def longest_subpalindrome_slice(text) :\n",
      "    \" Return (i,j) such that text[i:j] is the longest (earliest) palindrom in text.\"\n",
      "    #check 0,1 length\n",
      "    if len(text) < 2 :\n",
      "        return (0,len(text))\n",
      "    #set text to lower\n",
      "    text = text.lower()\n",
      "    #set default longest\n",
      "    longest = (0,1)\n",
      "    #seed_gen\n",
      "    #for each seed\n",
      "    for seed in seed_gen(text) :\n",
      "        #find longest growth\n",
      "        stalk = grow(seed,text)\n",
      "        if longest[1]-longest[0] < stalk[1]-stalk[0] :\n",
      "            longest = stalk\n",
      "    #return longest growth\n",
      "    return longest\n",
      "\n",
      "def seed_gen(text) :\n",
      "    \"\"\"\n",
      "    A generator function for the 0 and 1 length substring indicies \n",
      "    that center all 2 and 3 length substrings\n",
      "    Text is assumed to be at least 2 chars\n",
      "    \"\"\"\n",
      "    for i in range(1,len(text)) :\n",
      "        yield (i,i)\n",
      "    if len(text) > 3 :\n",
      "        for i in range(1,len(text)-1) :\n",
      "            yield (i,i+1)\n",
      "\n",
      "def grow(seed,text) :\n",
      "    \"\"\"\n",
      "    Returns the longest palindrome with center ends\n",
      "    \"\"\"\n",
      "    if not boundary(seed,text) and step(seed,text) :\n",
      "        return grow((seed[0]-1,seed[1]+1),text)\n",
      "    return seed\n",
      "\n",
      "def boundary(seed,text) :\n",
      "    return (seed[0] == 0) or (seed[1] == len(text))\n",
      "\n",
      "def step(seed,text) :\n",
      "    return text[seed[0]-1] == text[seed[1]]"
     ],
     "language": "python",
     "metadata": {},
     "outputs": [],
     "prompt_number": 156
    },
    {
     "cell_type": "code",
     "collapsed": false,
     "input": [],
     "language": "python",
     "metadata": {},
     "outputs": [],
     "prompt_number": 152
    },
    {
     "cell_type": "code",
     "collapsed": false,
     "input": [
      "\n",
      "    "
     ],
     "language": "python",
     "metadata": {},
     "outputs": [],
     "prompt_number": 153
    },
    {
     "cell_type": "code",
     "collapsed": false,
     "input": [
      "text = '012345'\n",
      "ind = (0,4)\n",
      "text[ind[0]:ind[1]]\n",
      "text[1:1]"
     ],
     "language": "python",
     "metadata": {},
     "outputs": [
      {
       "metadata": {},
       "output_type": "pyout",
       "prompt_number": 132,
       "text": [
        "''"
       ]
      }
     ],
     "prompt_number": 132
    },
    {
     "cell_type": "code",
     "collapsed": false,
     "input": [
      "list(seed_gen(text))"
     ],
     "language": "python",
     "metadata": {},
     "outputs": [
      {
       "metadata": {},
       "output_type": "pyout",
       "prompt_number": 136,
       "text": [
        "[(1, 1), (2, 2), (3, 3), (4, 4), (5, 5), (1, 2), (2, 3), (3, 4), (4, 5)]"
       ]
      }
     ],
     "prompt_number": 136
    },
    {
     "cell_type": "code",
     "collapsed": false,
     "input": [
      "text[0:2]"
     ],
     "language": "python",
     "metadata": {},
     "outputs": [
      {
       "metadata": {},
       "output_type": "pyout",
       "prompt_number": 139,
       "text": [
        "'01'"
       ]
      }
     ],
     "prompt_number": 139
    },
    {
     "cell_type": "code",
     "collapsed": false,
     "input": [
      "'ba'[0:2]\n",
      "range(2,3)"
     ],
     "language": "python",
     "metadata": {},
     "outputs": [
      {
       "metadata": {},
       "output_type": "pyout",
       "prompt_number": 118,
       "text": [
        "[2]"
       ]
      }
     ],
     "prompt_number": 118
    },
    {
     "cell_type": "code",
     "collapsed": false,
     "input": [
      "(0,2)\n",
      "(1,3)\n",
      "(2,4)\n",
      "...\n",
      "(6,8)\n",
      "\n",
      "(0,3)\n",
      "(1,4)\n",
      "(2,5)\n",
      "...\n",
      "(5,8)"
     ],
     "language": "python",
     "metadata": {},
     "outputs": []
    },
    {
     "cell_type": "code",
     "collapsed": false,
     "input": [
      "text = '01234567'"
     ],
     "language": "python",
     "metadata": {},
     "outputs": [],
     "prompt_number": 113
    },
    {
     "cell_type": "code",
     "collapsed": false,
     "input": [
      "text[0:3]"
     ],
     "language": "python",
     "metadata": {},
     "outputs": [
      {
       "metadata": {},
       "output_type": "pyout",
       "prompt_number": 114,
       "text": [
        "'012'"
       ]
      }
     ],
     "prompt_number": 114
    },
    {
     "cell_type": "heading",
     "level": 3,
     "metadata": {},
     "source": [
      "Norvig solution"
     ]
    },
    {
     "cell_type": "code",
     "collapsed": false,
     "input": [
      "def longest_subpalindrome_slice(text) :\n",
      "    if text == '': return (0,0)\n",
      "    def length(slice) : a,b = slice; return b-a\n",
      "    candidates = [grow(text,start,end) \n",
      "                  for start in range(len(text))\n",
      "                  for end in (start, start+1)]\n",
      "    return max(candidates, key=length)\n",
      "\n",
      "def grow(text, start, end) :\n",
      "    \"start with 0- or 1- length palindrome; try to grow a bigger one.\"\n",
      "    while (start > 0) and (end < len(text)\n",
      "            and text[start-1].upper() == text[end].upper()):\n",
      "        start -= 1; end+=1\n",
      "    return (start,end)\n"
     ],
     "language": "python",
     "metadata": {},
     "outputs": [],
     "prompt_number": 159
    },
    {
     "cell_type": "heading",
     "level": 3,
     "metadata": {},
     "source": [
      "Comparison notes about Norvig's"
     ]
    },
    {
     "cell_type": "markdown",
     "metadata": {},
     "source": [
      "algorithm : (same as mine)\n",
      "\n",
      "data objects :\n",
      "\n",
      " - text : string\n",
      " - seeds : ints start and end\n",
      " - candidates : strings (longest subpals for each seed)\n",
      " \n",
      "methods :\n",
      "\n",
      " - seed_gen : list comprehension also different order than me\n",
      " - grow : iteration (not recursion...faster) and not explicit funcs for tests\n",
      " \n",
      "base cases :\n",
      "\n",
      " - longest_sub..: just text == '' (i didn't need to control for 'x' case)\n",
      " - grow : 0- and 1- length substrs (like me)\n",
      " \n",
      "takeaways :\n",
      "\n",
      " - use of max([list comprehension], key=...) for clarity/elegence instead loop+test\n",
      " - not coding every bool test"
     ]
    },
    {
     "cell_type": "code",
     "collapsed": false,
     "input": [],
     "language": "python",
     "metadata": {},
     "outputs": []
    }
   ],
   "metadata": {}
  }
 ]
}