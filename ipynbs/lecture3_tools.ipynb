{
 "metadata": {
  "name": ""
 },
 "nbformat": 3,
 "nbformat_minor": 0,
 "worksheets": [
  {
   "cells": [
    {
     "cell_type": "code",
     "collapsed": false,
     "input": [
      "import re\n",
      "word = 'bkdsajfkdl;afjbaaadjkl;ewa'\n",
      "re.findall(r'baa*', word)"
     ],
     "language": "python",
     "metadata": {},
     "outputs": [
      {
       "metadata": {},
       "output_type": "pyout",
       "prompt_number": 1,
       "text": [
        "['baaa']"
       ]
      }
     ],
     "prompt_number": 1
    },
    {
     "cell_type": "code",
     "collapsed": false,
     "input": [
      "word = 'thdc'\n",
      "re.match(r'th.?c',word)"
     ],
     "language": "python",
     "metadata": {},
     "outputs": [
      {
       "metadata": {},
       "output_type": "pyout",
       "prompt_number": 2,
       "text": [
        "<_sre.SRE_Match at 0x103d9cd30>"
       ]
      }
     ],
     "prompt_number": 2
    },
    {
     "cell_type": "code",
     "collapsed": false,
     "input": [
      "list(word)"
     ],
     "language": "python",
     "metadata": {},
     "outputs": [
      {
       "metadata": {},
       "output_type": "pyout",
       "prompt_number": 6,
       "text": [
        "['t', 'h', 'd', 'c']"
       ]
      }
     ],
     "prompt_number": 6
    },
    {
     "cell_type": "code",
     "collapsed": false,
     "input": [
      "max([-1])"
     ],
     "language": "python",
     "metadata": {},
     "outputs": [
      {
       "metadata": {},
       "output_type": "pyout",
       "prompt_number": 10,
       "text": [
        "-1"
       ]
      }
     ],
     "prompt_number": 10
    },
    {
     "cell_type": "code",
     "collapsed": false,
     "input": [
      "range(max([-1]))"
     ],
     "language": "python",
     "metadata": {},
     "outputs": [
      {
       "metadata": {},
       "output_type": "pyout",
       "prompt_number": 24,
       "text": [
        "[]"
       ]
      }
     ],
     "prompt_number": 24
    },
    {
     "cell_type": "code",
     "collapsed": false,
     "input": [
      "from functools import update_wrapper\n",
      "\n",
      "# def decorator(d) :\n",
      "#     def _d(fn) :\n",
      "#         return update_wrapper(d(fn),fn)\n",
      "#     update_wrapper(_d,d)\n",
      "#     return _d\n",
      "\n",
      "def decorator(d) :\n",
      "    \"make func d\"\n",
      "    return lambda fn: update_wrapper(d(fn),fn)\n",
      "\n",
      "decorator = decorator(decorator)"
     ],
     "language": "python",
     "metadata": {},
     "outputs": [],
     "prompt_number": 31
    },
    {
     "cell_type": "code",
     "collapsed": false,
     "input": [
      "help(decorator)"
     ],
     "language": "python",
     "metadata": {},
     "outputs": [
      {
       "output_type": "stream",
       "stream": "stdout",
       "text": [
        "Help on function <lambda> in module __main__:\n",
        "\n",
        "<lambda> lambda fn\n",
        "\n"
       ]
      }
     ],
     "prompt_number": 33
    },
    {
     "cell_type": "code",
     "collapsed": false,
     "input": [
      "# ---------------\n",
      "# User Instructions\n",
      "#\n",
      "# Modify the function, trace, so that when it is used\n",
      "# as a decorator it gives a trace as shown in the previous\n",
      "# video. You can test your function by applying the decorator\n",
      "# to the provided fibonnaci function.\n",
      "#\n",
      "# Note: Running this in the browser's IDE will not display\n",
      "# the indentations.\n",
      "\n",
      "from functools import update_wrapper\n",
      "\n",
      "\n",
      "def decorator(d):\n",
      "    \"Make function d a decorator: d wraps a function fn.\"\n",
      "    def _d(fn):\n",
      "        return update_wrapper(d(fn), fn)\n",
      "    update_wrapper(_d, d)\n",
      "    return _d\n",
      "\n",
      "@decorator\n",
      "def trace(f):\n",
      "    indent = '   '\n",
      "    def _f(*args):\n",
      "        signature = '%s(%s)' % (f.__name__, ', '.join(map(repr, args)))\n",
      "        print '%s--> %s' % (trace.level*indent, signature)\n",
      "        trace.level += 1\n",
      "        try:\n",
      "            # your code here\n",
      "            result = f(*args)\n",
      "            print '%s<-- %s == %s' % ((trace.level-1)*indent, \n",
      "                                      signature, result)\n",
      "        finally:\n",
      "            # your code here\n",
      "            trace.level-=1\n",
      "        return result\n",
      "    trace.level = 0\n",
      "    return _f\n",
      "\n",
      "@trace\n",
      "def fib(n):\n",
      "    if n == 0 or n == 1:\n",
      "        return 1\n",
      "    else:\n",
      "        return fib(n-1) + fib(n-2)\n",
      "\n",
      "fib(6) #running this in the browser's IDE  will not display the indentations!"
     ],
     "language": "python",
     "metadata": {},
     "outputs": [
      {
       "output_type": "stream",
       "stream": "stdout",
       "text": [
        "--> fib(6)\n",
        "   --> fib(5)\n",
        "      --> fib(4)\n",
        "         --> fib(3)\n",
        "            --> fib(2)\n",
        "               --> fib(1)\n",
        "               <-- fib(1) == 1\n",
        "               --> fib(0)\n",
        "               <-- fib(0) == 1\n",
        "            <-- fib(2) == 2\n",
        "            --> fib(1)\n",
        "            <-- fib(1) == 1\n",
        "         <-- fib(3) == 3\n",
        "         --> fib(2)\n",
        "            --> fib(1)\n",
        "            <-- fib(1) == 1\n",
        "            --> fib(0)\n",
        "            <-- fib(0) == 1\n",
        "         <-- fib(2) == 2\n",
        "      <-- fib(4) == 5\n",
        "      --> fib(3)\n",
        "         --> fib(2)\n",
        "            --> fib(1)\n",
        "            <-- fib(1) == 1\n",
        "            --> fib(0)\n",
        "            <-- fib(0) == 1\n",
        "         <-- fib(2) == 2\n",
        "         --> fib(1)\n",
        "         <-- fib(1) == 1\n",
        "      <-- fib(3) == 3\n",
        "   <-- fib(5) == 8\n",
        "   --> fib(4)\n",
        "      --> fib(3)\n",
        "         --> fib(2)\n",
        "            --> fib(1)\n",
        "            <-- fib(1) == 1\n",
        "            --> fib(0)\n",
        "            <-- fib(0) == 1\n",
        "         <-- fib(2) == 2\n",
        "         --> fib(1)\n",
        "         <-- fib(1) == 1\n",
        "      <-- fib(3) == 3\n",
        "      --> fib(2)\n",
        "         --> fib(1)\n",
        "         <-- fib(1) == 1\n",
        "         --> fib(0)\n",
        "         <-- fib(0) == 1\n",
        "      <-- fib(2) == 2\n",
        "   <-- fib(4) == 5\n",
        "<-- fib(6) == 13\n"
       ]
      },
      {
       "metadata": {},
       "output_type": "pyout",
       "prompt_number": 38,
       "text": [
        "13"
       ]
      }
     ],
     "prompt_number": 38
    },
    {
     "cell_type": "code",
     "collapsed": false,
     "input": [
      "import functools\n",
      "import re\n",
      "\n",
      "def grammar(description, whitespace = r'\\s*'):\n",
      "    \"\"\"\n",
      "    Convert a description to a grammar. Each line is a rule for a\n",
      "    non-terminal symbol; it looks like this:\n",
      "\n",
      "        Symbol => A1 A2 ... | B1 B2 ... | C1 C2 ...\n",
      "\n",
      "    where the right-hand side is one or more alternatives, separated by\n",
      "    the '|' sign. Each alternative is a sequence of atoms, separated by\n",
      "    spaces.  An atom is either a symbol on syme left-hand side, or it is a\n",
      "    regular expression that will be passed to re.match to match a token.\n",
      "\n",
      "    Notation for *, +, or ? not allowed in a rule alternative (but ok within a\n",
      "    token). Use '\\' to continue long lines. You must include spaces or tabs\n",
      "    around '=>' and '|'. That's within the grammar description itself(...?). The\n",
      "    grammar that gets defined allows whitespace between tokens by default or\n",
      "    specify '' as the second argument to grammar() to disallow this (or supply\n",
      "    any regular expression to describe allowable whitespace between\n",
      "    tokens).\"\"\"\n",
      "    G = {' ': whitespace}\n",
      "    description = description.replace('\\t', ' ') # no tabs!\n",
      "    for line in split(description, '\\n'):\n",
      "        lhs, rhs = split(line, ' => ', 1)\n",
      "        alternatives = split(rhs, ' | ')\n",
      "        G[lhs] = tuple(map(split, alternatives))\n",
      "    return G\n",
      "\n",
      "def split(text, sep = None, maxsplit = -1):\n",
      "    \"Like str.split applied to text, but strips whitespace from each piece.\"\n",
      "    return [t.strip() for t in text.strip().split(sep, maxsplit) if t]\n",
      "\n",
      "def parse(start_symbol, text, grammar):\n",
      "    \"\"\"Example call: parse('Exp', '3*x + b', G).\n",
      "    Returns a (tree, remainder) pair. If remainder is '', it parsed the whole\n",
      "    string. Failure iff remainder is None. This is a deterministic PEG parser,\n",
      "    so rule order (left-to-right) matters. Do 'E => T op E | T', putting the\n",
      "    longest parse first; don't do 'E => T | T op E'\n",
      "    Also, no left recursion allowed: don't do 'E => E op T'\n",
      "\n",
      "    See: http://en.wikipedia.org/wiki/Parsing_expression_grammar\n",
      "    \"\"\"\n",
      "\n",
      "    tokenizer = grammar[' '] + '(%s)'\n",
      "\n",
      "    def parse_sequence(sequence, text):\n",
      "        \"\"\"\n",
      "        Try to match the sequence of atoms against text.\n",
      "\n",
      "        Parameters:\n",
      "        sequence : an iterable of atoms\n",
      "        text : a string\n",
      "\n",
      "        Returns:\n",
      "        Fail : if any atom in sequence does not match\n",
      "        (tree, remainder) : the tree and remainder if the entire sequence matches text\n",
      "        \"\"\"\n",
      "        result = []\n",
      "        for atom in sequence:\n",
      "            tree, text = parse_atom(atom, text)\n",
      "            if text is None: return Fail\n",
      "            result.append(tree)\n",
      "        return result, text\n",
      "\n",
      "    @memo\n",
      "    def parse_atom(atom, text):\n",
      "        \"\"\"\n",
      "        Parameters:\n",
      "        atom : either a key in grammar or a regular expression\n",
      "        text : a string\n",
      "\n",
      "        Returns:\n",
      "        Fail : if no match can be found\n",
      "        (tree, remainder) : if a match is found\n",
      "            tree is the parse tree of the first match found\n",
      "            remainder is the text that was not matched\n",
      "        \"\"\"\n",
      "        if atom in grammar:  # Non-Terminal: tuple of alternatives\n",
      "            for alternative in grammar[atom]:\n",
      "                tree, rem = parse_sequence(alternative, text)\n",
      "                if rem is not None: return [atom]+tree, rem\n",
      "            return Fail\n",
      "        else:  # Terminal: match characters against start of text\n",
      "            m = re.match(tokenizer % atom, text)\n",
      "            return Fail if (not m) else (m.group(1), text[m.end():])\n",
      "\n",
      "    return parse_atom(start_symbol, text)\n",
      "\n",
      "Fail = (None, None)\n",
      "\n",
      "def decorator(d):\n",
      "    \"Make function d a decorator: d wraps a function fn.\"\n",
      "    def _d(fn):\n",
      "        return functools.update_wrapper(d(fn), fn)\n",
      "    functools.update_wrapper(_d, d)\n",
      "    return _d\n",
      "\n",
      "@decorator\n",
      "def memo(f):\n",
      "    \"\"\"Decorator that caches the return value for each call to f(args).\n",
      "    Then when called again with same args, we can just look it up.\"\"\"\n",
      "    cache = {}\n",
      "    def _f(*args):\n",
      "        try:\n",
      "            return cache[args]\n",
      "        except KeyError:\n",
      "            cache[args] = result = f(*args)\n",
      "            return result\n",
      "        except TypeError:\n",
      "            # some element of args can't be a dict key\n",
      "            return f(*args)\n",
      "    _f.cache = cache\n",
      "    return _f\n",
      "\n",
      "G = grammar(r\"\"\"\n",
      "Exp => Term [+-] Exp | Term\n",
      "Term => Factor [*/] Term | Factor\n",
      "Factor => Funcall | Var | Num | [(] Exp [)]\n",
      "Funcall => Var [(] Exps [)]\n",
      "Exps => Exp [,] Exps | Exp\n",
      "Var => [a-zA-Z_]\\w*\n",
      "Num => [-+]?[0-9]+([.][0-9]*)?\n",
      "\"\"\")\n",
      "\n",
      "## Parsing URLs\n",
      "## See http://www.w3.org/Addressing/URL/5_BNF.html\n",
      "\n",
      "URL = grammar(\"\"\"\n",
      "url => httpaddress | ftpaddress | mailtoaddress\n",
      "httpaddress => http:// hostport /path? ?search?\n",
      "ftpaddress => ftp:// login / path ; ftptype | ftp:// login / path\n",
      "/path? => / path | ()\n",
      "?search? => [?] search | ()\n",
      "mailtoaddress => mailto: xalphas @ hostname\n",
      "hostport => host : port | host\n",
      "host => hostname | hostnumber\n",
      "hostname => ialpha . hostname | ialpha\n",
      "hostnumber => digits . digits . digits . digits\n",
      "ftptype => A formcode | E formcode | I | L digits\n",
      "formcode => [NTC]\n",
      "port => digits | path\n",
      "path => void | segment / path | segment\n",
      "segment => xalphas\n",
      "search => xalphas + search | xalphas\n",
      "login => userpassword hostport | hostport\n",
      "userpassword => user : password @ | user @\n",
      "user => alphanum2 user | alphanum2\n",
      "password => alphanum2 password | password\n",
      "path => void | segment / path | segment\n",
      "void => ()\n",
      "digits => digit digits | digit\n",
      "digit => [0-9]\n",
      "alpha => [a-zA-Z]\n",
      "safe => [-$_@.&+]\n",
      "extra => [()!*''\"\"]\n",
      "escape => % hex hex\n",
      "hex => [0-9a-fA-F]\n",
      "alphanum => alpha | digit\n",
      "alphanums => alphanum alphanums | alphanum\n",
      "alphanum2 => alpha | digit | [-_.+]\n",
      "ialpha => alpha xalphas | alpha\n",
      "xalphas => xalpha xalphas | xalpha\n",
      "xalpha => alpha | digit | safe | extra | escape\n",
      "\"\"\", whitespace = '()')\n",
      "\n",
      "def verify(G):\n",
      "    lhstokens = set(G) - set([' '])\n",
      "    print(G.values())\n",
      "    rhstokens = set(t for alts in G.values() for alt in alts for t in alt)\n",
      "    def show(title, tokens): print title, '=', ' '.join(map(repr, sorted(tokens)))\n",
      "    show('Non-Terms', G)\n",
      "    show('Terminals', rhstokens - lhstokens)\n",
      "    show('Suspects', [t for t in (rhstokens-lhstokens) if t.isalnum()])\n",
      "    show('Orphans ', lhstokens-rhstokens)\n",
      "\n",
      "if __name__ == '__main__':\n",
      "    # print(G)\n",
      "    verify(G)\n",
      "    print(parse('Exp', '3*x + b', G))\n",
      "\n",
      "    print(URL)\n",
      "    verify(URL)\n",
      "    print(parse('url', 'http://www.w3.org/Addressing/URL/5_BNF.html', URL))"
     ],
     "language": "python",
     "metadata": {},
     "outputs": [
      {
       "output_type": "stream",
       "stream": "stdout",
       "text": [
        "['\\\\s*', (['Factor', '[*/]', 'Term'], ['Factor']), (['Exp', '[,]', 'Exps'], ['Exp']), (['Var', '[(]', 'Exps', '[)]'],), (['[-+]?[0-9]+([.][0-9]*)?'],), (['Term', '[+-]', 'Exp'], ['Term']), (['Funcall'], ['Var'], ['Num'], ['[(]', 'Exp', '[)]']), (['[a-zA-Z_]\\\\w*'],)]\n",
        "Non-Terms = ' ' 'Exp' 'Exps' 'Factor' 'Funcall' 'Num' 'Term' 'Var'\n",
        "Terminals = '*' '[(]' '[)]' '[*/]' '[+-]' '[,]' '[-+]?[0-9]+([.][0-9]*)?' '[a-zA-Z_]\\\\w*' '\\\\' 's'\n",
        "Suspects = 's'\n",
        "Orphans  = \n",
        "(['Exp', ['Term', ['Factor', ['Num', '3']], '*', ['Term', ['Factor', ['Var', 'x']]]], '+', ['Exp', ['Term', ['Factor', ['Var', 'b']]]]], '')\n",
        "{'formcode': (['[NTC]'],), 'extra': (['[()!*\\'\\'\"\"]'],), 'userpassword': (['user', ':', 'password', '@'], ['user', '@']), 'escape': (['%', 'hex', 'hex'],), 'alphanums': (['alphanum', 'alphanums'], ['alphanum']), '?search?': (['[?]', 'search'], ['()']), 'alpha': (['[a-zA-Z]'],), 'ialpha': (['alpha', 'xalphas'], ['alpha']), 'httpaddress': (['http://', 'hostport', '/path?', '?search?'],), 'port': (['digits'], ['path']), ' ': '()', 'mailtoaddress': (['mailto:', 'xalphas', '@', 'hostname'],), 'hostname': (['ialpha', '.', 'hostname'], ['ialpha']), 'hex': (['[0-9a-fA-F]'],), 'ftptype': (['A', 'formcode'], ['E', 'formcode'], ['I'], ['L', 'digits']), 'ftpaddress': (['ftp://', 'login', '/', 'path', ';', 'ftptype'], ['ftp://', 'login', '/', 'path']), 'digit': (['[0-9]'],), 'void': (['()'],), 'safe': (['[-$_@.&+]'],), 'xalpha': (['alpha'], ['digit'], ['safe'], ['extra'], ['escape']), 'alphanum2': (['alpha'], ['digit'], ['[-_.+]']), 'host': (['hostname'], ['hostnumber']), 'user': (['alphanum2', 'user'], ['alphanum2']), 'xalphas': (['xalpha', 'xalphas'], ['xalpha']), 'path': (['void'], ['segment', '/', 'path'], ['segment']), 'password': (['alphanum2', 'password'], ['password']), 'segment': (['xalphas'],), 'digits': (['digit', 'digits'], ['digit']), 'search': (['xalphas', '+', 'search'], ['xalphas']), '/path?': (['/', 'path'], ['()']), 'url': (['httpaddress'], ['ftpaddress'], ['mailtoaddress']), 'alphanum': (['alpha'], ['digit']), 'hostport': (['host', ':', 'port'], ['host']), 'login': (['userpassword', 'hostport'], ['hostport']), 'hostnumber': (['digits', '.', 'digits', '.', 'digits', '.', 'digits'],)}\n",
        "[(['[NTC]'],), (['[()!*\\'\\'\"\"]'],), (['user', ':', 'password', '@'], ['user', '@']), (['%', 'hex', 'hex'],), (['alphanum', 'alphanums'], ['alphanum']), (['[?]', 'search'], ['()']), (['[a-zA-Z]'],), (['alpha', 'xalphas'], ['alpha']), (['http://', 'hostport', '/path?', '?search?'],), (['digits'], ['path']), '()', (['mailto:', 'xalphas', '@', 'hostname'],), (['ialpha', '.', 'hostname'], ['ialpha']), (['[0-9a-fA-F]'],), (['A', 'formcode'], ['E', 'formcode'], ['I'], ['L', 'digits']), (['ftp://', 'login', '/', 'path', ';', 'ftptype'], ['ftp://', 'login', '/', 'path']), (['[0-9]'],), (['()'],), (['[-$_@.&+]'],), (['alpha'], ['digit'], ['safe'], ['extra'], ['escape']), (['alpha'], ['digit'], ['[-_.+]']), (['hostname'], ['hostnumber']), (['alphanum2', 'user'], ['alphanum2']), (['xalpha', 'xalphas'], ['xalpha']), (['void'], ['segment', '/', 'path'], ['segment']), (['alphanum2', 'password'], ['password']), (['xalphas'],), (['digit', 'digits'], ['digit']), (['xalphas', '+', 'search'], ['xalphas']), (['/', 'path'], ['()']), (['httpaddress'], ['ftpaddress'], ['mailtoaddress']), (['alpha'], ['digit']), (['host', ':', 'port'], ['host']), (['userpassword', 'hostport'], ['hostport']), (['digits', '.', 'digits', '.', 'digits', '.', 'digits'],)]\n",
        "Non-Terms = ' ' '/path?' '?search?' 'alpha' 'alphanum' 'alphanum2' 'alphanums' 'digit' 'digits' 'escape' 'extra' 'formcode' 'ftpaddress' 'ftptype' 'hex' 'host' 'hostname' 'hostnumber' 'hostport' 'httpaddress' 'ialpha' 'login' 'mailtoaddress' 'password' 'path' 'port' 'safe' 'search' 'segment' 'url' 'user' 'userpassword' 'void' 'xalpha' 'xalphas'\n",
        "Terminals = '%' '(' '()' ')' '+' '.' '/' ':' ';' '@' 'A' 'E' 'I' 'L' '[()!*\\'\\'\"\"]' '[-$_@.&+]' '[-_.+]' '[0-9]' '[0-9a-fA-F]' '[?]' '[NTC]' '[a-zA-Z]' 'ftp://' 'http://' 'mailto:'\n",
        "Suspects = 'A' 'E' 'I' 'L'\n",
        "Orphans  = 'url'\n",
        "(['url', ['httpaddress', '', ['hostport', ['host', ['hostname', ['ialpha', ['alpha', ''], ['xalphas', ['xalpha', ['alpha', '']], ['xalphas', ['xalpha', ['alpha', '']], ['xalphas', ['xalpha', ['safe', '']], ['xalphas', ['xalpha', ['alpha', '']], ['xalphas', ['xalpha', ['digit', '']], ['xalphas', ['xalpha', ['safe', '']], ['xalphas', ['xalpha', ['alpha', '']], ['xalphas', ['xalpha', ['alpha', '']], ['xalphas', ['xalpha', ['alpha', '']]]]]]]]]]]], '', ['hostname', ['ialpha', ['alpha', ''], ['xalphas', ['xalpha', ['alpha', '']], ['xalphas', ['xalpha', ['alpha', '']], ['xalphas', ['xalpha', ['alpha', '']], ['xalphas', ['xalpha', ['alpha', '']], ['xalphas', ['xalpha', ['alpha', '']], ['xalphas', ['xalpha', ['alpha', '']], ['xalphas', ['xalpha', ['alpha', '']], ['xalphas', ['xalpha', ['alpha', '']], ['xalphas', ['xalpha', ['alpha', '']]]]]]]]]]]], '', ['hostname', ['ialpha', ['alpha', ''], ['xalphas', ['xalpha', ['alpha', '']], ['xalphas', ['xalpha', ['alpha', '']]]]]]]]]], ['/path?', '', ['path', ['void', '']]], ['?search?', '']]], '5_BNF.html')\n"
       ]
      }
     ],
     "prompt_number": 41
    },
    {
     "cell_type": "code",
     "collapsed": false,
     "input": [
      "print(parse('url', 'http://www.w3.org/Addressing/URL/5_BNF.html', URL))"
     ],
     "language": "python",
     "metadata": {},
     "outputs": [
      {
       "output_type": "stream",
       "stream": "stdout",
       "text": [
        "(['url', ['httpaddress', '', ['hostport', ['host', ['hostname', ['ialpha', ['alpha', ''], ['xalphas', ['xalpha', ['alpha', '']], ['xalphas', ['xalpha', ['alpha', '']], ['xalphas', ['xalpha', ['safe', '']], ['xalphas', ['xalpha', ['alpha', '']], ['xalphas', ['xalpha', ['digit', '']], ['xalphas', ['xalpha', ['safe', '']], ['xalphas', ['xalpha', ['alpha', '']], ['xalphas', ['xalpha', ['alpha', '']], ['xalphas', ['xalpha', ['alpha', '']]]]]]]]]]]], '', ['hostname', ['ialpha', ['alpha', ''], ['xalphas', ['xalpha', ['alpha', '']], ['xalphas', ['xalpha', ['alpha', '']], ['xalphas', ['xalpha', ['alpha', '']], ['xalphas', ['xalpha', ['alpha', '']], ['xalphas', ['xalpha', ['alpha', '']], ['xalphas', ['xalpha', ['alpha', '']], ['xalphas', ['xalpha', ['alpha', '']], ['xalphas', ['xalpha', ['alpha', '']], ['xalphas', ['xalpha', ['alpha', '']]]]]]]]]]]], '', ['hostname', ['ialpha', ['alpha', ''], ['xalphas', ['xalpha', ['alpha', '']], ['xalphas', ['xalpha', ['alpha', '']]]]]]]]]], ['/path?', '', ['path', ['void', '']]], ['?search?', '']]], '5_BNF.html')\n"
       ]
      }
     ],
     "prompt_number": 42
    },
    {
     "cell_type": "code",
     "collapsed": false,
     "input": [
      "print(parse('url','http://www.google.com',URL))\n"
     ],
     "language": "python",
     "metadata": {},
     "outputs": [
      {
       "output_type": "stream",
       "stream": "stdout",
       "text": [
        "(['url', ['httpaddress', '', ['hostport', ['host', ['hostname', ['ialpha', ['alpha', ''], ['xalphas', ['xalpha', ['alpha', '']], ['xalphas', ['xalpha', ['alpha', '']], ['xalphas', ['xalpha', ['safe', '']], ['xalphas', ['xalpha', ['alpha', '']], ['xalphas', ['xalpha', ['alpha', '']], ['xalphas', ['xalpha', ['alpha', '']], ['xalphas', ['xalpha', ['alpha', '']], ['xalphas', ['xalpha', ['alpha', '']], ['xalphas', ['xalpha', ['alpha', '']], ['xalphas', ['xalpha', ['safe', '']], ['xalphas', ['xalpha', ['alpha', '']], ['xalphas', ['xalpha', ['alpha', '']], ['xalphas', ['xalpha', ['alpha', '']]]]]]]]]]]]]]]]]]], ['/path?', ''], ['?search?', '']]], '')\n"
       ]
      }
     ],
     "prompt_number": 44
    },
    {
     "cell_type": "code",
     "collapsed": false,
     "input": [],
     "language": "python",
     "metadata": {},
     "outputs": []
    }
   ],
   "metadata": {}
  }
 ]
}