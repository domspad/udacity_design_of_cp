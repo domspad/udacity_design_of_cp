{
 "metadata": {
  "name": ""
 },
 "nbformat": 3,
 "nbformat_minor": 0,
 "worksheets": [
  {
   "cells": [
    {
     "cell_type": "code",
     "collapsed": false,
     "input": [
      "a = [1,2,3]"
     ],
     "language": "python",
     "metadata": {},
     "outputs": [],
     "prompt_number": 1
    },
    {
     "cell_type": "code",
     "collapsed": false,
     "input": [
      "b = a + [5,6] #creates a NEW list"
     ],
     "language": "python",
     "metadata": {},
     "outputs": [],
     "prompt_number": 2
    },
    {
     "cell_type": "code",
     "collapsed": false,
     "input": [
      "a"
     ],
     "language": "python",
     "metadata": {},
     "outputs": [
      {
       "metadata": {},
       "output_type": "pyout",
       "prompt_number": 3,
       "text": [
        "[1, 2, 3]"
       ]
      }
     ],
     "prompt_number": 3
    },
    {
     "cell_type": "code",
     "collapsed": false,
     "input": [
      "b"
     ],
     "language": "python",
     "metadata": {},
     "outputs": [
      {
       "metadata": {},
       "output_type": "pyout",
       "prompt_number": 4,
       "text": [
        "[1, 2, 3, 5, 6]"
       ]
      }
     ],
     "prompt_number": 4
    },
    {
     "cell_type": "code",
     "collapsed": false,
     "input": [
      "b.pop(0)"
     ],
     "language": "python",
     "metadata": {},
     "outputs": [
      {
       "metadata": {},
       "output_type": "pyout",
       "prompt_number": 5,
       "text": [
        "1"
       ]
      }
     ],
     "prompt_number": 5
    },
    {
     "cell_type": "code",
     "collapsed": false,
     "input": [
      "b"
     ],
     "language": "python",
     "metadata": {},
     "outputs": [
      {
       "metadata": {},
       "output_type": "pyout",
       "prompt_number": 6,
       "text": [
        "[2, 3, 5, 6]"
       ]
      }
     ],
     "prompt_number": 6
    },
    {
     "cell_type": "code",
     "collapsed": false,
     "input": [
      "a"
     ],
     "language": "python",
     "metadata": {},
     "outputs": [
      {
       "metadata": {},
       "output_type": "pyout",
       "prompt_number": 8,
       "text": [
        "[1, 2, 3]"
       ]
      }
     ],
     "prompt_number": 8
    },
    {
     "cell_type": "code",
     "collapsed": false,
     "input": [
      "# -----------------\n",
      "# User Instructions\n",
      "# \n",
      "# Write a function, bsuccessors(state), that takes a state as input\n",
      "# and returns a dictionary of {state:action} pairs.\n",
      "#\n",
      "# A state is a (here, there, t) tuple, where here and there are \n",
      "# frozensets of people (indicated by their times), and potentially\n",
      "# the 'light,' t is a number indicating the elapsed time.\n",
      "#\n",
      "# An action is a tuple (person1, person2, arrow), where arrow is \n",
      "# '->' for here to there or '<-' for there to here. When only one \n",
      "# person crosses, person2 will be the same as person one, so the\n",
      "# action (2, 2, '->') means that the person with a travel time of\n",
      "# 2 crossed from here to there alone.\n",
      "import itertools\n",
      "\n",
      "def bsuccessors(state):\n",
      "    \"\"\"Return a dict of {state:action} pairs. A state is a (here, there, t) tuple,\n",
      "    where here and there are frozensets of people (indicated by their times) and/or\n",
      "    the 'light', and t is a number indicating the elapsed time. Action is represented\n",
      "    as a tuple (person1, person2, arrow), where arrow is '->' for here to there and \n",
      "    '<-' for there to here.\"\"\"\n",
      "    here, there, t = state\n",
      "    (fromstate, tostate, direction) = (here, there, '->') if 'light' in here else (there, here, '<-')\n",
      "    assert len(fromstate) > 1 #light can't be by itself\n",
      "    fromstate = fromstate.difference(frozenset(['light']))\n",
      "    groups = itertools.combinations_with_replacement(fromstate, 2)\n",
      "    successors = {}\n",
      "    for (p1,p2) in groups :\n",
      "        action = (p1,p2,direction)\n",
      "        diff = frozenset([p1,p2,'light'])\n",
      "        newstate = (fromstate.difference(diff), tostate.union(diff), t+max(p1,p2)) if direction == '->' else \\\n",
      "                    (tostate.union(diff), fromstate.difference(diff), t+max(p1,p2))\n",
      "        successors[newstate] = action\n",
      "    return successors\n",
      "#LESSON flashlight should have been separated from people in the state!\n",
      "# use overloaded operators - | instead of 'symmetric diff'...\n",
      "    \n",
      "    \n",
      "def test():\n",
      "\n",
      "    assert bsuccessors((frozenset([1, 'light']), frozenset([]), 3)) == {\n",
      "                (frozenset([]), frozenset([1, 'light']), 4): (1, 1, '->')}\n",
      "\n",
      "    assert bsuccessors((frozenset([]), frozenset([2, 'light']), 0)) =={\n",
      "                (frozenset([2, 'light']), frozenset([]), 2): (2, 2, '<-')}\n",
      "    \n",
      "    return 'tests pass'\n",
      "\n",
      "print test()"
     ],
     "language": "python",
     "metadata": {},
     "outputs": [
      {
       "output_type": "stream",
       "stream": "stdout",
       "text": [
        "tests pass\n"
       ]
      }
     ],
     "prompt_number": 46
    },
    {
     "cell_type": "code",
     "collapsed": false,
     "input": [
      "6 % 4"
     ],
     "language": "python",
     "metadata": {},
     "outputs": [
      {
       "metadata": {},
       "output_type": "pyout",
       "prompt_number": 51,
       "text": [
        "2"
       ]
      }
     ],
     "prompt_number": 51
    },
    {
     "cell_type": "code",
     "collapsed": false,
     "input": [
      "bsuccessors((frozenset([1, 'light']), frozenset([]), 3))"
     ],
     "language": "python",
     "metadata": {},
     "outputs": [
      {
       "metadata": {},
       "output_type": "pyout",
       "prompt_number": 47,
       "text": [
        "{(frozenset(), frozenset({1, 'light'}), 4): (1, 1, '->')}"
       ]
      }
     ],
     "prompt_number": 47
    },
    {
     "cell_type": "code",
     "collapsed": false,
     "input": [
      "import itertools"
     ],
     "language": "python",
     "metadata": {},
     "outputs": [],
     "prompt_number": 14
    },
    {
     "cell_type": "code",
     "collapsed": false,
     "input": [
      "fromstate = frozenset([1, 'light'])\n",
      "fromstate = fromstate.symmetric_difference(frozenset(['light']))\n",
      "fromstate"
     ],
     "language": "python",
     "metadata": {},
     "outputs": [
      {
       "metadata": {},
       "output_type": "pyout",
       "prompt_number": 38,
       "text": [
        "frozenset({1})"
       ]
      }
     ],
     "prompt_number": 38
    },
    {
     "cell_type": "code",
     "collapsed": false,
     "input": [
      "diff = frozenset([])\n",
      "fromstate.symmetric_difference(diff)"
     ],
     "language": "python",
     "metadata": {},
     "outputs": [
      {
       "metadata": {},
       "output_type": "pyout",
       "prompt_number": 41,
       "text": [
        "frozenset({1})"
       ]
      }
     ],
     "prompt_number": 41
    },
    {
     "cell_type": "code",
     "collapsed": false,
     "input": [
      "frozenset([1,2,'light'])"
     ],
     "language": "python",
     "metadata": {},
     "outputs": [
      {
       "metadata": {},
       "output_type": "pyout",
       "prompt_number": 35,
       "text": [
        "frozenset({1, 2, 'light'})"
       ]
      }
     ],
     "prompt_number": 35
    },
    {
     "cell_type": "code",
     "collapsed": false,
     "input": [
      "frozenset([])"
     ],
     "language": "python",
     "metadata": {},
     "outputs": [
      {
       "metadata": {},
       "output_type": "pyout",
       "prompt_number": 45,
       "text": [
        "frozenset({1})"
       ]
      }
     ],
     "prompt_number": 45
    },
    {
     "cell_type": "code",
     "collapsed": false,
     "input": [
      "a = frozenset([1])"
     ],
     "language": "python",
     "metadata": {},
     "outputs": [],
     "prompt_number": 22
    },
    {
     "cell_type": "code",
     "collapsed": false,
     "input": [
      "a.symmetric_difference([1])"
     ],
     "language": "python",
     "metadata": {},
     "outputs": [
      {
       "metadata": {},
       "output_type": "pyout",
       "prompt_number": 27,
       "text": [
        "frozenset()"
       ]
      }
     ],
     "prompt_number": 27
    },
    {
     "cell_type": "code",
     "collapsed": false,
     "input": [
      "#LESSON flashlight should have been separated from people in the state!"
     ],
     "language": "python",
     "metadata": {},
     "outputs": [],
     "prompt_number": 48
    },
    {
     "cell_type": "code",
     "collapsed": false,
     "input": [
      "# ----------------- Adding tests\n",
      "# User Instructions\n",
      "# \n",
      "# Add a few new test cases to begin familiarizing yourself \n",
      "# with doctest. \n",
      "\n",
      "\n",
      "import doctest\n",
      "\n",
      "def bsuccessors(state):\n",
      "    \"\"\"Return a dict of {state:action} pairs.  A state is a (here, there, t) tuple,\n",
      "    where here and there are frozensets of people (indicated by their times) and/or\n",
      "    the light, and t is a number indicating the elapsed time.\"\"\"\n",
      "    here, there, t = state\n",
      "    if 'light' in here:\n",
      "        return dict(((here  - frozenset([a,b, 'light']),\n",
      "                      there | frozenset([a, b, 'light']),\n",
      "                      t + max(a, b)),\n",
      "                     (a, b, '->'))\n",
      "                    for a in here if a is not 'light'\n",
      "                    for b in here if b is not 'light')\n",
      "    else:\n",
      "        return dict(((here  | frozenset([a,b, 'light']),\n",
      "                      there - frozenset([a, b, 'light']),\n",
      "                      t + max(a, b)),\n",
      "                     (a, b, '<-'))\n",
      "                    for a in there if a is not 'light'\n",
      "                    for b in there if b is not 'light')  \n",
      "        \n",
      "def elapsed_time(path):\n",
      "    return path[-1][2]\n",
      "\n",
      "def bridge_problem(here):\n",
      "    \"Find the fastest (least elapsed time) path to the goal in the bridge problem.\"\n",
      "    here = frozenset(here) | frozenset(['light'])\n",
      "    explored = set() # set of states we have visited\n",
      "    # State will be a (peoplelight_here, peoplelight_there, time_elapsed)\n",
      "    # E.g. ({1, 2, 5, 10, 'light'}, {}, 0)\n",
      "    frontier = [ [(here, frozenset(), 0)] ] # ordered list of paths we have blazed\n",
      "    while frontier:\n",
      "        path = frontier.pop(0)\n",
      "        here1, there1, t1 = state1 = path[-1]\n",
      "        if not here1 or here1 == set(['light']):  ## Check for solution when we pull best path off frontier\n",
      "            return path\n",
      "        for (state, action) in bsuccessors(state1).items():\n",
      "            if state not in explored:\n",
      "                here, there, t = state\n",
      "                explored.add(state)\n",
      "                path2 = path + [action, state]\n",
      "                # Don't check for solution when we extend a path\n",
      "                frontier.append(path2)\n",
      "                frontier.sort(key=elapsed_time)\n",
      "    return Fail\n",
      "\n",
      "def path_states(path):\n",
      "    \"Return a list of states in this path.\"\n",
      "    return path[0::2]\n",
      "    \n",
      "def path_actions(path):\n",
      "    \"Return a list of actions in this path.\"\n",
      "    return path[1::2]\n",
      "\n",
      "class TestBridge: \"\"\"\n",
      ">>> elapsed_time(bridge_problem([1,2,5,10]))\n",
      "17\n",
      "\n",
      "## There are two equally good solutions\n",
      ">>> S1 = [(2, 1, '->'), (1, 1, '<-'), (5, 10, '->'), (2, 2, '<-'), (2, 1, '->')]\n",
      ">>> S2 = [(2, 1, '->'), (2, 2, '<-'), (5, 10, '->'), (1, 1, '<-'), (2, 1, '->')]\n",
      ">>> path_actions(bridge_problem([1,2,5,10])) in (S1, S2)\n",
      "True\n",
      "\n",
      "## Try some other problems\n",
      ">>> path_actions(bridge_problem([1,2,5,10,15,20]))\n",
      "[(2, 1, '->'), (1, 1, '<-'), (10, 5, '->'), (2, 2, '<-'), (2, 1, '->'), (1, 1, '<-'), (15, 20, '->'), (2, 2, '<-'), (2, 1, '->')]\n",
      "\n",
      ">>> path_actions(bridge_problem([1,2,4,8,16,32]))\n",
      "[(2, 1, '->'), (1, 1, '<-'), (8, 4, '->'), (2, 2, '<-'), (1, 2, '->'), (1, 1, '<-'), (16, 32, '->'), (2, 2, '<-'), (2, 1, '->')]\n",
      "\n",
      ">>> [elapsed_time(bridge_problem([1,2,4,8,16][:N])) for N in range(6)]\n",
      "[0, 1, 2, 7, 15, 28]\n",
      "\n",
      ">>> [elapsed_time(bridge_problem([1,1,2,3,5,8,13,21][:N])) for N in range(8)]\n",
      "[0, 1, 1, 2, 6, 12, 19, 30]\n",
      "\n",
      ">>> [elapsed_time(bridge_problem([1,4,9,16,25,36][:N])) for N in xrange(6)]\n",
      "[0, 1, 4, 14, 29, 48]\n",
      "\"\"\"\n",
      "\n",
      "print doctest.testmod()"
     ],
     "language": "python",
     "metadata": {},
     "outputs": [
      {
       "output_type": "stream",
       "stream": "stdout",
       "text": [
        "TestResults(failed=0, attempted=9)\n"
       ]
      }
     ],
     "prompt_number": 4
    },
    {
     "cell_type": "code",
     "collapsed": false,
     "input": [
      "path_actions(bridge_problem([1,2,4,8,16,32]))"
     ],
     "language": "python",
     "metadata": {},
     "outputs": [
      {
       "metadata": {},
       "output_type": "pyout",
       "prompt_number": 2,
       "text": [
        "[(2, 1, '->'),\n",
        " (1, 1, '<-'),\n",
        " (8, 4, '->'),\n",
        " (2, 2, '<-'),\n",
        " (1, 2, '->'),\n",
        " (1, 1, '<-'),\n",
        " (16, 32, '->'),\n",
        " (2, 2, '<-'),\n",
        " (2, 1, '->')]"
       ]
      }
     ],
     "prompt_number": 2
    },
    {
     "cell_type": "code",
     "collapsed": false,
     "input": [
      "path_actions(bridge_problem([1,1000]))"
     ],
     "language": "python",
     "metadata": {},
     "outputs": [
      {
       "metadata": {},
       "output_type": "pyout",
       "prompt_number": 11,
       "text": [
        "[(1, 1000, '->')]"
       ]
      }
     ],
     "prompt_number": 11
    },
    {
     "cell_type": "code",
     "collapsed": false,
     "input": [
      "path = range(7)"
     ],
     "language": "python",
     "metadata": {},
     "outputs": [],
     "prompt_number": 12
    },
    {
     "cell_type": "code",
     "collapsed": false,
     "input": [
      "path"
     ],
     "language": "python",
     "metadata": {},
     "outputs": [
      {
       "metadata": {},
       "output_type": "pyout",
       "prompt_number": 13,
       "text": [
        "[0, 1, 2, 3, 4, 5, 6]"
       ]
      }
     ],
     "prompt_number": 13
    },
    {
     "cell_type": "code",
     "collapsed": true,
     "input": [
      "# -----------------\n",
      "# User Instructions\n",
      "# \n",
      "# Write a function, csuccessors, that takes a state (as defined below) \n",
      "# as input and returns a dictionary of {state:action} pairs. \n",
      "#\n",
      "# A state is a tuple with six entries: (M1, C1, B1, M2, C2, B2), where \n",
      "# M1 means 'number of missionaries on the left side.'\n",
      "#\n",
      "# An action is one of the following ten strings: \n",
      "#\n",
      "# 'MM->', 'MC->', 'CC->', 'M->', 'C->', '<-MM', '<-MC', '<-M', '<-C', '<-CC'\n",
      "# where 'MM->' means two missionaries travel to the right side.\n",
      "# \n",
      "# We should generate successor states that include more cannibals than\n",
      "# missionaries, but such a state should generate no successors.\n",
      "\n",
      "\n",
      "def csuccessors(state):\n",
      "    \"\"\"Find successors (including those that result in dining) to this\n",
      "    state. But a state where the cannibals can dine has no successors.\"\"\"\n",
      "    M1, C1, B1, M2, C2, B2 = state\n",
      "    if M1 < C1 or M2 < C2 :\n",
      "        return dict()\n",
      "    moves = [(1,0), (2,0), (0,1), (0,2), (1,1)]\n",
      "    if B1 == 1 :\n",
      "        return dict(((M1-m,C1-c,0,M2+m,C2+c,1),\n",
      "                    ('{}->'.format('MM'[:m]+'CC'[:c])))\n",
      "                     for (m,c) in moves\n",
      "                     if m <= M1\n",
      "                     if c <= C1)\n",
      "    else :\n",
      "        return dict(((M1+m,C1+c,1,M2-m,C2-c,0),\n",
      "                    ('<-{}'.format('MM'[:m]+'CC'[:c])))\n",
      "                     for (m,c) in moves\n",
      "                     if m <= M2\n",
      "                     if c <= C2)\n",
      "\n",
      "\n",
      "\n",
      "def test():\n",
      "    assert csuccessors((2, 2, 1, 0, 0, 0)) == {(2, 1, 0, 0, 1, 1): 'C->', \n",
      "                                               (1, 2, 0, 1, 0, 1): 'M->', \n",
      "                                               (0, 2, 0, 2, 0, 1): 'MM->', \n",
      "                                               (1, 1, 0, 1, 1, 1): 'MC->', \n",
      "                                               (2, 0, 0, 0, 2, 1): 'CC->'}\n",
      "    assert csuccessors((1, 1, 0, 4, 3, 1)) == {(1, 2, 1, 4, 2, 0): '<-C', \n",
      "                                               (2, 1, 1, 3, 3, 0): '<-M', \n",
      "                                               (3, 1, 1, 2, 3, 0): '<-MM', \n",
      "                                               (1, 3, 1, 4, 1, 0): '<-CC', \n",
      "                                               (2, 2, 1, 3, 2, 0): '<-MC'}\n",
      "    assert csuccessors((1, 4, 1, 2, 2, 0)) == {}\n",
      "    return 'tests pass'\n",
      "\n",
      "print test()"
     ],
     "language": "python",
     "metadata": {},
     "outputs": [
      {
       "output_type": "stream",
       "stream": "stdout",
       "text": [
        "tests pass\n"
       ]
      }
     ],
     "prompt_number": 44
    },
    {
     "cell_type": "code",
     "collapsed": false,
     "input": [
      "csuccessors((2, 2, 1, 0, 0, 0))"
     ],
     "language": "python",
     "metadata": {},
     "outputs": [
      {
       "metadata": {},
       "output_type": "pyout",
       "prompt_number": 30,
       "text": [
        "{}"
       ]
      }
     ],
     "prompt_number": 30
    },
    {
     "cell_type": "code",
     "collapsed": false,
     "input": [
      "M1, C1, B1, M2, C2, B2 = (2, 2, 1, 0, 0, 0)\n",
      "if M1 < C1 or M2 < C2 :\n",
      "    print dict(), 'NOOO'\n",
      "moves = [(1,0), (2,0), (0,1), (0,2), (1,1)]\n",
      "if B1 == 1 :\n",
      "    print [(m,c,M1,C1)for (m,c) in moves]\n",
      "#                  if m >= M1\n",
      "#                  if c >= C1]"
     ],
     "language": "python",
     "metadata": {},
     "outputs": [
      {
       "output_type": "stream",
       "stream": "stdout",
       "text": [
        "[(1, 0, 2, 2), (2, 0, 2, 2), (0, 1, 2, 2), (0, 2, 2, 2), (1, 1, 2, 2)]\n"
       ]
      }
     ],
     "prompt_number": 39
    },
    {
     "cell_type": "code",
     "collapsed": false,
     "input": [
      "moves = (2,0)\n",
      "'{}->'.format('MM'[:moves[0]]+'CC'[:moves[1]])"
     ],
     "language": "python",
     "metadata": {},
     "outputs": [
      {
       "metadata": {},
       "output_type": "pyout",
       "prompt_number": 24,
       "text": [
        "'MM->'"
       ]
      }
     ],
     "prompt_number": 24
    },
    {
     "cell_type": "code",
     "collapsed": false,
     "input": [
      "'MM'[:moves[0]]+'CC'[:moves[1]]"
     ],
     "language": "python",
     "metadata": {},
     "outputs": [
      {
       "metadata": {},
       "output_type": "pyout",
       "prompt_number": 19,
       "text": [
        "'MC'"
       ]
      }
     ],
     "prompt_number": 19
    },
    {
     "cell_type": "code",
     "collapsed": false,
     "input": [
      "moves = [(1,0), (2,0), (0,1), (0,2), (1,1)]\n",
      "for m,c in moves :\n",
      "    print (m,c)"
     ],
     "language": "python",
     "metadata": {},
     "outputs": [
      {
       "output_type": "stream",
       "stream": "stdout",
       "text": [
        "(1, 0)\n",
        "(2, 0)\n",
        "(0, 1)\n",
        "(0, 2)\n",
        "(1, 1)\n"
       ]
      }
     ],
     "prompt_number": 26
    },
    {
     "cell_type": "code",
     "collapsed": false,
     "input": [
      "all((1,2,4,-1,))"
     ],
     "language": "python",
     "metadata": {},
     "outputs": [
      {
       "metadata": {},
       "output_type": "pyout",
       "prompt_number": 43,
       "text": [
        "False"
       ]
      }
     ],
     "prompt_number": 43
    },
    {
     "cell_type": "code",
     "collapsed": false,
     "input": [
      "# -----------------\n",
      "# User Instructions\n",
      "# \n",
      "# Write a function, shortest_path_search, that generalizes the search algorithm\n",
      "# that we have been using. This function should have three inputs, a start state,\n",
      "# a successors function, and an is_goal function.\n",
      "#\n",
      "# You can use the solution to mc_problem as a template for constructing your \n",
      "# shortest_path_search. You can also see the example is_goal and successors\n",
      "# functions for a simple test problem below.\n",
      "\n",
      "def shortest_path_search(start, successors, is_goal):\n",
      "    \"\"\"Find the shortest path from start state to a state\n",
      "    such that is_goal(state) is true.\"\"\"\n",
      "    frontier = [ [start] ]\n",
      "    explored = set()\n",
      "    while frontier :\n",
      "        path = frontier.pop(0)\n",
      "        s = path[-1]\n",
      "        if is_goal(s) :\n",
      "            return path\n",
      "        for (state, action) in successors(s).items() :\n",
      "            if state not in explored :\n",
      "                explored.add(state)\n",
      "                frontier.append(path + [action,state])\n",
      "    return Fail\n",
      "\n",
      "\n",
      "def mc_problem1(start=(3, 3, 1, 0, 0, 0), goal=None):\n",
      "    \"\"\"Solve the missionaries and cannibals problem.\n",
      "    State is 6 ints: (M1, C1, B1, M2, C2, B2) on the start (1) and other (2) sides.\n",
      "    Find a path that goes from the initial state to the goal state (which, if\n",
      "    not specified, is the state with no people or boats on the start side.\"\"\"\n",
      "    if goal is None:\n",
      "        goal = (0, 0, 0) + start[:3]\n",
      "    if start == goal:\n",
      "        return [start]\n",
      "    explored = set() # set of states we have visited\n",
      "    frontier = [ [start] ] # ordered list of paths we have blazed\n",
      "    while frontier:\n",
      "        path = frontier.pop(0)\n",
      "        s = path[-1]\n",
      "        for (state, action) in csuccessors(s).items():\n",
      "            if state not in explored:\n",
      "                explored.add(state)\n",
      "                path2 = path + [action, state]\n",
      "                if state == goal:\n",
      "                    return path2\n",
      "                else:\n",
      "                    frontier.append(path2)\n",
      "    return Fail\n",
      "\n",
      "Fail = []\n",
      "\n",
      "def csuccessors(state):\n",
      "    \"\"\"Find successors (including those that result in dining) to this\n",
      "    state. But a state where the cannibals can dine has no successors.\"\"\"\n",
      "    M1, C1, B1, M2, C2, B2 = state\n",
      "    ## Check for state with no successors\n",
      "    if C1 > M1 > 0 or C2 > M2 > 0:\n",
      "        return {}\n",
      "    items = []\n",
      "    if B1 > 0:\n",
      "        items += [(sub(state, delta), a + '->')\n",
      "                  for delta, a in deltas.items()]\n",
      "    \n",
      "    if B2 > 0:\n",
      "        items += [(add(state, delta), '<-' + a)\n",
      "                  for delta, a in deltas.items()]\n",
      "    return dict(items)\n",
      "\n",
      "def add(X, Y):\n",
      "    \"add two vectors, X and Y.\"\n",
      "    return tuple(x+y for x,y in zip(X, Y))\n",
      "\n",
      "def sub(X, Y):\n",
      "    \"subtract vector Y from X.\"\n",
      "    return tuple(x-y for x,y in zip(X, Y))\n",
      "\n",
      "deltas = {(2, 0, 1,    -2,  0, -1): 'MM',\n",
      "          (0, 2, 1,     0, -2, -1): 'CC',\n",
      "          (1, 1, 1,    -1, -1, -1): 'MC',\n",
      "          (1, 0, 1,    -1,  0, -1): 'M',\n",
      "          (0, 1, 1,     0, -1, -1): 'C'}\n",
      "Fail = []\n",
      "\n",
      "\n",
      "# --------------\n",
      "# Example problem\n",
      "#\n",
      "# Let's say the states in an optimization problem are given by integers.\n",
      "# From a state, i, the only possible successors are i+1 and i-1. Given\n",
      "# a starting integer, find the shortest path to the integer 8. \n",
      "#\n",
      "# This is an overly simple example of when we can use the \n",
      "# shortest_path_search function. We just need to define the appropriate\n",
      "# is_goal and successors functions.\n",
      "\n",
      "def is_goal(state):\n",
      "    if state == 8:\n",
      "        return True\n",
      "    else: \n",
      "        return False\n",
      "    \n",
      "def successors(state):\n",
      "    successors = {state + 1: '->',\n",
      "                  state - 1: '<-'}\n",
      "    return successors\n",
      "\n",
      "#test\n",
      "assert shortest_path_search(5, successors, is_goal) == [5, '->', 6, '->', 7, '->', 8]\n",
      "     "
     ],
     "language": "python",
     "metadata": {},
     "outputs": [],
     "prompt_number": 46
    },
    {
     "cell_type": "code",
     "collapsed": false,
     "input": [
      "import bisect"
     ],
     "language": "python",
     "metadata": {},
     "outputs": [],
     "prompt_number": 45
    },
    {
     "cell_type": "code",
     "collapsed": false,
     "input": [
      "range(6)[-4:]"
     ],
     "language": "python",
     "metadata": {},
     "outputs": [
      {
       "metadata": {},
       "output_type": "pyout",
       "prompt_number": 49,
       "text": [
        "[2, 3, 4, 5]"
       ]
      }
     ],
     "prompt_number": 49
    },
    {
     "cell_type": "code",
     "collapsed": false,
     "input": [
      "# -----------------\n",
      "# User Instructions\n",
      "# \n",
      "# Define a function, lowest_cost_search, that is similar to \n",
      "# shortest_path_search, but also takes into account the cost \n",
      "# of an action, as defined by the function action_cost(action)\n",
      "#\n",
      "# Since we are using this function as a generalized version\n",
      "# of the bridge problem, all the code necessary to solve that\n",
      "# problem is included below for your reference.\n",
      "#\n",
      "# This code will not run yet. Click submit to see if your code \n",
      "# is correct.\n",
      "\n",
      "def lowest_cost_search(start, successors, is_goal, action_cost):\n",
      "    \"\"\"Return the lowest cost path, starting from start state,\n",
      "    and considering successors(state) => {state:action,...},\n",
      "    that ends in a state for which is_goal(state) is true,\n",
      "    where the cost of a path is the sum of action costs,\n",
      "    which are given by action_cost(action).\"\"\"\n",
      "    frontier = [ [(start,0)] ] #list of blazed paths ordered by lowest cost\n",
      "    explored = set() #set of states we've already seen\n",
      "    def cost_key(path) :\n",
      "        return path[-1][1]\n",
      "    while frontier :\n",
      "        path = frontier.pop(0)\n",
      "        s = path[-1][0]\n",
      "        cost = path[-1][1]\n",
      "        if is_goal(s) :\n",
      "            return path\n",
      "        for (state, action) in successors(s).items() :\n",
      "            if state not in explored :\n",
      "                explored.add(state)\n",
      "                new_cost = cost + action_cost(action)\n",
      "                new_path = path + [action,(state,new_cost)]\n",
      "                frontier.append(new_path)\n",
      "                frontier.sort(key=cost_key) #very inefficient to sort but later use \n",
      "    return Fail                               # bisect module to add-in sort\n",
      "\n",
      "def bsuccessors2(state):\n",
      "    \"\"\"Return a dict of {state:action} pairs.  A state is a (here, there) tuple,\n",
      "    where here and there are frozensets of people (indicated by their times) and/or\n",
      "    the light.\"\"\"\n",
      "    here, there = state\n",
      "    if 'light' in here:\n",
      "        return dict(((here  - frozenset([a, b, 'light']),\n",
      "                      there | frozenset([a, b, 'light'])),\n",
      "                     (a, b, '->'))\n",
      "                    for a in here if a is not 'light'\n",
      "                    for b in here if b is not 'light')\n",
      "    else:\n",
      "        return dict(((here  | frozenset([a, b, 'light']),\n",
      "                      there - frozenset([a, b, 'light'])),\n",
      "                     (a, b, '<-'))\n",
      "                    for a in there if a is not 'light'\n",
      "                    for b in there if b is not 'light')\n",
      "        \n",
      "def path_cost(path):\n",
      "    \"The total cost of a path (which is stored in a tuple with the final action).\"\n",
      "    if len(path) < 3:\n",
      "        return 0\n",
      "    else:\n",
      "        action, total_cost = path[-2]\n",
      "        return total_cost\n",
      "\n",
      "def bcost(action):\n",
      "    \"Returns the cost (a number) of an action in the bridge problem.\"\n",
      "    # An action is an (a, b, arrow) tuple; a and b are times; arrow is a string\n",
      "    a, b, arrow = action\n",
      "    return max(a, b)\n",
      "\n",
      "def add_to_frontier(frontier, path):\n",
      "    \"Add path to frontier, replacing costlier path if there is one.\"\n",
      "    # (This could be done more efficiently.)\n",
      "    # Find if there is an old path to the final state of this path.\n",
      "    old = None\n",
      "    for i,p in enumerate(frontier):\n",
      "        if final_state(p) == final_state(path):\n",
      "            old = i\n",
      "            break\n",
      "    if old is not None and path_cost(frontier[old]) < path_cost(path):\n",
      "        return # Old path was better; do nothing\n",
      "    elif old is not None:\n",
      "        del frontier[old] # Old path was worse; delete it\n",
      "    ## Now add the new path and re-sort\n",
      "    frontier.append(path)\n",
      "    frontier.sort(key=path_cost)\n",
      "## Now there is still a problem to deal with.\n",
      "def bridge_problem2(here):\n",
      "    Fail = []\n",
      "    here = frozenset(here) | frozenset(['light'])\n",
      "    explored = set() # set of states we have visited\n",
      "    # State will be a (peoplelight_here, peoplelight_there) tuple\n",
      "    # E.g. ({1, 2, 5, 10, 'light'}, {})\n",
      "    frontier = [ [(here, frozenset())] ] # ordered list of paths we have blazed\n",
      "    while frontier:\n",
      "        path = frontier.pop(0)\n",
      "        here1, there1 = state1 = final_state(path)\n",
      "        if not here1 or (len(here1)==1 and 'light' in here1):  \n",
      "            return path\n",
      "        explored.add(state1)\n",
      "        pcost = path_cost(path)\n",
      "        for (state, action) in bsuccessors2(state1).items():\n",
      "            if state not in explored:\n",
      "                total_cost = pcost + bcost(action)\n",
      "                path2 = path + [(action, total_cost), state]\n",
      "                add_to_frontier(frontier, path2)\n",
      "    return Fail\n",
      "\n",
      "def final_state(path): return path[-1]\n"
     ],
     "language": "python",
     "metadata": {},
     "outputs": []
    }
   ],
   "metadata": {}
  }
 ]
}