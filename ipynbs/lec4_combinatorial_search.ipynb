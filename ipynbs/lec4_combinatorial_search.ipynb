{
 "metadata": {
  "name": ""
 },
 "nbformat": 3,
 "nbformat_minor": 0,
 "worksheets": [
  {
   "cells": [
    {
     "cell_type": "code",
     "collapsed": false,
     "input": [
      "a = [1,2,3]"
     ],
     "language": "python",
     "metadata": {},
     "outputs": [],
     "prompt_number": 1
    },
    {
     "cell_type": "code",
     "collapsed": false,
     "input": [
      "b = a + [5,6] #creates a NEW list"
     ],
     "language": "python",
     "metadata": {},
     "outputs": [],
     "prompt_number": 2
    },
    {
     "cell_type": "code",
     "collapsed": false,
     "input": [
      "a"
     ],
     "language": "python",
     "metadata": {},
     "outputs": [
      {
       "metadata": {},
       "output_type": "pyout",
       "prompt_number": 3,
       "text": [
        "[1, 2, 3]"
       ]
      }
     ],
     "prompt_number": 3
    },
    {
     "cell_type": "code",
     "collapsed": false,
     "input": [
      "b"
     ],
     "language": "python",
     "metadata": {},
     "outputs": [
      {
       "metadata": {},
       "output_type": "pyout",
       "prompt_number": 4,
       "text": [
        "[1, 2, 3, 5, 6]"
       ]
      }
     ],
     "prompt_number": 4
    },
    {
     "cell_type": "code",
     "collapsed": false,
     "input": [
      "b.pop(0)"
     ],
     "language": "python",
     "metadata": {},
     "outputs": [
      {
       "metadata": {},
       "output_type": "pyout",
       "prompt_number": 5,
       "text": [
        "1"
       ]
      }
     ],
     "prompt_number": 5
    },
    {
     "cell_type": "code",
     "collapsed": false,
     "input": [
      "b"
     ],
     "language": "python",
     "metadata": {},
     "outputs": [
      {
       "metadata": {},
       "output_type": "pyout",
       "prompt_number": 6,
       "text": [
        "[2, 3, 5, 6]"
       ]
      }
     ],
     "prompt_number": 6
    },
    {
     "cell_type": "code",
     "collapsed": false,
     "input": [
      "a"
     ],
     "language": "python",
     "metadata": {},
     "outputs": [
      {
       "metadata": {},
       "output_type": "pyout",
       "prompt_number": 8,
       "text": [
        "[1, 2, 3]"
       ]
      }
     ],
     "prompt_number": 8
    },
    {
     "cell_type": "code",
     "collapsed": false,
     "input": [
      "# -----------------\n",
      "# User Instructions\n",
      "# \n",
      "# Write a function, bsuccessors(state), that takes a state as input\n",
      "# and returns a dictionary of {state:action} pairs.\n",
      "#\n",
      "# A state is a (here, there, t) tuple, where here and there are \n",
      "# frozensets of people (indicated by their times), and potentially\n",
      "# the 'light,' t is a number indicating the elapsed time.\n",
      "#\n",
      "# An action is a tuple (person1, person2, arrow), where arrow is \n",
      "# '->' for here to there or '<-' for there to here. When only one \n",
      "# person crosses, person2 will be the same as person one, so the\n",
      "# action (2, 2, '->') means that the person with a travel time of\n",
      "# 2 crossed from here to there alone.\n",
      "import itertools\n",
      "\n",
      "def bsuccessors(state):\n",
      "    \"\"\"Return a dict of {state:action} pairs. A state is a (here, there, t) tuple,\n",
      "    where here and there are frozensets of people (indicated by their times) and/or\n",
      "    the 'light', and t is a number indicating the elapsed time. Action is represented\n",
      "    as a tuple (person1, person2, arrow), where arrow is '->' for here to there and \n",
      "    '<-' for there to here.\"\"\"\n",
      "    here, there, t = state\n",
      "    (fromstate, tostate, direction) = (here, there, '->') if 'light' in here else (there, here, '<-')\n",
      "    assert len(fromstate) > 1 #light can't be by itself\n",
      "    fromstate = fromstate.difference(frozenset(['light']))\n",
      "    groups = itertools.combinations_with_replacement(fromstate, 2)\n",
      "    successors = {}\n",
      "    for (p1,p2) in groups :\n",
      "        action = (p1,p2,direction)\n",
      "        diff = frozenset([p1,p2,'light'])\n",
      "        newstate = (fromstate.difference(diff), tostate.union(diff), t+max(p1,p2)) if direction == '->' else \\\n",
      "                    (tostate.union(diff), fromstate.difference(diff), t+max(p1,p2))\n",
      "        successors[newstate] = action\n",
      "    return successors\n",
      "#LESSON flashlight should have been separated from people in the state!\n",
      "# use overloaded operators - | instead of 'symmetric diff'...\n",
      "    \n",
      "    \n",
      "def test():\n",
      "\n",
      "    assert bsuccessors((frozenset([1, 'light']), frozenset([]), 3)) == {\n",
      "                (frozenset([]), frozenset([1, 'light']), 4): (1, 1, '->')}\n",
      "\n",
      "    assert bsuccessors((frozenset([]), frozenset([2, 'light']), 0)) =={\n",
      "                (frozenset([2, 'light']), frozenset([]), 2): (2, 2, '<-')}\n",
      "    \n",
      "    return 'tests pass'\n",
      "\n",
      "print test()"
     ],
     "language": "python",
     "metadata": {},
     "outputs": [
      {
       "output_type": "stream",
       "stream": "stdout",
       "text": [
        "tests pass\n"
       ]
      }
     ],
     "prompt_number": 46
    },
    {
     "cell_type": "code",
     "collapsed": false,
     "input": [
      "6 % 4"
     ],
     "language": "python",
     "metadata": {},
     "outputs": [
      {
       "metadata": {},
       "output_type": "pyout",
       "prompt_number": 51,
       "text": [
        "2"
       ]
      }
     ],
     "prompt_number": 51
    },
    {
     "cell_type": "code",
     "collapsed": false,
     "input": [
      "bsuccessors((frozenset([1, 'light']), frozenset([]), 3))"
     ],
     "language": "python",
     "metadata": {},
     "outputs": [
      {
       "metadata": {},
       "output_type": "pyout",
       "prompt_number": 47,
       "text": [
        "{(frozenset(), frozenset({1, 'light'}), 4): (1, 1, '->')}"
       ]
      }
     ],
     "prompt_number": 47
    },
    {
     "cell_type": "code",
     "collapsed": false,
     "input": [
      "import itertools"
     ],
     "language": "python",
     "metadata": {},
     "outputs": [],
     "prompt_number": 14
    },
    {
     "cell_type": "code",
     "collapsed": false,
     "input": [
      "fromstate = frozenset([1, 'light'])\n",
      "fromstate = fromstate.symmetric_difference(frozenset(['light']))\n",
      "fromstate"
     ],
     "language": "python",
     "metadata": {},
     "outputs": [
      {
       "metadata": {},
       "output_type": "pyout",
       "prompt_number": 38,
       "text": [
        "frozenset({1})"
       ]
      }
     ],
     "prompt_number": 38
    },
    {
     "cell_type": "code",
     "collapsed": false,
     "input": [
      "diff = frozenset([])\n",
      "fromstate.symmetric_difference(diff)"
     ],
     "language": "python",
     "metadata": {},
     "outputs": [
      {
       "metadata": {},
       "output_type": "pyout",
       "prompt_number": 41,
       "text": [
        "frozenset({1})"
       ]
      }
     ],
     "prompt_number": 41
    },
    {
     "cell_type": "code",
     "collapsed": false,
     "input": [
      "frozenset([1,2,'light'])"
     ],
     "language": "python",
     "metadata": {},
     "outputs": [
      {
       "metadata": {},
       "output_type": "pyout",
       "prompt_number": 35,
       "text": [
        "frozenset({1, 2, 'light'})"
       ]
      }
     ],
     "prompt_number": 35
    },
    {
     "cell_type": "code",
     "collapsed": false,
     "input": [
      "frozenset([])"
     ],
     "language": "python",
     "metadata": {},
     "outputs": [
      {
       "metadata": {},
       "output_type": "pyout",
       "prompt_number": 45,
       "text": [
        "frozenset({1})"
       ]
      }
     ],
     "prompt_number": 45
    },
    {
     "cell_type": "code",
     "collapsed": false,
     "input": [
      "a = frozenset([1])"
     ],
     "language": "python",
     "metadata": {},
     "outputs": [],
     "prompt_number": 22
    },
    {
     "cell_type": "code",
     "collapsed": false,
     "input": [
      "a.symmetric_difference([1])"
     ],
     "language": "python",
     "metadata": {},
     "outputs": [
      {
       "metadata": {},
       "output_type": "pyout",
       "prompt_number": 27,
       "text": [
        "frozenset()"
       ]
      }
     ],
     "prompt_number": 27
    },
    {
     "cell_type": "code",
     "collapsed": false,
     "input": [
      "#LESSON flashlight should have been separated from people in the state!"
     ],
     "language": "python",
     "metadata": {},
     "outputs": [],
     "prompt_number": 48
    },
    {
     "cell_type": "code",
     "collapsed": false,
     "input": [],
     "language": "python",
     "metadata": {},
     "outputs": []
    }
   ],
   "metadata": {}
  }
 ]
}