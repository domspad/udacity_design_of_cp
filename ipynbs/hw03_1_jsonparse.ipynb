{
 "metadata": {
  "name": ""
 },
 "nbformat": 3,
 "nbformat_minor": 0,
 "worksheets": [
  {
   "cells": [
    {
     "cell_type": "heading",
     "level": 1,
     "metadata": {},
     "source": [
      "Writing a Json Parser"
     ]
    },
    {
     "cell_type": "heading",
     "level": 4,
     "metadata": {},
     "source": [
      "The problem statement"
     ]
    },
    {
     "cell_type": "code",
     "collapsed": false,
     "input": [
      "# ---------------\n",
      "# User Instructions\n",
      "#\n",
      "# In this problem, you will be using many of the tools and techniques\n",
      "# that you developed in unit 3 to write a grammar that will allow\n",
      "# us to write a parser for the JSON language. \n",
      "#\n",
      "# You will have to visit json.org to see the JSON grammar. It is not \n",
      "# presented in the correct format for our grammar function, so you \n",
      "# will need to translate it.\n",
      "\n",
      "# ---------------\n",
      "# Provided functions\n",
      "#\n",
      "# These are all functions that were built in unit 3. They will help\n",
      "# you as you write the grammar.  Add your code at line 102.\n",
      "\n",
      "from functools import update_wrapper\n",
      "from string import split\n",
      "import re\n",
      "\n",
      "def grammar(description, whitespace=r'\\s*'):\n",
      "    \"\"\"Convert a description to a grammar.  Each line is a rule for a\n",
      "    non-terminal symbol; it looks like this:\n",
      "        Symbol =>  A1 A2 ... | B1 B2 ... | C1 C2 ...\n",
      "    where the right-hand side is one or more alternatives, separated by\n",
      "    the '|' sign.  Each alternative is a sequence of atoms, separated by\n",
      "    spaces.  An atom is either a symbol on some left-hand side, or it is\n",
      "    a regular expression that will be passed to re.match to match a token.\n",
      "    \n",
      "    Notation for *, +, or ? not allowed in a rule alternative (but ok\n",
      "    within a token). Use '\\' to continue long lines.  You must include spaces\n",
      "    or tabs around '=>' and '|'. That's within the grammar description itself.\n",
      "    The grammar that gets defined allows whitespace between tokens by default;\n",
      "    specify '' as the second argument to grammar() to disallow this (or supply\n",
      "    any regular expression to describe allowable whitespace between tokens).\"\"\"\n",
      "    G = {' ': whitespace}\n",
      "    description = description.replace('\\t', ' ') # no tabs!\n",
      "    for line in split(description, '\\n'):\n",
      "        lhs, rhs = split(line, ' => ', 1)\n",
      "        alternatives = split(rhs, ' | ')\n",
      "        G[lhs] = tuple(map(split, alternatives))\n",
      "    return G\n",
      "\n",
      "def decorator(d):\n",
      "    \"Make function d a decorator: d wraps a function fn.\"\n",
      "    def _d(fn):\n",
      "        return update_wrapper(d(fn), fn)\n",
      "    update_wrapper(_d, d)\n",
      "    return _d\n",
      "\n",
      "@decorator\n",
      "def memo(f):\n",
      "    \"\"\"Decorator that caches the return value for each call to f(args).\n",
      "    Then when called again with same args, we can just look it up.\"\"\"\n",
      "    cache = {}\n",
      "    def _f(*args):\n",
      "        try:\n",
      "            return cache[args]\n",
      "        except KeyError:\n",
      "            cache[args] = result = f(*args)\n",
      "            return result\n",
      "        except TypeError:\n",
      "            # some element of args can't be a dict key\n",
      "            return f(args)\n",
      "    return _f\n",
      "\n",
      "@decorator\n",
      "def trace(f):\n",
      "    indent = '   '\n",
      "    def _f(*args):\n",
      "        signature = '%s(%s)' % (f.__name__, ', '.join(map(repr, args)))\n",
      "        print '%s--> %s' % (trace.level*indent, signature)\n",
      "        trace.level += 1\n",
      "        try:\n",
      "            result = f(*args)\n",
      "            print '%s<-- %s == %s' % ((trace.level-1)*indent, \n",
      "                                      signature, result)\n",
      "        finally:\n",
      "            # your code here\n",
      "            trace.level -= 1\n",
      "        return result # your code here\n",
      "    trace.level = 0\n",
      "    return _f\n",
      "\n",
      "def parse(start_symbol, text, grammar):\n",
      "    \"\"\"Example call: parse('Exp', '3*x + b', G).\n",
      "    Returns a (tree, remainder) pair. If remainder is '', it parsed the whole\n",
      "    string. Failure iff remainder is None. This is a deterministic PEG parser,\n",
      "    so rule order (left-to-right) matters. Do 'E => T op E | T', putting the\n",
      "    longest parse first; don't do 'E => T | T op E'\n",
      "    Also, no left recursion allowed: don't do 'E => E op T'\"\"\"\n",
      "\n",
      "    tokenizer = grammar[' '] + '(%s)'\n",
      "\n",
      "    def parse_sequence(sequence, text):\n",
      "        result = []\n",
      "        for atom in sequence:\n",
      "            tree, text = parse_atom(atom, text)\n",
      "            if text is None: return Fail\n",
      "            result.append(tree)\n",
      "        return result, text\n",
      "\n",
      "    @memo\n",
      "    def parse_atom(atom, text):\n",
      "        if atom in grammar:  # Non-Terminal: tuple of alternatives\n",
      "            for alternative in grammar[atom]:\n",
      "                tree, rem = parse_sequence(alternative, text)\n",
      "                if rem is not None: return [atom]+tree, rem  \n",
      "            return Fail\n",
      "        else:  # Terminal: match characters against start of text\n",
      "            m = re.match(tokenizer % atom, text)\n",
      "            return Fail if (not m) else (m.group(1), text[m.end():])\n",
      "    \n",
      "    # Body of parse:\n",
      "    return parse_atom(start_symbol, text)\n",
      "\n",
      "Fail = (None, None)\n",
      "\n",
      "JSON = grammar(r\"\"\"object => [{] members [}] | [{] [}]\n",
      "members => pair [,] members | pair\n",
      "pair => string [:] value\n",
      "array => [[] elements []] | [[] []]\n",
      "elements => value , elements | value\n",
      "value => string | number | object | array | true | false | null \n",
      "string => \"[^\"]*\" \n",
      "number => int frac exp | int exp | int frac | int \n",
      "int => [-]?[1-9][0-9]* | [-]?[0-9]\n",
      "frac => [.][0-9]*\n",
      "exp => [eE][-+]?[0-9]*\"\"\", whitespace='\\s*')\n",
      "\n",
      "def json_parse(text):\n",
      "    return parse('value', text, JSON)\n",
      "\n",
      "def test():\n",
      "    assert json_parse('[\"testing\", 1, 2, 3]') == (                      \n",
      "                       ['value', ['array', '[', ['elements', ['value', \n",
      "                       ['string', '\"testing\"']], ',', ['elements', ['value', ['number', \n",
      "                       ['int', '1']]], ',', ['elements', ['value', ['number', \n",
      "                       ['int', '2']]], ',', ['elements', ['value', ['number', \n",
      "                       ['int', '3']]]]]]], ']']], '')\n",
      "    \n",
      "    assert json_parse('-123.456e+789') == (\n",
      "                       ['value', ['number', ['int', '-123'], ['frac', '.456'], ['exp', 'e+789']]], '')\n",
      "    \n",
      "    assert json_parse('{\"age\": 21, \"state\":\"CO\",\"occupation\":\"rides the rodeo\"}') == (\n",
      "                      ['value', ['object', '{', ['members', ['pair', ['string', '\"age\"'], \n",
      "                       ':', ['value', ['number', ['int', '21']]]], ',', ['members', \n",
      "                      ['pair', ['string', '\"state\"'], ':', ['value', ['string', '\"CO\"']]], \n",
      "                      ',', ['members', ['pair', ['string', '\"occupation\"'], ':', \n",
      "                      ['value', ['string', '\"rides the rodeo\"']]]]]], '}']], '')\n",
      "    return 'tests pass'\n",
      "\n",
      "print test()"
     ],
     "language": "python",
     "metadata": {},
     "outputs": [
      {
       "output_type": "stream",
       "stream": "stdout",
       "text": [
        "tests pass\n"
       ]
      }
     ],
     "prompt_number": 39
    },
    {
     "cell_type": "code",
     "collapsed": false,
     "input": [
      "json_parse('[\"testing\", 1, 2, 3]')"
     ],
     "language": "python",
     "metadata": {},
     "outputs": [
      {
       "metadata": {},
       "output_type": "pyout",
       "prompt_number": 32,
       "text": [
        "(['value',\n",
        "  ['array',\n",
        "   '[',\n",
        "   ['elements',\n",
        "    ['value', ['string', '\"testing\"']],\n",
        "    ',',\n",
        "    ['elements',\n",
        "     ['value', ['number', ['int', '1']]],\n",
        "     ',',\n",
        "     ['elements',\n",
        "      ['value', ['number', ['int', '2']]],\n",
        "      ',',\n",
        "      ['elements', ['value', ['number', ['int', '3']]]]]]],\n",
        "   ']']],\n",
        " '')"
       ]
      }
     ],
     "prompt_number": 32
    },
    {
     "cell_type": "code",
     "collapsed": false,
     "input": [
      "(                      \n",
      "                       ['value', ['array', '[', ['elements', ['value', \n",
      "                       ['string', '\"testing\"']], ',', ['elements', ['value', ['number', \n",
      "                       ['int', '1']]], ',', ['elements', ['value', ['number', \n",
      "                       ['int', '2']]], ',', ['elements', ['value', ['number', \n",
      "                       ['int', '3']]]]]]], ']']], '')"
     ],
     "language": "python",
     "metadata": {},
     "outputs": [
      {
       "metadata": {},
       "output_type": "pyout",
       "prompt_number": 33,
       "text": [
        "(['value',\n",
        "  ['array',\n",
        "   '[',\n",
        "   ['elements',\n",
        "    ['value', ['string', '\"testing\"']],\n",
        "    ',',\n",
        "    ['elements',\n",
        "     ['value', ['number', ['int', '1']]],\n",
        "     ',',\n",
        "     ['elements',\n",
        "      ['value', ['number', ['int', '2']]],\n",
        "      ',',\n",
        "      ['elements', ['value', ['number', ['int', '3']]]]]]],\n",
        "   ']']],\n",
        " '')"
       ]
      }
     ],
     "prompt_number": 33
    },
    {
     "cell_type": "code",
     "collapsed": false,
     "input": [
      "json_parse('{\"age\": 21, \"state\":\"CO\",\"occupation\":\"rides the rodeo\"}')"
     ],
     "language": "python",
     "metadata": {},
     "outputs": [
      {
       "metadata": {},
       "output_type": "pyout",
       "prompt_number": 34,
       "text": [
        "(['value',\n",
        "  ['object',\n",
        "   '{',\n",
        "   ['members',\n",
        "    ['pair', ['string', '\"age\"'], ':', ['value', ['number', ['int', '21']]]],\n",
        "    ',',\n",
        "    ['members',\n",
        "     ['pair', ['string', '\"state\"'], ':', ['value', ['string', '\"CO\"']]],\n",
        "     ',',\n",
        "     ['members',\n",
        "      ['pair',\n",
        "       ['string', '\"occupation\"'],\n",
        "       ':',\n",
        "       ['value', ['string', '\"rides the rodeo\"']]]]]],\n",
        "   '}']],\n",
        " '')"
       ]
      }
     ],
     "prompt_number": 34
    },
    {
     "cell_type": "code",
     "collapsed": false,
     "input": [
      "(\n",
      "                      ['value', ['object', '{', ['members', ['pair', ['string', '\"age\"'], \n",
      "                       ':', ['value', ['number', ['int', '21']]]], ',', ['members', \n",
      "                      ['pair', ['string', '\"state\"'], ':', ['value', ['string', '\"CO\"']]], \n",
      "                      ',', ['members', ['pair', ['string', '\"occupation\"'], ':', \n",
      "                      ['value', ['string', '\"rides the rodeo\"']]]]]], '}']], '')"
     ],
     "language": "python",
     "metadata": {},
     "outputs": [
      {
       "metadata": {},
       "output_type": "pyout",
       "prompt_number": 35,
       "text": [
        "(['value',\n",
        "  ['object',\n",
        "   '{',\n",
        "   ['members',\n",
        "    ['pair', ['string', '\"age\"'], ':', ['value', ['number', ['int', '21']]]],\n",
        "    ',',\n",
        "    ['members',\n",
        "     ['pair', ['string', '\"state\"'], ':', ['value', ['string', '\"CO\"']]],\n",
        "     ',',\n",
        "     ['members',\n",
        "      ['pair',\n",
        "       ['string', '\"occupation\"'],\n",
        "       ':',\n",
        "       ['value', ['string', '\"rides the rodeo\"']]]]]],\n",
        "   '}']],\n",
        " '')"
       ]
      }
     ],
     "prompt_number": 35
    },
    {
     "cell_type": "heading",
     "level": 4,
     "metadata": {},
     "source": [
      "Concept Inventory"
     ]
    },
    {
     "cell_type": "code",
     "collapsed": false,
     "input": [
      "#From unit 3 on arithmetic parser\n",
      "\n",
      "r\"\"\"\n",
      "Exp => Term [+-] Exp | Term\n",
      "Term => Factor [*/] Term | Factor\n",
      "Factor => Funcall | Var | Num | [(] Exp [)]\n",
      "Funcall => Var [(] Exps [)]\n",
      "Exps => Exp [,] Exps | Exp\n",
      "Var => [a-zA-Z_]\\w*\n",
      "Num => [-+]?[0-9]+([.][0-9]*)?\n",
      "\"\"\""
     ],
     "language": "python",
     "metadata": {},
     "outputs": [
      {
       "metadata": {},
       "output_type": "pyout",
       "prompt_number": 1,
       "text": [
        "'\\nExp => Term [+-] Exp | Term\\nTerm => Factor [*/] Term | Factor\\nFactor => Funcall | Var | Num | [(] Exp [)]\\nFuncall => Var [(] Exps [)]\\nExps => Exp [,] Exps | Exp\\nVar => [a-zA-Z_]\\\\w*\\nNum => [-+]?[0-9]+([.][0-9]*)?\\n'"
       ]
      }
     ],
     "prompt_number": 1
    },
    {
     "cell_type": "code",
     "collapsed": false,
     "input": [],
     "language": "python",
     "metadata": {},
     "outputs": []
    },
    {
     "cell_type": "code",
     "collapsed": false,
     "input": [
      "r\"\"\"\n",
      "object => [{] members [}] | [{] [}]\n",
      "members => pair [,] members | pair\n",
      "pair => string [:] value\n",
      "array => [[] elements []] | [[] []]\n",
      "elements => value , elements | value\n",
      "value => string | number | object | array | 'true' | 'false' | 'null' \n",
      "string => [\".*\"] \n",
      "number => int frac exp | int exp | int frac | int \n",
      "int => [-]? [1-9] [0-9]* | [-]? [0-9]\n",
      "frac => [.][0-9]*\n",
      "exp => [eE][-+]?[0-9]*\n",
      "\"\"\"\n",
      "\n",
      "#\n",
      "#\n",
      "# CORRECTED\n",
      "#  [,,.] means any ONE of those chars and is not necessary like [,]\n",
      "# SPACES ARE COUNTED (so nums can't be -? [1-9] [0-9]*)\n",
      "# any string: \"[^\"]*\" which is \"(any char except \")*\"\n",
      "#\n",
      "\n",
      "r\"\"\"object => [{] members [}] | [{] [}]\n",
      "members => pair [,] members | pair\n",
      "pair => string [:] value\n",
      "array => [[] elements []] | [[] []]\n",
      "elements => value , elements | value\n",
      "value => string | number | object | array | true | false | null \n",
      "string => \"[^\"]*\" \n",
      "number => int frac exp | int exp | int frac | int \n",
      "int => [-]?[1-9][0-9]* | [-]?[0-9]\n",
      "frac => [.][0-9]*\n",
      "exp => [eE][-+]?[0-9]*\"\"\""
     ],
     "language": "python",
     "metadata": {},
     "outputs": [
      {
       "metadata": {},
       "output_type": "pyout",
       "prompt_number": 2,
       "text": [
        "'\\nobject => [{] members [}] | [{] [}]\\nmembers => pair [,] members | pair\\npair => string [:] value\\narray => [[] elements []] | [[] []]\\nelements => value , elements | value\\nvalue => string | number | object | array | true | false | null\\nstring => [\"] chars [\"] | [\"] [\"]  \\nchars => char chars | char\\nchar => [\\nnumber => int frac exp | int exp | int frac | int \\nint => [-]? digit[1-9]\\nfrac => [.] digits\\nexp => e digits\\ndigits => digit digits | digit\\ne => [eE][-+]?\\n'"
       ]
      }
     ],
     "prompt_number": 2
    },
    {
     "cell_type": "code",
     "collapsed": false,
     "input": [
      "# \n",
      "\n",
      "\"\"\"\n",
      "object => { } | { members }\n",
      "members => pair , members | pair\n",
      "pair => string : value\n",
      "array => [[] []] | [[] elements []]\n",
      "elements => value , elements | value\n",
      "value => string | number | object | array | true | false | null \n",
      "string => \"[^\"]*\"\n",
      "number => int frac exp | int exp | int frac | int \n",
      "int => -?[1-9][0-9]*\n",
      "frac => [.][0-9]+\n",
      "exp => [eE][-+]?[0-9]*\n",
      "\"\"\""
     ],
     "language": "python",
     "metadata": {},
     "outputs": []
    }
   ],
   "metadata": {}
  }
 ]
}