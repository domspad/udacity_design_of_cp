{
 "metadata": {
  "name": ""
 },
 "nbformat": 3,
 "nbformat_minor": 0,
 "worksheets": [
  {
   "cells": [
    {
     "cell_type": "code",
     "collapsed": false,
     "input": [
      "\"\"\"\n",
      "UNIT 1: Bowling:\n",
      "\n",
      "You will write the function bowling(balls), which returns an integer indicating\n",
      "the score of a ten-pin bowling game.  balls is a list of integers indicating \n",
      "how many pins are knocked down with each ball.  For example, a perfect game of\n",
      "bowling would be described with:\n",
      "\n",
      "    >>> bowling([10, 10, 10, 10, 10, 10, 10, 10, 10, 10, 10, 10])\n",
      "    300\n",
      "\n",
      "The rules of bowling are as follows:\n",
      "\n",
      "(1) A game consists of 10 frames. In each frame you roll one or two balls,\n",
      "except for the tenth frame, where you roll one, two, or three.  Your total\n",
      "score is the sum of your scores for the ten frames.\n",
      "(2) If you knock down fewer than ten pins with your two balls in the frame,\n",
      "you score the total knocked down.  For example, bowling([8, 1, 7, ...]) means\n",
      "that you knocked down a total of 9 pins in the first frame.  You score 9 point\n",
      "for the frame, and you used up two balls in the frame. The second frame will\n",
      "start with the 7.\n",
      "(3) If you knock down all ten pins on your second ball it is called a 'spare'\n",
      "and you score 10 points plus a bonus: whatever you roll with your next ball.\n",
      "The next ball will also count in the next frame, so the next ball counts twice\n",
      "(except in the tenth frame, in which case the bonus ball counts only once).\n",
      "For example, bowling([8, 2, 7, ...]) means you get a spare in the first frame.\n",
      "You score 10 + 7 for the frame; the second frame starts with the 7.\n",
      "(4) If you knock down all ten pins on your first ball it is called a 'strike'\n",
      "and you score 10 points plus a bonus of your score on the next two balls.\n",
      "(The next two balls also count in the next frame, except in the tenth frame.)\n",
      "For example, bowling([10, 7, 3, ...]) means that you get a strike, you score\n",
      "10 + 7 + 3 = 20 in the first frame; the second frame starts with the 7.\n",
      "\n",
      "\"\"\"\n",
      "\n",
      "def bowling(balls):\n",
      "    \"Compute the total score for a player's game of bowling.\"\n",
      "    frames = range(1,11)\n",
      "    score = 0\n",
      "    for frame in frames :\n",
      "        score += next_frame_score(balls)\n",
      "    return score\n",
      "\n",
      "def next_frame_score(balls) :\n",
      "    \"\"\"\n",
      "    Requires: list of valid bowls (that doesn't end with spare or strike)\n",
      "    Modifies: pops off next frame's worth of balls (1,2,or3)\n",
      "    Effects:  returns score for next frame\n",
      "    \"\"\"\n",
      "    first = balls.pop(0)\n",
      "    if first == 10 :\n",
      "        return first + balls[0] + balls[1]\n",
      "    second = balls.pop(0)\n",
      "    if first + second == 10 :\n",
      "        return first + second + balls[0]\n",
      "    else :\n",
      "        return first + second\n",
      "        \n",
      "\n",
      "\n",
      "def test_bowling():\n",
      "    assert   0 == bowling([0] * 20)\n",
      "    assert  20 == bowling([1] * 20)\n",
      "    assert  80 == bowling([4] * 20)\n",
      "    assert 190 == bowling([9,1] * 10 + [9])\n",
      "    assert 300 == bowling([10] * 12)\n",
      "    assert 200 == bowling([10, 5,5] * 5 + [10])\n",
      "    assert  11 == bowling([0,0] * 9 + [10,1,0])\n",
      "    assert  12 == bowling([0,0] * 8 + [10, 1,0])\n",
      "    print \"passes tests\"\n",
      "\n"
     ],
     "language": "python",
     "metadata": {},
     "outputs": [],
     "prompt_number": 10
    },
    {
     "cell_type": "code",
     "collapsed": false,
     "input": [
      "test_bowling()"
     ],
     "language": "python",
     "metadata": {},
     "outputs": [
      {
       "output_type": "stream",
       "stream": "stdout",
       "text": [
        "passes tests\n"
       ]
      }
     ],
     "prompt_number": 11
    },
    {
     "cell_type": "code",
     "collapsed": false,
     "input": [
      "bowling([10,5,5]*5+[10])"
     ],
     "language": "python",
     "metadata": {},
     "outputs": [
      {
       "metadata": {},
       "output_type": "pyout",
       "prompt_number": 8,
       "text": [
        "200"
       ]
      }
     ],
     "prompt_number": 8
    },
    {
     "cell_type": "code",
     "collapsed": false,
     "input": [
      "[10,5,5]*5+[10]"
     ],
     "language": "python",
     "metadata": {},
     "outputs": [
      {
       "metadata": {},
       "output_type": "pyout",
       "prompt_number": 9,
       "text": [
        "[10, 5, 5, 10, 5, 5, 10, 5, 5, 10, 5, 5, 10, 5, 5, 10]"
       ]
      }
     ],
     "prompt_number": 9
    },
    {
     "cell_type": "code",
     "collapsed": false,
     "input": [],
     "language": "python",
     "metadata": {},
     "outputs": []
    },
    {
     "cell_type": "code",
     "collapsed": false,
     "input": [],
     "language": "python",
     "metadata": {},
     "outputs": []
    },
    {
     "cell_type": "code",
     "collapsed": false,
     "input": [
      "\"\"\"\n",
      "UNIT 2: Logic Puzzle\n",
      "\n",
      "You will write code to solve the following logic puzzle:\n",
      "\n",
      "1. The person who arrived on Wednesday bought the laptop.\n",
      "2. The programmer is not Wilkes.\n",
      "3. Of the programmer and the person who bought the droid,\n",
      "   one is Wilkes and the other is Hamming. \n",
      "4. The writer is not Minsky.\n",
      "5. Neither Knuth nor the person who bought the tablet is the manager.\n",
      "6. Knuth arrived the day after Simon.\n",
      "7. The person who arrived on Thursday is not the designer.\n",
      "8. The person who arrived on Friday didn't buy the tablet.\n",
      "9. The designer didn't buy the droid.\n",
      "10. Knuth arrived the day after the manager.\n",
      "11. Of the person who bought the laptop and Wilkes,\n",
      "    one arrived on Monday and the other is the writer.\n",
      "12. Either the person who bought the iphone or the person who bought the tablet\n",
      "    arrived on Tuesday.\n",
      "\n",
      "You will write the function logic_puzzle(), which should return a list of the\n",
      "names of the people in the order in which they arrive. For example, if they\n",
      "happen to arrive in alphabetical order, Hamming on Monday, Knuth on Tuesday, etc.,\n",
      "then you would return:\n",
      "\n",
      "['Hamming', 'Knuth', 'Minsky', 'Simon', 'Wilkes']\n",
      "\n",
      "(You can assume that the days mentioned are all in the same week.)\n",
      "\"\"\"\n",
      "from itertools import permutations\n",
      "\n",
      "def logic_puzzle():\n",
      "    \"Return a list of the names of the people, in the order they arrive.\"\n",
      "    ## your code here; you are free to define additional functions if needed\n",
      "    days = (M,T,W,H,F) = range(5)\n",
      "    (Ha,Kn,Mi,Si,Wi) = next( (Hamming, Knuth, Minsky, Simon, Wilkes)\n",
      "         for (Hamming, Knuth, Minsky, Simon, Wilkes) in permutations(days)\n",
      "         if Knuth == Simon+1\n",
      "         for (programmer, writer, manager, designer, X) in permutations(days)\n",
      "         if programmer != Wilkes\n",
      "         if programmer == Hamming\n",
      "         if writer != Minsky\n",
      "         if Knuth != manager\n",
      "         if H != designer\n",
      "         if Knuth == manager+1\n",
      "         for (laptop, droid, tablet, iphone, Y) in permutations(days)\n",
      "         if W == laptop\n",
      "         if droid == Wilkes\n",
      "         if tablet != manager\n",
      "         if F != tablet\n",
      "         if designer != droid\n",
      "         if iphone == T or tablet == T\n",
      "         if (laptop == M and Wilkes == writer) or \\\n",
      "             (Wilkes == M and laptop == writer))\n",
      "    people = ['']*5\n",
      "    people[Ha] = 'Hamming'\n",
      "    people[Kn] = 'Knuth'\n",
      "    people[Mi] = 'Minsky'\n",
      "    people[Si] = 'Simon'\n",
      "    people[Wi] = 'Wilkes'\n",
      "    return people\n",
      "\n",
      "    \n",
      "\n",
      "                \n"
     ],
     "language": "python",
     "metadata": {},
     "outputs": [],
     "prompt_number": 88
    },
    {
     "cell_type": "code",
     "collapsed": false,
     "input": [
      "%%timeit\n",
      "logic_puzzle() #200 times faster than non-prioritized ordering of if/fors"
     ],
     "language": "python",
     "metadata": {},
     "outputs": [
      {
       "output_type": "stream",
       "stream": "stdout",
       "text": [
        "1000 loops, best of 3: 1.4 ms per loop\n"
       ]
      }
     ],
     "prompt_number": 91
    },
    {
     "cell_type": "code",
     "collapsed": false,
     "input": [
      "%%timeit\n",
      "days = (M,T,W,H,F) = range(5)\n",
      "(Ha,Kn,Mi,Si,Wi) = next( (Hamming, Knuth, Minsky, Simon, Wilkes)\n",
      "     for (Hamming, Knuth, Minsky, Simon, Wilkes) in permutations(days)\n",
      "     for (programmer, writer, manager, designer, X) in permutations(days)\n",
      "     for (laptop, droid, tablet, iphone, Y) in permutations(days)\n",
      "     if Knuth == Simon+1\n",
      "     if programmer != Wilkes\n",
      "     if programmer == Hamming\n",
      "     if writer != Minsky\n",
      "     if Knuth != manager\n",
      "     if H != designer\n",
      "     if Knuth == manager+1\n",
      "     if W == laptop\n",
      "     if droid == Wilkes\n",
      "     if tablet != manager\n",
      "     if F != tablet\n",
      "     if designer != droid\n",
      "     if iphone == T or tablet == T\n",
      "     if (laptop == M and Wilkes == writer) or \\\n",
      "         (Wilkes == M and laptop == writer))"
     ],
     "language": "python",
     "metadata": {},
     "outputs": [
      {
       "output_type": "stream",
       "stream": "stdout",
       "text": [
        "1 loops, best of 3: 204 ms per loop\n"
       ]
      }
     ],
     "prompt_number": 93
    },
    {
     "cell_type": "code",
     "collapsed": false,
     "input": [],
     "language": "python",
     "metadata": {},
     "outputs": [],
     "prompt_number": 93
    },
    {
     "cell_type": "code",
     "collapsed": false,
     "input": [
      "\"\"\"\n",
      "UNIT 3: Functions and APIs: Polynomials\n",
      "\n",
      "A polynomial is a mathematical formula like:\n",
      "\n",
      "    30 * x**2 + 20 * x + 10\n",
      "\n",
      "More formally, it involves a single variable (here 'x'), and the sum of one\n",
      "or more terms, where each term is a real number multiplied by the variable\n",
      "raised to a non-negative integer power. (Remember that x**0 is 1 and x**1 is x,\n",
      "so 'x' is short for '1 * x**1' and '10' is short for '10 * x**0'.)\n",
      "\n",
      "We will represent a polynomial as a Python function which computes the formula\n",
      "when applied to a numeric value x.  The function will be created with the call:\n",
      "\n",
      "    p1 = poly((10, 20, 30))\n",
      "\n",
      "where the nth element of the input tuple is the coefficient of the nth power of x.\n",
      "(Note the order of coefficients has the x**n coefficient neatly in position n of \n",
      "the list, but this is the reversed order from how we usually write polynomials.)\n",
      "poly returns a function, so we can now apply p1 to some value of x:\n",
      "\n",
      "    p1(0) == 10\n",
      "\n",
      "Our representation of a polynomial is as a callable function, but in addition,\n",
      "we will store the coefficients in the .coefs attribute of the function, so we have:\n",
      "\n",
      "    p1.coefs == (10, 20, 30)\n",
      "\n",
      "And finally, the name of the function will be the formula given above, so you should\n",
      "have something like this:\n",
      "\n",
      "    >>> p1\n",
      "    <function 30 * x**2 + 20 * x + 10 at 0x100d71c08>\n",
      "\n",
      "    >>> p1.__name__\n",
      "    '30 * x**2 + 20 * x + 10'\n",
      "\n",
      "Make sure the formula used for function names is simplified properly.\n",
      "No '0 * x**n' terms; just drop these. Simplify '1 * x**n' to 'x**n'.\n",
      "Simplify '5 * x**0' to '5'.  Similarly, simplify 'x**1' to 'x'.\n",
      "For negative coefficients, like -5, you can use '... + -5 * ...' or\n",
      "'... - 5 * ...'; your choice. I'd recommend no spaces around '**' \n",
      "and spaces around '+' and '*', but you are free to use your preferences.\n",
      "\n",
      "Your task is to write the function poly and the following additional functions:\n",
      "\n",
      "    is_poly, add, sub, mul, power, deriv, integral\n",
      "\n",
      "They are described below; see the test_poly function for examples.\n",
      "\"\"\"\n",
      "\n",
      "def poly(coefs):\n",
      "    \"\"\"Return a function that represents the polynomial with these coefficients.\n",
      "    For example, if coefs=(10, 20, 30), return the function of x that computes\n",
      "    '30 * x**2 + 20 * x + 10'.  Also store the coefs on the .coefs attribute of\n",
      "    the function, and the str of the formula on the .__name__ attribute.'\"\"\"\n",
      "    def p(x) :\n",
      "        value = 0\n",
      "        for i, a in enumerate(p.coefs) :\n",
      "            value += a * (x**i)\n",
      "        return value\n",
      "    p.coefs = coefs\n",
      "    p.__name__ = poly_name(coefs)\n",
      "    return p\n",
      "            \n",
      "    \n",
      "def poly_name(coefs) :\n",
      "    \"Returns name of poly\"\n",
      "    name = ''\n",
      "    for i,a in enumerate(coefs) :\n",
      "        if a == 0 :\n",
      "            continue\n",
      "        elif a == 1 :\n",
      "            term = ' + ' + str(a) if i == 0 else \\\n",
      "                    ' + x' if i == 1 else \\\n",
      "                    ' + x**{}'.format(i)\n",
      "        else :\n",
      "            term = ' + ' + str(a) if i == 0 else \\\n",
      "                    ' + ' + str(a) + ' * x' if i == 1 else \\\n",
      "                    ' + {} * x**{}'.format(a,i)\n",
      "        name = term + name\n",
      "    name = name.replace('+','',1).lstrip()\n",
      "    return name\n",
      "\n",
      "def test_poly():\n",
      "    global p1, p2, p3, p4, p5, p9 # global to ease debugging in an interactive session\n",
      "\n",
      "    p1 = poly((10, 20, 30))\n",
      "    assert p1(0) == 10\n",
      "    for x in (1, 2, 3, 4, 5, 1234.5):\n",
      "        assert p1(x) == 30 * x**2 + 20 * x + 10\n",
      "    assert same_name(p1.__name__, '30 * x**2 + 20 * x + 10')\n",
      "\n",
      "    assert is_poly(p1)\n",
      "    assert not is_poly(abs) and not is_poly(42) and not is_poly('cracker')\n",
      "\n",
      "    p3 = poly((0, 0, 0, 1))\n",
      "    assert p3.__name__ == 'x**3'\n",
      "    p9 = mul(p3, mul(p3, p3))\n",
      "    assert p9(2) == 512\n",
      "    p4 =  add(p1, p3)\n",
      "    assert same_name(p4.__name__, 'x**3 + 30 * x**2 + 20 * x + 10')\n",
      "\n",
      "    assert same_name(poly((1, 1)).__name__, 'x + 1')\n",
      "    assert same_name(power(poly((1, 1)), 10).__name__,\n",
      "            'x**10 + 10 * x**9 + 45 * x**8 + 120 * x**7 + 210 * x**6 + 252 * x**5 + 210' +\n",
      "            ' * x**4 + 120 * x**3 + 45 * x**2 + 10 * x + 1')\n",
      "\n",
      "    assert add(poly((10, 20, 30)), poly((1, 2, 3))).coefs == (11,22,33)\n",
      "    assert sub(poly((10, 20, 30)), poly((1, 2, 3))).coefs == (9,18,27) \n",
      "    assert mul(poly((10, 20, 30)), poly((1, 2, 3))).coefs == (10, 40, 100, 120, 90)\n",
      "    assert power(poly((1, 1)), 2).coefs == (1, 2, 1) \n",
      "    assert power(poly((1, 1)), 10).coefs == (1, 10, 45, 120, 210, 252, 210, 120, 45, 10, 1)\n",
      "\n",
      "    assert deriv(p1).coefs == (20, 60)\n",
      "    assert integral(poly((20, 60))).coefs == (0, 20, 30)\n",
      "    p5 = poly((0, 1, 2, 3, 4, 5))\n",
      "    assert same_name(p5.__name__, '5 * x**5 + 4 * x**4 + 3 * x**3 + 2 * x**2 + x')\n",
      "    assert p5(1) == 15\n",
      "    assert p5(2) == 258\n",
      "    assert same_name(deriv(p5).__name__,  '25 * x**4 + 16 * x**3 + 9 * x**2 + 4 * x + 1')\n",
      "    assert deriv(p5)(1) == 55\n",
      "    assert deriv(p5)(2) == 573\n",
      "    return \"passes tests\"\n",
      "\n",
      "\n",
      "def same_name(name1, name2):\n",
      "    \"\"\"I define this function rather than doing name1 == name2 to allow for some\n",
      "    variation in naming conventions.\"\"\"\n",
      "    def canonical_name(name): return name.replace(' ', '').replace('+-', '-')\n",
      "    return canonical_name(name1) == canonical_name(name2)\n",
      "\n",
      "def is_poly(x):\n",
      "    \"Return true if x is a poly (polynomial).\"\n",
      "    return hasattr(x,'coefs')\n",
      "\n",
      "import operator\n",
      "def pad_coefs(coefs1, coefs2) :\n",
      "    \"Returns coefs of equal length (padded if necessary)\"\n",
      "    diff = len(coefs1) - len(coefs2)\n",
      "    if diff > 0 :\n",
      "        coefs2 = coefs2 + (0,)*diff\n",
      "    elif diff < 0 :\n",
      "        coefs1 = coefs1 + (0,)*(-diff)\n",
      "    return coefs1, coefs2\n",
      "\n",
      "def add(p1, p2):\n",
      "    \"Return a new polynomial which is the sum of polynomials p1 and p2.\"\n",
      "    coefs1, coefs2 = pad_coefs(p1.coefs, p2.coefs)\n",
      "    newcoefs = tuple(map(operator.add, coefs1, coefs2))\n",
      "    return poly(newcoefs)\n",
      "\n",
      "\n",
      "def sub(p1, p2):\n",
      "    \"Return a new polynomial which is the difference of polynomials p1 and p2.\"\n",
      "    coefs1, coefs2 = pad_coefs(p1.coefs, p2.coefs)\n",
      "    newcoefs = tuple(map(operator.sub, coefs1, coefs2))\n",
      "    return poly(newcoefs)\n",
      "\n",
      "def mul(p1, p2):\n",
      "    \"Return a new polynomial which is the product of polynomials p1 and p2.\"\n",
      "    new_len = len(p1.coefs) + len(p2.coefs) - 1\n",
      "    new_coefs = [0]*new_len\n",
      "    for i in range(len(p1.coefs)) :\n",
      "        for j in range(len(p2.coefs)) :\n",
      "            new_coefs[i+j] += p1.coefs[i] * p2.coefs[j]\n",
      "    return poly(tuple(new_coefs))\n",
      "    \n",
      "\n",
      "def power(p, n):\n",
      "    \"Return a new polynomial which is p to the nth power (n a non-negative integer).\"\n",
      "    if n == 0 : \n",
      "        return poly((1,))\n",
      "    elif n == 1 :\n",
      "        return p\n",
      "    else :\n",
      "        q = p\n",
      "        for i in range(n-1) :\n",
      "            q = mul(q,p)\n",
      "    return q\n",
      "\n",
      "\"\"\"\n",
      "If your calculus is rusty (or non-existant), here is a refresher:\n",
      "The deriviative of a polynomial term (c * x**n) is (c*n * x**(n-1)).\n",
      "The derivative of a sum is the sum of the derivatives.\n",
      "So the derivative of (30 * x**2 + 20 * x + 10) is (60 * x + 20).\n",
      "\n",
      "The integral is the anti-derivative:\n",
      "The integral of 60 * x + 20 is  30 * x**2 + 20 * x + C, for any constant C.\n",
      "Any value of C is an equally good anti-derivative.  We allow C as an argument\n",
      "to the function integral (withh default C=0).\n",
      "\"\"\"\n",
      "    \n",
      "def deriv(p):\n",
      "    \"Return the derivative of a function p (with respect to its argument).\"\n",
      "    new_coefs = tuple([i*c for i,c in enumerate(p.coefs)])[1:]\n",
      "    return poly(new_coefs)\n",
      "\n",
      "\n",
      "def integral(p, C=0):\n",
      "    \"Return the integral of a function p (with respect to its argument).\"\n",
      "    new_coefs = (C,) + tuple([1.0*c/(i+1) for i,c in enumerate(p.coefs)])\n",
      "    return poly(new_coefs)"
     ],
     "language": "python",
     "metadata": {},
     "outputs": [],
     "prompt_number": 133
    },
    {
     "cell_type": "code",
     "collapsed": false,
     "input": [
      "\"\"\"\n",
      "Now for an extra credit challenge: arrange to describe polynomials with an\n",
      "expression like '3 * x**2 + 5 * x + 9' rather than (9, 5, 3).  You can do this\n",
      "in one (or both) of two ways:\n",
      "\n",
      "(1) By defining poly as a class rather than a function, and overloading the \n",
      "__add__, __sub__, __mul__, and __pow__ operators, etc.  If you choose this,\n",
      "call the function test_poly1().  Make sure that poly objects can still be called.\n",
      "\n",
      "(2) Using the grammar parsing techniques we learned in Unit 5. For this\n",
      "approach, define a new function, Poly, which takes one argument, a string,\n",
      "as in Poly('30 * x**2 + 20 * x + 10').  Call test_poly2().\n",
      "\"\"\"\n",
      "\n",
      "\n",
      "def test_poly1():\n",
      "    # I define x as the polynomial 1*x + 0.\n",
      "    x = poly((0, 1))\n",
      "    # From here on I can create polynomials by + and * operations on x.\n",
      "    newp1 =  30 * x**2 + 20 * x + 10 # This is a poly object, not a number!\n",
      "    assert p1(100) == newp1(100) # The new poly objects are still callable.\n",
      "    assert same_name(p1.__name__,newp1.__name__)\n",
      "    assert (x + 1) * (x - 1) == x**2 - 1 == poly((-1, 0, 1))\n",
      "\n",
      "def test_poly2():\n",
      "    newp1 = Poly('30 * x**2 + 20 * x + 10')\n",
      "    assert p1(100) == newp1(100)\n",
      "    assert same_name(p1.__name__,newp1.__name__)"
     ],
     "language": "python",
     "metadata": {},
     "outputs": []
    },
    {
     "cell_type": "code",
     "collapsed": false,
     "input": [
      "test_poly1()"
     ],
     "language": "python",
     "metadata": {},
     "outputs": [
      {
       "ename": "TypeError",
       "evalue": "unsupported operand type(s) for *: 'int' and 'poly'",
       "output_type": "pyerr",
       "traceback": [
        "\u001b[0;31m---------------------------------------------------------------------------\u001b[0m\n\u001b[0;31mTypeError\u001b[0m                                 Traceback (most recent call last)",
        "\u001b[0;32m<ipython-input-129-0efaa88c1aa3>\u001b[0m in \u001b[0;36m<module>\u001b[0;34m()\u001b[0m\n\u001b[0;32m----> 1\u001b[0;31m \u001b[0mtest_poly1\u001b[0m\u001b[0;34m(\u001b[0m\u001b[0;34m)\u001b[0m\u001b[0;34m\u001b[0m\u001b[0m\n\u001b[0m",
        "\u001b[0;32m<ipython-input-102-9b1a328e2725>\u001b[0m in \u001b[0;36mtest_poly1\u001b[0;34m()\u001b[0m\n\u001b[1;32m    221\u001b[0m     \u001b[0mx\u001b[0m \u001b[0;34m=\u001b[0m \u001b[0mpoly\u001b[0m\u001b[0;34m(\u001b[0m\u001b[0;34m(\u001b[0m\u001b[0;36m0\u001b[0m\u001b[0;34m,\u001b[0m \u001b[0;36m1\u001b[0m\u001b[0;34m)\u001b[0m\u001b[0;34m)\u001b[0m\u001b[0;34m\u001b[0m\u001b[0m\n\u001b[1;32m    222\u001b[0m     \u001b[0;31m# From here on I can create polynomials by + and * operations on x.\u001b[0m\u001b[0;34m\u001b[0m\u001b[0;34m\u001b[0m\u001b[0m\n\u001b[0;32m--> 223\u001b[0;31m     \u001b[0mnewp1\u001b[0m \u001b[0;34m=\u001b[0m  \u001b[0;36m30\u001b[0m \u001b[0;34m*\u001b[0m \u001b[0mx\u001b[0m\u001b[0;34m**\u001b[0m\u001b[0;36m2\u001b[0m \u001b[0;34m+\u001b[0m \u001b[0;36m20\u001b[0m \u001b[0;34m*\u001b[0m \u001b[0mx\u001b[0m \u001b[0;34m+\u001b[0m \u001b[0;36m10\u001b[0m \u001b[0;31m# This is a poly object, not a number!\u001b[0m\u001b[0;34m\u001b[0m\u001b[0m\n\u001b[0m\u001b[1;32m    224\u001b[0m     \u001b[0;32massert\u001b[0m \u001b[0mp1\u001b[0m\u001b[0;34m(\u001b[0m\u001b[0;36m100\u001b[0m\u001b[0;34m)\u001b[0m \u001b[0;34m==\u001b[0m \u001b[0mnewp1\u001b[0m\u001b[0;34m(\u001b[0m\u001b[0;36m100\u001b[0m\u001b[0;34m)\u001b[0m \u001b[0;31m# The new poly objects are still callable.\u001b[0m\u001b[0;34m\u001b[0m\u001b[0m\n\u001b[1;32m    225\u001b[0m     \u001b[0;32massert\u001b[0m \u001b[0msame_name\u001b[0m\u001b[0;34m(\u001b[0m\u001b[0mp1\u001b[0m\u001b[0;34m.\u001b[0m\u001b[0m__name__\u001b[0m\u001b[0;34m,\u001b[0m\u001b[0mnewp1\u001b[0m\u001b[0;34m.\u001b[0m\u001b[0m__name__\u001b[0m\u001b[0;34m)\u001b[0m\u001b[0;34m\u001b[0m\u001b[0m\n",
        "\u001b[0;31mTypeError\u001b[0m: unsupported operand type(s) for *: 'int' and 'poly'"
       ]
      }
     ],
     "prompt_number": 129
    },
    {
     "cell_type": "code",
     "collapsed": false,
     "input": [
      "x = poly((0,1))\n",
      "4 * x"
     ],
     "language": "python",
     "metadata": {},
     "outputs": [
      {
       "ename": "TypeError",
       "evalue": "unsupported operand type(s) for *: 'int' and 'poly'",
       "output_type": "pyerr",
       "traceback": [
        "\u001b[0;31m---------------------------------------------------------------------------\u001b[0m\n\u001b[0;31mTypeError\u001b[0m                                 Traceback (most recent call last)",
        "\u001b[0;32m<ipython-input-132-4f6d6eaf1a43>\u001b[0m in \u001b[0;36m<module>\u001b[0;34m()\u001b[0m\n\u001b[1;32m      1\u001b[0m \u001b[0mx\u001b[0m \u001b[0;34m=\u001b[0m \u001b[0mpoly\u001b[0m\u001b[0;34m(\u001b[0m\u001b[0;34m(\u001b[0m\u001b[0;36m0\u001b[0m\u001b[0;34m,\u001b[0m\u001b[0;36m1\u001b[0m\u001b[0;34m)\u001b[0m\u001b[0;34m)\u001b[0m\u001b[0;34m\u001b[0m\u001b[0m\n\u001b[0;32m----> 2\u001b[0;31m \u001b[0;36m4\u001b[0m \u001b[0;34m*\u001b[0m \u001b[0mx\u001b[0m\u001b[0;34m\u001b[0m\u001b[0m\n\u001b[0m",
        "\u001b[0;31mTypeError\u001b[0m: unsupported operand type(s) for *: 'int' and 'poly'"
       ]
      }
     ],
     "prompt_number": 132
    },
    {
     "cell_type": "code",
     "collapsed": false,
     "input": [
      "import numbers"
     ],
     "language": "python",
     "metadata": {},
     "outputs": [],
     "prompt_number": 119
    },
    {
     "cell_type": "code",
     "collapsed": false,
     "input": [
      "isinstance(-0.0, numbers.Number)"
     ],
     "language": "python",
     "metadata": {},
     "outputs": [
      {
       "metadata": {},
       "output_type": "pyout",
       "prompt_number": 125,
       "text": [
        "True"
       ]
      }
     ],
     "prompt_number": 125
    },
    {
     "cell_type": "code",
     "collapsed": false,
     "input": [
      "class poly(object) :\n",
      "    def __init__(self, coefs) :\n",
      "        self.coefs = coefs\n",
      "        self.__name__ = poly_name(coefs)\n",
      "\n",
      "    def __call__(self, x) :\n",
      "        value = 0\n",
      "        for i, a in enumerate(self.coefs) :\n",
      "            value += a * (x**i)\n",
      "        return value\n",
      "    \n",
      "    def __add__(self, other) :\n",
      "        \"Return a new polynomial which is the sum of polynomials p1 and p2.\"\n",
      "        coefs1, coefs2 = pad_coefs(self.coefs, other.coefs)\n",
      "        newcoefs = tuple(map(operator.add, coefs1, coefs2))\n",
      "        return poly(newcoefs)\n",
      "    \n",
      "    def __sub__(self, other) :\n",
      "        \"Return a new polynomial which is the difference of polynomials p1 and p2.\"\n",
      "        coefs1, coefs2 = pad_coefs(self.coefs, other.coefs)\n",
      "        newcoefs = tuple(map(operator.sub, coefs1, coefs2))\n",
      "        return poly(newcoefs)\n",
      "\n",
      "    def __mul__(self, other) :\n",
      "        \"Return a new polynomial which is the product of polynomials p1 and p2.\"\n",
      "        if isinstance(other, numbers.Number) :\n",
      "            return poly(tuple(map(lambda x : x * other, self.coefs)))\n",
      "        new_len = len(self.coefs) + len(other.coefs) - 1\n",
      "        new_coefs = [0]*new_len\n",
      "        for i in range(len(self.coefs)) :\n",
      "            for j in range(len(other.coefs)) :\n",
      "                new_coefs[i+j] += self.coefs[i] * other.coefs[j]\n",
      "        return poly(tuple(new_coefs))\n",
      "    \n",
      "    def __pow__(self, n) :\n",
      "        \"Return a new polynomial which is p to the nth power (n a non-negative integer).\"\n",
      "        if n == 0 :\n",
      "            return poly((1,))\n",
      "        elif n == 1 :\n",
      "            return self\n",
      "        else :\n",
      "            q = self\n",
      "        for i in range(n-1) :\n",
      "            q = mul(q,self)\n",
      "        return q"
     ],
     "language": "python",
     "metadata": {},
     "outputs": [],
     "prompt_number": 127
    },
    {
     "cell_type": "code",
     "collapsed": false,
     "input": [
      "p = poly((0,1))"
     ],
     "language": "python",
     "metadata": {},
     "outputs": [],
     "prompt_number": 113
    },
    {
     "cell_type": "code",
     "collapsed": false,
     "input": [
      "p = poly((0,))"
     ],
     "language": "python",
     "metadata": {},
     "outputs": [],
     "prompt_number": 103
    },
    {
     "cell_type": "code",
     "collapsed": false,
     "input": [
      "test_poly()"
     ],
     "language": "python",
     "metadata": {},
     "outputs": [
      {
       "metadata": {},
       "output_type": "pyout",
       "prompt_number": 104,
       "text": [
        "'passes tests'"
       ]
      }
     ],
     "prompt_number": 104
    },
    {
     "cell_type": "code",
     "collapsed": false,
     "input": [
      "p = mul(poly((10, 20, 30)), poly((1, 2, 3)))"
     ],
     "language": "python",
     "metadata": {},
     "outputs": [
      {
       "output_type": "stream",
       "stream": "stdout",
       "text": [
        "[0, 0, 0, 0, 0]\n",
        "[10, 0, 0, 0, 0]\n",
        "[10, 20, 0, 0, 0]\n",
        "[10, 20, 30, 0, 0]\n",
        "[10, 40, 30, 0, 0]\n",
        "[10, 40, 70, 0, 0]\n",
        "[10, 40, 70, 60, 0]\n",
        "[10, 40, 100, 60, 0]\n",
        "[10, 40, 100, 120, 0]\n"
       ]
      }
     ],
     "prompt_number": 90
    },
    {
     "cell_type": "code",
     "collapsed": false,
     "input": [
      "p.coefs"
     ],
     "language": "python",
     "metadata": {},
     "outputs": [
      {
       "metadata": {},
       "output_type": "pyout",
       "prompt_number": 91,
       "text": [
        "(10, 40, 100, 120, 90)"
       ]
      }
     ],
     "prompt_number": 91
    },
    {
     "cell_type": "code",
     "collapsed": false,
     "input": [
      "def is_poly(x):\n",
      "    \"Return true if x is a poly (polynomial).\"\n",
      "    return hasattr(x,'coefs')\n",
      "\n",
      "import operator\n",
      "def pad_coefs(coefs1, coefs2) :\n",
      "    \"Returns coefs of equal length (padded if necessary)\"\n",
      "    diff = len(coefs1) - len(coefs2)\n",
      "    if diff > 0 :\n",
      "        coefs2 = coefs2 + (0,)*diff\n",
      "    elif diff < 0 :\n",
      "        coefs1 = coefs1 + (0,)*(-diff)\n",
      "    return coefs1, coefs2\n",
      "\n",
      "def add(p1, p2):\n",
      "    \"Return a new polynomial which is the sum of polynomials p1 and p2.\"\n",
      "    coefs1, coefs2 = pad_coefs(p1.coefs, p2.coefs)\n",
      "    newcoefs = tuple(map(operator.add, coefs1, coefs2))\n",
      "    return poly(newcoefs)\n",
      "\n",
      "\n",
      "def sub(p1, p2):\n",
      "    \"Return a new polynomial which is the difference of polynomials p1 and p2.\"\n",
      "    coefs1, coefs2 = pad_coefs(p1.coefs, p2.coefs)\n",
      "    newcoefs = tuple(map(operator.sub, coefs1, coefs2))\n",
      "    return poly(newcoefs)\n",
      "\n",
      "def mul(p1, p2):\n",
      "    \"Return a new polynomial which is the product of polynomials p1 and p2.\"\n",
      "    new_len = len(p1.coefs) + len(p2.coefs) - 1\n",
      "    new_coefs = [0]*new_len\n",
      "    for i in range(len(p1.coefs)) :\n",
      "        for j in range(len(p2.coefs)) :\n",
      "            print new_coefs\n",
      "            new_coefs[i+j] += p1.coefs[i] * p2.coefs[j]\n",
      "    return poly(tuple(new_coefs))\n",
      "    \n",
      "\n",
      "def power(p, n):\n",
      "    \"Return a new polynomial which is p to the nth power (n a non-negative integer).\"\n",
      "    if n == 0 : \n",
      "        return poly((1,))\n",
      "    elif n == 1 :\n",
      "        return p\n",
      "    else :\n",
      "        q = p\n",
      "        for i in range(n-1) :\n",
      "            q = mul(q,p)\n",
      "    return q\n",
      "        \n",
      "        \n"
     ],
     "language": "python",
     "metadata": {},
     "outputs": [],
     "prompt_number": 89
    },
    {
     "cell_type": "code",
     "collapsed": false,
     "input": [
      "tuple([1,2,3])"
     ],
     "language": "python",
     "metadata": {},
     "outputs": [
      {
       "metadata": {},
       "output_type": "pyout",
       "prompt_number": 66,
       "text": [
        "(1, 2, 3)"
       ]
      }
     ],
     "prompt_number": 66
    },
    {
     "cell_type": "code",
     "collapsed": false,
     "input": [
      "p1"
     ],
     "language": "python",
     "metadata": {},
     "outputs": [
      {
       "metadata": {},
       "output_type": "pyout",
       "prompt_number": 67,
       "text": [
        "<function __main__.30 * x**2 + 20 * x + 10>"
       ]
      }
     ],
     "prompt_number": 67
    },
    {
     "cell_type": "code",
     "collapsed": false,
     "input": [
      "p2 = poly((1,2,3))"
     ],
     "language": "python",
     "metadata": {},
     "outputs": [],
     "prompt_number": 68
    },
    {
     "cell_type": "code",
     "collapsed": false,
     "input": [
      "print p1, p2"
     ],
     "language": "python",
     "metadata": {},
     "outputs": [
      {
       "output_type": "stream",
       "stream": "stdout",
       "text": [
        "<function 30 * x**2 + 20 * x + 10 at 0x1049149b0> <function 3 * x**2 + 2 * x + 1 at 0x1049145f0>\n"
       ]
      }
     ],
     "prompt_number": 69
    },
    {
     "cell_type": "code",
     "collapsed": false,
     "input": [
      "add(p1,p2)"
     ],
     "language": "python",
     "metadata": {},
     "outputs": [
      {
       "metadata": {},
       "output_type": "pyout",
       "prompt_number": 70,
       "text": [
        "<function __main__.33 * x**2 + 22 * x + 11>"
       ]
      }
     ],
     "prompt_number": 70
    },
    {
     "cell_type": "code",
     "collapsed": false,
     "input": [
      "sub(p1,p2)"
     ],
     "language": "python",
     "metadata": {},
     "outputs": [
      {
       "metadata": {},
       "output_type": "pyout",
       "prompt_number": 71,
       "text": [
        "<function __main__.27 * x**2 + 18 * x + 9>"
       ]
      }
     ],
     "prompt_number": 71
    },
    {
     "cell_type": "code",
     "collapsed": false,
     "input": [
      "mul(p1,p2)"
     ],
     "language": "python",
     "metadata": {},
     "outputs": [
      {
       "metadata": {},
       "output_type": "pyout",
       "prompt_number": 78,
       "text": [
        "<function __main__.90 * x**4 + 120 * x**3 + 100 * x**2 + 40 * x + 10>"
       ]
      }
     ],
     "prompt_number": 78
    },
    {
     "cell_type": "code",
     "collapsed": false,
     "input": [
      "power(p2,4)"
     ],
     "language": "python",
     "metadata": {},
     "outputs": [
      {
       "metadata": {},
       "output_type": "pyout",
       "prompt_number": 75,
       "text": [
        "<function __main__.81 * x**8 + 216 * x**7 + 324 * x**6 + 312 * x**5 + 214 * x**4 + 104 * x**3 + 36 * x**2 + 8 * x + 1>"
       ]
      }
     ],
     "prompt_number": 75
    },
    {
     "cell_type": "code",
     "collapsed": false,
     "input": [],
     "language": "python",
     "metadata": {},
     "outputs": []
    },
    {
     "cell_type": "code",
     "collapsed": false,
     "input": [
      "\"\"\"\n",
      "UNIT 4: Search\n",
      "\n",
      "Your task is to maneuver a car in a crowded parking lot. This is a kind of \n",
      "puzzle, which can be represented with a diagram like this: \n",
      "\n",
      "| | | | | | | |  \n",
      "| G G . . . Y |  \n",
      "| P . . B . Y | \n",
      "| P * * B . Y @ \n",
      "| P . . B . . |  \n",
      "| O . . . A A |  \n",
      "| O . S S S . |  \n",
      "| | | | | | | | \n",
      "\n",
      "A '|' represents a wall around the parking lot, a '.' represents an empty square,\n",
      "and a letter or asterisk represents a car.  '@' marks a goal square.\n",
      "Note that there are long (3 spot) and short (2 spot) cars.\n",
      "Your task is to get the car that is represented by '**' out of the parking lot\n",
      "(on to a goal square).  Cars can move only in the direction they are pointing.  \n",
      "In this diagram, the cars GG, AA, SSS, and ** are pointed right-left,\n",
      "so they can move any number of squares right or left, as long as they don't\n",
      "bump into another car or wall.  In this diagram, GG could move 1, 2, or 3 spots\n",
      "to the right; AA could move 1, 2, or 3 spots to the left, and ** cannot move \n",
      "at all. In the up-down direction, BBB can move one up or down, YYY can move \n",
      "one down, and PPP and OO cannot move.\n",
      "\n",
      "You should solve this puzzle (and ones like it) using search.  You will be \n",
      "given an initial state like this diagram and a goal location for the ** car;\n",
      "in this puzzle the goal is the '.' empty spot in the wall on the right side.\n",
      "You should return a path -- an alternation of states and actions -- that leads\n",
      "to a state where the car overlaps the goal.\n",
      "\n",
      "An action is a move by one car in one direction (by any number of spaces).  \n",
      "For example, here is a successor state where the AA car moves 3 to the left:\n",
      "\n",
      "| | | | | | | |  \n",
      "| G G . . . Y |  \n",
      "| P . . B . Y | \n",
      "| P * * B . Y @ \n",
      "| P . . B . . |  \n",
      "| O A A . . . |  \n",
      "| O . . . . . |  \n",
      "| | | | | | | | \n",
      "\n",
      "And then after BBB moves 2 down and YYY moves 3 down, we can solve the puzzle\n",
      "by moving ** 4 spaces to the right:\n",
      "\n",
      "| | | | | | | |\n",
      "| G G . . . . |\n",
      "| P . . . . . |\n",
      "| P . . . . * *\n",
      "| P . . B . Y |\n",
      "| O A A B . Y |\n",
      "| O . . B . Y |\n",
      "| | | | | | | |\n",
      "\n",
      "You will write the function\n",
      "\n",
      "    solve_parking_puzzle(start, N=N)\n",
      "\n",
      "where 'start' is the initial state of the puzzle and 'N' is the length of a side\n",
      "of the square that encloses the pieces (including the walls, so N=8 here).\n",
      "\n",
      "We will represent the grid with integer indexes. Here we see the \n",
      "non-wall index numbers (with the goal at index 31):\n",
      "\n",
      " |  |  |  |  |  |  |  |\n",
      " |  9 10 11 12 13 14  |\n",
      " | 17 18 19 20 21 22  |\n",
      " | 25 26 27 28 29 30 31\n",
      " | 33 34 35 36 37 38  |\n",
      " | 41 42 43 44 45 46  |\n",
      " | 49 50 51 52 53 54  |\n",
      " |  |  |  |  |  |  |  |\n",
      "\n",
      "The wall in the upper left has index 0 and the one in the lower right has 63.\n",
      "We represent a state of the problem with one big tuple of (object, locations)\n",
      "pairs, where each pair is a tuple and the locations are a tuple.  Here is the\n",
      "initial state for the problem above in this format:\n",
      "\"\"\"\n",
      "\n",
      "puzzle1 = (\n",
      " ('@', (31,)),\n",
      " ('*', (26, 27)), \n",
      " ('G', (9, 10)),\n",
      " ('Y', (14, 22, 30)), \n",
      " ('P', (17, 25, 33)), \n",
      " ('O', (41, 49)), \n",
      " ('B', (20, 28, 36)), \n",
      " ('A', (45, 46)), \n",
      " ('|', (0, 1, 2, 3, 4, 5, 6, 7, 8, 15, 16, 23, 24, 32, 39,\n",
      "        40, 47, 48, 55, 56, 57, 58, 59, 60, 61, 62, 63)))\n",
      "\n",
      "# A solution to this puzzle is as follows:\n",
      "\n",
      "#     path = solve_parking_puzzle(puzzle1, N=8)\n",
      "#     path_actions(path) == [('A', -3), ('B', 16), ('Y', 24), ('*', 4)]\n",
      "\n",
      "# That is, move car 'A' 3 spaces left, then 'B' 2 down, then 'Y' 3 down, \n",
      "# and finally '*' moves 4 spaces right to the goal.\n",
      "\n",
      "# Your task is to define solve_parking_puzzle:\n",
      "\n",
      "N = 8\n",
      "def get_free_sq(state) :\n",
      "    \"Returns set of squares that are free\"\n",
      "    all_sq = set(range(N*N))\n",
      "    for (kind,squares) in state :\n",
      "        if kind != '@' :\n",
      "            all_sq = all_sq - set(squares)\n",
      "    return all_sq\n",
      "\n",
      "def apply_action(action, state) :\n",
      "    \"Returns new board to with action ('A', -3) applied\"\n",
      "    update = lambda kind : kind if kind[0] != action[0] else (kind[0], tuple([sq+action[1] for sq in kind[1]]))\n",
      "    return tuple(map(update, state))\n",
      "    \n",
      "def solve_parking_puzzle(start, N=N):\n",
      "    \"\"\"Solve the puzzle described by the starting position (a tuple \n",
      "    of (object, locations) pairs).  Return a path of [state, action, ...]\n",
      "    alternating items; an action is a pair (object, distance_moved),\n",
      "    such as ('B', 16) to move 'B' two squares down on the N=8 grid.\"\"\"\n",
      "    #def successors(state) ---> {state, action}\n",
      "    def successors(state) :\n",
      "        \"\"\"Returns (action,state) dict of all possible actions and their \n",
      "        following states given the state\"\"\"\n",
      "        moves = dict()\n",
      "        free_sq = get_free_sq(state)\n",
      "        for (kind, squares) in state :\n",
      "            if kind in ['|', '@'] :\n",
      "                continue\n",
      "            backwards = forwards = True\n",
      "            diff = squares[1] - squares[0]\n",
      "            step = diff\n",
      "            while backwards or forwards :\n",
      "                if forwards and (squares[-1] + step in free_sq) :\n",
      "                    action = (kind, step)\n",
      "                    moves[apply_action(action,state)] = action\n",
      "                else :\n",
      "                    forwards = False\n",
      "                if backwards and (squares[0] - step in free_sq) :\n",
      "                    action = (kind, -step)\n",
      "                    moves[apply_action(action, state)] = action\n",
      "                else :\n",
      "                    backwards = False\n",
      "                step += diff\n",
      "        return moves\n",
      "    \n",
      "    def is_goal(state) :\n",
      "        \"\"\"Returns True if car is on target squares of board\"\"\"\n",
      "        goal_square = (N/2)*N-1\n",
      "        return ('*', (goal_square-1, goal_square)) in state\n",
      "    \n",
      "    return shortest_path_search(start,successors, is_goal)\n",
      "                                             \n",
      "    \n",
      "# But it would also be nice to have a simpler format to describe puzzles,\n",
      "# and a way to visualize states.\n",
      "# You will do that by defining the following two functions:\n",
      "\n",
      "def locs(start, n, incr=1):\n",
      "    \"Return a tuple of n locations, starting at start and incrementing by incr.\"\n",
      "    return tuple(start + i*incr for i in range(n))\n",
      "\n",
      "def grid(cars, N=N):\n",
      "    \"\"\"Return a tuple of (object, locations) pairs -- the format expected for\n",
      "    this puzzle.  This function includes a wall pair, ('|', (0, ...)) to \n",
      "    indicate there are walls all around the NxN grid, except at the goal \n",
      "    location, which is the middle of the right-hand wall; there is a goal\n",
      "    pair, like ('@', (31,)), to indicate this. The variable 'cars'  is a\n",
      "    tuple of pairs like ('*', (26, 27)). The return result is a big tuple\n",
      "    of the 'cars' pairs along with the walls and goal pairs.\"\"\"\n",
      "    walls = range(N-1)\n",
      "    for i in range(1,N) :\n",
      "        walls.append(i*N -1)\n",
      "        walls.append(i*N)\n",
      "    walls += range(N**2 - N + 1, N**2)\n",
      "    walls.remove((N/2)*N-1)\n",
      "    walls = ('|', tuple(walls))\n",
      "    goal = ('@',((N/2)*N-1,))\n",
      "    return cars + (goal,walls)\n",
      "\n",
      "\n",
      "def show(state, N=N):\n",
      "    \"Print a representation of a state as an NxN grid.\"\n",
      "    # Initialize and fill in the board.\n",
      "    board = ['.'] * N**2\n",
      "    for (c, squares) in state:\n",
      "        for s in squares:\n",
      "            board[s] = c\n",
      "    # Now print it out\n",
      "    for i,s in enumerate(board):\n",
      "        print s,\n",
      "        if i % N == N - 1: print\n",
      "\n",
      "# Here we see the grid and locs functions in use:\n",
      "\n",
      "puzzle1 = grid((\n",
      "    ('*', locs(26, 2)),\n",
      "    ('G', locs(9, 2)),\n",
      "    ('Y', locs(14, 3, N)),\n",
      "    ('P', locs(17, 3, N)),\n",
      "    ('O', locs(41, 2, N)),\n",
      "    ('B', locs(20, 3, N)),\n",
      "    ('A', locs(45, 2))))\n",
      "\n",
      "puzzle2 = grid((\n",
      "    ('*', locs(26, 2)),\n",
      "    ('B', locs(20, 3, N)),\n",
      "    ('P', locs(33, 3)),\n",
      "    ('O', locs(41, 2, N)),\n",
      "    ('Y', locs(51, 3))))\n",
      "\n",
      "puzzle3 = grid((\n",
      "    ('*', locs(25, 2)),\n",
      "    ('B', locs(19, 3, N)),\n",
      "    ('P', locs(36, 3)),\n",
      "    ('O', locs(45, 2, N)),\n",
      "    ('Y', locs(49, 3))))\n",
      "\n",
      "\n",
      "# Here are the shortest_path_search and path_actions functions from the unit.\n",
      "# You may use these if you want, but you don't have to.\n",
      "\n",
      "def shortest_path_search(start, successors, is_goal):\n",
      "    \"\"\"Find the shortest path from start state to a state\n",
      "    such that is_goal(state) is true.\"\"\"\n",
      "    if is_goal(start):\n",
      "        return [start]\n",
      "    explored = set() # set of states we have visited\n",
      "    frontier = [ [start] ] # ordered list of paths we have blazed\n",
      "    while frontier:\n",
      "        path = frontier.pop(0)\n",
      "        s = path[-1]\n",
      "        for (state, action) in successors(s).items():\n",
      "            if state not in explored:\n",
      "                explored.add(state)\n",
      "                path2 = path + [action, state]\n",
      "                if is_goal(state):\n",
      "                    return path2\n",
      "                else:\n",
      "                    frontier.append(path2)\n",
      "    return []\n",
      "\n",
      "def path_actions(path):\n",
      "    \"Return a list of actions in this path.\"\n",
      "    return path[1::2]\n"
     ],
     "language": "python",
     "metadata": {},
     "outputs": [],
     "prompt_number": 1714
    },
    {
     "cell_type": "code",
     "collapsed": false,
     "input": [
      "def tests() :\n",
      "    N = 8\n",
      "    grid1 = (\n",
      "    ('*', locs(26, 2)),\n",
      "    ('G', locs(9, 2)),\n",
      "    ('Y', locs(14, 3, N)),\n",
      "    ('P', locs(17, 3, N)),\n",
      "    ('O', locs(41, 2, N)),\n",
      "    ('B', locs(20, 3, N)),\n",
      "    ('A', locs(45, 2)))\n",
      "    \n",
      "    assert locs(26, 2) == (26, 27)\n",
      "    assert locs(14, 3, N) == (14, 22, 30)\n",
      "    assert locs(41, 2, N) == (41, 49)\n",
      "    assert locs(1, 1) == (1,)\n",
      "    assert dict(grid(grid1)) == dict((('@', (31,)),\n",
      "                                 ('*', (26, 27)), \n",
      "                                 ('G', (9, 10)),\n",
      "                                 ('Y', (14, 22, 30)), \n",
      "                                 ('P', (17, 25, 33)), \n",
      "                                 ('O', (41, 49)), \n",
      "                                 ('B', (20, 28, 36)), \n",
      "                                 ('A', (45, 46)), \n",
      "                                 ('|', (0, 1, 2, 3, 4, 5, 6, 7, 8, 15, 16, 23, 24, 32, 39,\n",
      "                                        40, 47, 48, 55, 56, 57, 58, 59, 60, 61, 62, 63))))\n",
      "    assert path_actions(solve_parking_puzzle(grid(grid1))) == [('A', -3), \n",
      "                                                            ('Y', 24), \n",
      "                                                            ('B', 16), \n",
      "                                                            ('*', 4)]\n",
      "    return \"passes tess\""
     ],
     "language": "python",
     "metadata": {},
     "outputs": [],
     "prompt_number": 1715
    },
    {
     "cell_type": "code",
     "collapsed": false,
     "input": [
      "tests()"
     ],
     "language": "python",
     "metadata": {},
     "outputs": [
      {
       "metadata": {},
       "output_type": "pyout",
       "prompt_number": 1731,
       "text": [
        "'passes tess'"
       ]
      }
     ],
     "prompt_number": 1731
    },
    {
     "cell_type": "code",
     "collapsed": false,
     "input": [
      "# setup\n",
      "start = puzzle1\n",
      "def is_goal(state) :\n",
      "    \"\"\"Returns True if car is on target squares of board\"\"\"\n",
      "    goal_square = (N/2)*N-1\n",
      "    return ('*', (goal_square-1, goal_square)) in state\n",
      "frontier = [[start]]\n",
      "explored = set()\n",
      "done = False\n",
      "print len(frontier)"
     ],
     "language": "python",
     "metadata": {},
     "outputs": [
      {
       "output_type": "stream",
       "stream": "stdout",
       "text": [
        "1\n"
       ]
      }
     ],
     "prompt_number": 1580
    },
    {
     "cell_type": "code",
     "collapsed": false,
     "input": [
      "# frontier loop\n",
      "if done == True :\n",
      "    assert False\n",
      "print len(frontier), \" paths in frontier\"\n",
      "path = frontier.pop(0)\n",
      "s = path[-1]\n",
      "show(s)\n",
      "print \"^ is the current state considered\"\n",
      "for state, action in successors(s).items():\n",
      "    if state not in explored :\n",
      "        explored.add(state)\n",
      "        path2 = path + [action, state]\n",
      "        if is_goal(state) :\n",
      "            print \"DONE\", path2\n",
      "            done = True\n",
      "        else :\n",
      "            frontier.append(path2)\n",
      "print len(frontier), \" paths in frontier after successors\"\n",
      "print len(explored), \" unique states seen\""
     ],
     "language": "python",
     "metadata": {},
     "outputs": [
      {
       "ename": "AssertionError",
       "evalue": "",
       "output_type": "pyerr",
       "traceback": [
        "\u001b[0;31m---------------------------------------------------------------------------\u001b[0m\n\u001b[0;31mAssertionError\u001b[0m                            Traceback (most recent call last)",
        "\u001b[0;32m<ipython-input-1694-339dda009aad>\u001b[0m in \u001b[0;36m<module>\u001b[0;34m()\u001b[0m\n\u001b[1;32m      1\u001b[0m \u001b[0;31m# frontier loop\u001b[0m\u001b[0;34m\u001b[0m\u001b[0;34m\u001b[0m\u001b[0m\n\u001b[1;32m      2\u001b[0m \u001b[0;32mif\u001b[0m \u001b[0mdone\u001b[0m \u001b[0;34m==\u001b[0m \u001b[0mTrue\u001b[0m \u001b[0;34m:\u001b[0m\u001b[0;34m\u001b[0m\u001b[0m\n\u001b[0;32m----> 3\u001b[0;31m     \u001b[0;32massert\u001b[0m \u001b[0mFalse\u001b[0m\u001b[0;34m\u001b[0m\u001b[0m\n\u001b[0m\u001b[1;32m      4\u001b[0m \u001b[0;32mprint\u001b[0m \u001b[0mlen\u001b[0m\u001b[0;34m(\u001b[0m\u001b[0mfrontier\u001b[0m\u001b[0;34m)\u001b[0m\u001b[0;34m,\u001b[0m \u001b[0;34m\" paths in frontier\"\u001b[0m\u001b[0;34m\u001b[0m\u001b[0m\n\u001b[1;32m      5\u001b[0m \u001b[0mpath\u001b[0m \u001b[0;34m=\u001b[0m \u001b[0mfrontier\u001b[0m\u001b[0;34m.\u001b[0m\u001b[0mpop\u001b[0m\u001b[0;34m(\u001b[0m\u001b[0;36m0\u001b[0m\u001b[0;34m)\u001b[0m\u001b[0;34m\u001b[0m\u001b[0m\n",
        "\u001b[0;31mAssertionError\u001b[0m: "
       ]
      }
     ],
     "prompt_number": 1694
    },
    {
     "cell_type": "code",
     "collapsed": false,
     "input": [
      "\"Generating new state from action\"\n",
      "# with tuple and mapping\n",
      "i = -8\n",
      "print puzzle1\n",
      "print map(lambda x: x if x[0] != 'A' else ('A', tuple(map(lambda y: y+i, x[1]))), puzzle1)\n"
     ],
     "language": "python",
     "metadata": {},
     "outputs": [
      {
       "output_type": "stream",
       "stream": "stdout",
       "text": [
        "(('@', (31,)), ('*', (26, 27)), ('G', (9, 10)), ('Y', (14, 22, 30)), ('P', (17, 25, 33)), ('O', (41, 49)), ('B', (20, 28, 36)), ('A', (45, 46)), ('|', (0, 1, 2, 3, 4, 5, 6, 7, 8, 15, 16, 23, 24, 32, 39, 40, 47, 48, 55, 56, 57, 58, 59, 60, 61, 62, 63)))\n",
        "[('@', (31,)), ('*', (26, 27)), ('G', (9, 10)), ('Y', (14, 22, 30)), ('P', (17, 25, 33)), ('O', (41, 49)), ('B', (20, 28, 36)), ('A', (37, 38)), ('|', (0, 1, 2, 3, 4, 5, 6, 7, 8, 15, 16, 23, 24, 32, 39, 40, 47, 48, 55, 56, 57, 58, 59, 60, 61, 62, 63))]\n"
       ]
      }
     ],
     "prompt_number": 23
    },
    {
     "cell_type": "code",
     "collapsed": false,
     "input": [
      "# with dictionary (quick access, but need to change back afer writing\n",
      "grid = dict(puzzle1)\n",
      "print grid.items()\n",
      "grid['A'] = tuple(map(lambda y: y+i, grid['A']))\n",
      "print grid.items()"
     ],
     "language": "python",
     "metadata": {},
     "outputs": [
      {
       "output_type": "stream",
       "stream": "stdout",
       "text": [
        "[('A', (45, 46)), ('@', (31,)), ('B', (20, 28, 36)), ('G', (9, 10)), ('*', (26, 27)), ('O', (41, 49)), ('P', (17, 25, 33)), ('Y', (14, 22, 30)), ('|', (0, 1, 2, 3, 4, 5, 6, 7, 8, 15, 16, 23, 24, 32, 39, 40, 47, 48, 55, 56, 57, 58, 59, 60, 61, 62, 63))]\n",
        "[('A', (37, 38)), ('@', (31,)), ('B', (20, 28, 36)), ('G', (9, 10)), ('*', (26, 27)), ('O', (41, 49)), ('P', (17, 25, 33)), ('Y', (14, 22, 30)), ('|', (0, 1, 2, 3, 4, 5, 6, 7, 8, 15, 16, 23, 24, 32, 39, 40, 47, 48, 55, 56, 57, 58, 59, 60, 61, 62, 63))]\n"
       ]
      }
     ],
     "prompt_number": 26
    },
    {
     "cell_type": "code",
     "collapsed": false,
     "input": [],
     "language": "python",
     "metadata": {},
     "outputs": []
    }
   ],
   "metadata": {}
  }
 ]
}