{
 "metadata": {
  "name": ""
 },
 "nbformat": 3,
 "nbformat_minor": 0,
 "worksheets": [
  {
   "cells": [
    {
     "cell_type": "code",
     "collapsed": false,
     "input": [
      "%timeit range(1)"
     ],
     "language": "python",
     "metadata": {},
     "outputs": [
      {
       "output_type": "stream",
       "stream": "stdout",
       "text": [
        "1000000 loops, best of 3: 281 ns per loop\n"
       ]
      }
     ],
     "prompt_number": 10
    },
    {
     "cell_type": "code",
     "collapsed": false,
     "input": [
      "%timeit range(10)"
     ],
     "language": "python",
     "metadata": {},
     "outputs": [
      {
       "output_type": "stream",
       "stream": "stdout",
       "text": [
        "1000000 loops, best of 3: 335 ns per loop\n"
       ]
      }
     ],
     "prompt_number": 11
    },
    {
     "cell_type": "code",
     "collapsed": false,
     "input": [
      "%timeit range(100)"
     ],
     "language": "python",
     "metadata": {},
     "outputs": [
      {
       "output_type": "stream",
       "stream": "stdout",
       "text": [
        "1000000 loops, best of 3: 965 ns per loop\n"
       ]
      }
     ],
     "prompt_number": 12
    },
    {
     "cell_type": "code",
     "collapsed": false,
     "input": [
      "%timeit range(1000)    #thousand"
     ],
     "language": "python",
     "metadata": {},
     "outputs": [
      {
       "output_type": "stream",
       "stream": "stdout",
       "text": [
        "100000 loops, best of 3: 9.46 \u00b5s per loop\n"
       ]
      }
     ],
     "prompt_number": 13
    },
    {
     "cell_type": "code",
     "collapsed": false,
     "input": [
      "%timeit range(10000)"
     ],
     "language": "python",
     "metadata": {},
     "outputs": [
      {
       "output_type": "stream",
       "stream": "stdout",
       "text": [
        "10000 loops, best of 3: 98.2 \u00b5s per loop\n"
       ]
      }
     ],
     "prompt_number": 14
    },
    {
     "cell_type": "code",
     "collapsed": false,
     "input": [
      "%timeit range(100000)"
     ],
     "language": "python",
     "metadata": {},
     "outputs": [
      {
       "output_type": "stream",
       "stream": "stdout",
       "text": [
        "1000 loops, best of 3: 1.26 ms per loop\n"
       ]
      }
     ],
     "prompt_number": 15
    },
    {
     "cell_type": "code",
     "collapsed": false,
     "input": [
      "%timeit range(1000000)   #million"
     ],
     "language": "python",
     "metadata": {},
     "outputs": [
      {
       "output_type": "stream",
       "stream": "stdout",
       "text": [
        "10 loops, best of 3: 18.2 ms per loop\n"
       ]
      }
     ],
     "prompt_number": 16
    },
    {
     "cell_type": "code",
     "collapsed": false,
     "input": [
      "%timeit range(10000000)"
     ],
     "language": "python",
     "metadata": {},
     "outputs": [
      {
       "output_type": "stream",
       "stream": "stdout",
       "text": [
        "1 loops, best of 3: 182 ms per loop\n"
       ]
      }
     ],
     "prompt_number": 19
    },
    {
     "cell_type": "code",
     "collapsed": false,
     "input": [
      "%timeit range(100000000)"
     ],
     "language": "python",
     "metadata": {},
     "outputs": [
      {
       "output_type": "stream",
       "stream": "stdout",
       "text": [
        "1 loops, best of 3: 2.15 s per loop\n"
       ]
      }
     ],
     "prompt_number": 22
    },
    {
     "cell_type": "code",
     "collapsed": false,
     "input": [
      "%timeit range(1000000000)  #billion"
     ],
     "language": "python",
     "metadata": {},
     "outputs": [],
     "prompt_number": "*"
    },
    {
     "cell_type": "code",
     "collapsed": false,
     "input": [
      "import time as t\n",
      "\n",
      "def timeit(code) :\n",
      "    start = t.clock()\n",
      "    exec(code)\n",
      "    return t.clock() - start"
     ],
     "language": "python",
     "metadata": {},
     "outputs": [],
     "prompt_number": 54
    },
    {
     "cell_type": "code",
     "collapsed": false,
     "input": [
      "\"{:,}\".format(0.000100000234)"
     ],
     "language": "python",
     "metadata": {},
     "outputs": [
      {
       "metadata": {},
       "output_type": "pyout",
       "prompt_number": 110,
       "text": [
        "'0.000100000234'"
       ]
      }
     ],
     "prompt_number": 110
    },
    {
     "cell_type": "code",
     "collapsed": false,
     "input": [
      "timeit(code)"
     ],
     "language": "python",
     "metadata": {},
     "outputs": [
      {
       "metadata": {},
       "output_type": "pyout",
       "prompt_number": 100,
       "text": [
        "0.0018370000000000886"
       ]
      }
     ],
     "prompt_number": 100
    },
    {
     "cell_type": "code",
     "collapsed": false,
     "input": [
      "\"\"\"\n",
      "N    range      xrange     \n",
      "{:,}        -5\n",
      "2        -3.32\n",
      "3        \n",
      "4\n",
      "5\n",
      "6\n",
      "7\n",
      "8\n",
      "\"\"\".format(\n",
      "           \n",
      "   \n"
     ],
     "language": "python",
     "metadata": {},
     "outputs": []
    },
    {
     "cell_type": "code",
     "collapsed": false,
     "input": [
      "size = 10000"
     ],
     "language": "python",
     "metadata": {},
     "outputs": [],
     "prompt_number": 83
    },
    {
     "cell_type": "code",
     "collapsed": false,
     "input": [
      "import math"
     ],
     "language": "python",
     "metadata": {},
     "outputs": [],
     "prompt_number": 87
    },
    {
     "cell_type": "code",
     "collapsed": false,
     "input": [
      "\"%s\".format(math.log10(0.0018370000000000886))"
     ],
     "language": "python",
     "metadata": {},
     "outputs": [
      {
       "ename": "KeyError",
       "evalue": "'d'",
       "output_type": "pyerr",
       "traceback": [
        "\u001b[0;31m---------------------------------------------------------------------------\u001b[0m\n\u001b[0;31mKeyError\u001b[0m                                  Traceback (most recent call last)",
        "\u001b[0;32m<ipython-input-106-e0665e63c006>\u001b[0m in \u001b[0;36m<module>\u001b[0;34m()\u001b[0m\n\u001b[0;32m----> 1\u001b[0;31m \u001b[0;34m\"{d:<3}\"\u001b[0m\u001b[0;34m.\u001b[0m\u001b[0mformat\u001b[0m\u001b[0;34m(\u001b[0m\u001b[0mmath\u001b[0m\u001b[0;34m.\u001b[0m\u001b[0mlog10\u001b[0m\u001b[0;34m(\u001b[0m\u001b[0;36m0.0018370000000000886\u001b[0m\u001b[0;34m)\u001b[0m\u001b[0;34m)\u001b[0m\u001b[0;34m\u001b[0m\u001b[0m\n\u001b[0m",
        "\u001b[0;31mKeyError\u001b[0m: 'd'"
       ]
      }
     ],
     "prompt_number": 106
    },
    {
     "cell_type": "code",
     "collapsed": false,
     "input": [
      "1e0 == 10**0"
     ],
     "language": "python",
     "metadata": {},
     "outputs": [
      {
       "metadata": {},
       "output_type": "pyout",
       "prompt_number": 97,
       "text": [
        "True"
       ]
      }
     ],
     "prompt_number": 97
    },
    {
     "cell_type": "code",
     "collapsed": false,
     "input": [
      "math.log10(1e-5)"
     ],
     "language": "python",
     "metadata": {},
     "outputs": [
      {
       "metadata": {},
       "output_type": "pyout",
       "prompt_number": 99,
       "text": [
        "-5.0"
       ]
      }
     ],
     "prompt_number": 99
    },
    {
     "cell_type": "code",
     "collapsed": false,
     "input": [
      "code = \"for i in xrange({num}) : continue\".format(num=size)"
     ],
     "language": "python",
     "metadata": {},
     "outputs": [],
     "prompt_number": 79
    },
    {
     "cell_type": "code",
     "collapsed": false,
     "input": [
      "code = \"for i in range({num}) : continue\".format(num=size)"
     ],
     "language": "python",
     "metadata": {},
     "outputs": [],
     "prompt_number": 81
    },
    {
     "cell_type": "code",
     "collapsed": false,
     "input": [
      "code"
     ],
     "language": "python",
     "metadata": {},
     "outputs": [
      {
       "metadata": {},
       "output_type": "pyout",
       "prompt_number": 59,
       "text": [
        "'for i in xrange(1000) : continue'"
       ]
      }
     ],
     "prompt_number": 59
    },
    {
     "cell_type": "code",
     "collapsed": false,
     "input": [
      "code = \"for i in xrange(100) : continue\""
     ],
     "language": "python",
     "metadata": {},
     "outputs": [],
     "prompt_number": 37
    },
    {
     "cell_type": "code",
     "collapsed": false,
     "input": [
      "exec(\"for i in xrange(10000000) : continue\")"
     ],
     "language": "python",
     "metadata": {},
     "outputs": [],
     "prompt_number": 53
    },
    {
     "cell_type": "heading",
     "level": 3,
     "metadata": {},
     "source": [
      "Concept inventory"
     ]
    },
    {
     "cell_type": "markdown",
     "metadata": {},
     "source": [
      " - timing code\n",
      " - formating output \n",
      "     - each case\n",
      "     - altogether\n",
      " - range and xrange"
     ]
    },
    {
     "cell_type": "code",
     "collapsed": false,
     "input": [
      "import time as t\n",
      "import functools\n",
      "from math import log10\n",
      "\n",
      "def timeit(code) :\n",
      "    start = t.clock()\n",
      "    exec(code)\n",
      "    return t.clock() - start\n",
      "\n",
      "def run_cases(n) :\n",
      "    \"\"\" Runs a for loop over range and xrange for num=10^n, times their execution time, and outputs string\n",
      "        \"10^n        0.23235135    0.6322311\"\n",
      "    \"\"\"\n",
      "    times = {}\n",
      "    for kind in [\"range\",\"xrange\"] :\n",
      "        code = \"for i in {loop}({num}) : j=i*100;k=j*3.5;l=k/2.3;e=l*0.59\".format(num=10**n,loop=kind)\n",
      "        times[kind] = timeit(code)\n",
      "    output = \"{:>12,}{:>20}{:>20}\".format(10**n, log10(times[\"range\"]), log10(times[\"xrange\"]))\n",
      "    return output\n",
      "\n",
      "def main() :\n",
      "    result = \"{:>12}{:>20}{:>20}\".format(\"Number\",\"range\",\"xrange\")\n",
      "    for n in  range(9) :\n",
      "        result += '\\n' + run_cases(n)\n",
      "    print result\n",
      "    \n",
      "    \n",
      "#debugging code\n",
      "    \n",
      "def decorator(d):\n",
      "    \"Make function d a decorator: d wraps a function fn.\"\n",
      "    def _d(fn):\n",
      "        return functools.update_wrapper(d(fn), fn)\n",
      "    functools.update_wrapper(_d, d)\n",
      "    return _d\n",
      "\n",
      "@decorator\n",
      "def disable(f) :\n",
      "    return (lambda x : x)\n",
      "\n",
      "log10 = disable(log10)"
     ],
     "language": "python",
     "metadata": {},
     "outputs": [],
     "prompt_number": 233
    },
    {
     "cell_type": "code",
     "collapsed": false,
     "input": [
      "main()  #continue (smallest case)       ~100 instructs"
     ],
     "language": "python",
     "metadata": {},
     "outputs": [
      {
       "output_type": "stream",
       "stream": "stdout",
       "text": [
        "      Number               range              xrange\n",
        "           1   6.60000000039e-05   4.10000000031e-05\n",
        "          10   2.70000000029e-05   3.59999999944e-05\n",
        "         100   4.70000000021e-05   5.30000000012e-05\n",
        "       1,000   0.000319999999995   0.000126999999999\n",
        "      10,000            0.001876   0.000612999999994\n",
        "     100,000            0.008685             0.00683\n",
        "   1,000,000            0.095479            0.061092\n",
        "  10,000,000            0.701721             0.49403\n",
        " 100,000,000           15.593833              4.9901\n"
       ]
      }
     ],
     "prompt_number": 180
    },
    {
     "cell_type": "code",
     "collapsed": false,
     "input": [
      "main() #with assignment                 ~ 2.5x             "
     ],
     "language": "python",
     "metadata": {},
     "outputs": [
      {
       "output_type": "stream",
       "stream": "stdout",
       "text": [
        "      Number               range              xrange\n",
        "           1   0.000132000000008   3.59999999944e-05\n",
        "          10   3.79999999893e-05   3.80000000177e-05\n",
        "         100   8.30000000178e-05   8.60000000102e-05\n",
        "       1,000   0.000904999999989   0.000648000000012\n",
        "      10,000    0.00558699999999    0.00507899999999\n",
        "     100,000            0.044392            0.023387\n",
        "   1,000,000            0.182617             0.14235\n",
        "  10,000,000            1.584326            1.372303\n",
        " 100,000,000           21.072311           13.756575\n"
       ]
      }
     ],
     "prompt_number": 225
    },
    {
     "cell_type": "code",
     "collapsed": false,
     "input": [
      "main() #with arithmetic and assignement  ~ 3x    2.5  2.1  2.95  2.8  3.625 2.00 2.23 7.9 1.9 1.35"
     ],
     "language": "python",
     "metadata": {},
     "outputs": [
      {
       "output_type": "stream",
       "stream": "stdout",
       "text": [
        "      Number               range              xrange\n",
        "           1   0.000128999999987   3.79999999893e-05\n",
        "          10   4.80000000209e-05   3.89999999868e-05\n",
        "         100    9.5999999985e-05   8.19999999919e-05\n",
        "       1,000   0.000599999999991   0.000952000000012\n",
        "      10,000    0.00638999999998    0.00503999999998\n",
        "     100,000            0.029438            0.017239\n",
        "   1,000,000            0.191219            0.134379\n",
        "  10,000,000            1.568865            1.447052\n",
        " 100,000,000           21.114983           13.998563\n"
       ]
      }
     ],
     "prompt_number": 226
    },
    {
     "cell_type": "code",
     "collapsed": false,
     "input": [
      "main() #with 2 arithmetic and assignment ~ 5x"
     ],
     "language": "python",
     "metadata": {},
     "outputs": [
      {
       "output_type": "stream",
       "stream": "stdout",
       "text": [
        "      Number               range              xrange\n",
        "           1   0.000199000000009    7.8000000002e-05\n",
        "          10   0.000105000000019   8.90000000027e-05\n",
        "         100   0.000157000000002   0.000154000000009\n",
        "       1,000             0.00115    0.00101599999999\n",
        "      10,000            0.008408    0.00289800000002\n",
        "     100,000            0.031588            0.027493\n",
        "   1,000,000             0.29251            0.272508\n",
        "  10,000,000            2.756591            2.455421\n",
        " 100,000,000            32.58752           24.565553\n"
       ]
      }
     ],
     "prompt_number": 228
    },
    {
     "cell_type": "code",
     "collapsed": false,
     "input": [
      "main() #with 4 float arithmetic and assignment ~10"
     ],
     "language": "python",
     "metadata": {},
     "outputs": [
      {
       "output_type": "stream",
       "stream": "stdout",
       "text": [
        "      Number               range              xrange\n",
        "           1   8.70000000077e-05   5.50000000317e-05\n",
        "          10   9.19999999951e-05   7.29999999862e-05\n",
        "         100   0.000259000000028   0.000147999999967\n",
        "       1,000    0.00133299999999    0.00151699999998\n",
        "      10,000    0.00643699999995            0.013765\n",
        "     100,000            0.054797             0.06754\n",
        "   1,000,000            0.472843            0.433731\n",
        "  10,000,000            5.242575            4.663209\n",
        " 100,000,000           53.964648           45.660734\n"
       ]
      }
     ],
     "prompt_number": 234
    },
    {
     "cell_type": "code",
     "collapsed": false,
     "input": [
      "def exectime(instructions) :\n",
      "    CPI = 1000\n",
      "    clock_period = 1.0 / 2.4e9\n",
      "    return instructions * CPI * clock_period"
     ],
     "language": "python",
     "metadata": {},
     "outputs": [],
     "prompt_number": 259
    },
    {
     "cell_type": "code",
     "collapsed": false,
     "input": [
      "exectime(1e8)"
     ],
     "language": "python",
     "metadata": {},
     "outputs": [
      {
       "metadata": {},
       "output_type": "pyout",
       "prompt_number": 260,
       "text": [
        "41.666666666666664"
       ]
      }
     ],
     "prompt_number": 260
    },
    {
     "cell_type": "code",
     "collapsed": false,
     "input": [
      "\"\"\"\n",
      "sooooo my best guesses...\n",
      "\n",
      "clock_period ~ 1/2.4Ghz (dual core 1.3GHz processor)\n",
      "CPI 100 for basic for loops and each assignment+floatarith gives another 2.5 factor (all summed)\n",
      "count is given by number of loops\n",
      "\"\"\""
     ],
     "language": "python",
     "metadata": {},
     "outputs": [
      {
       "metadata": {},
       "output_type": "pyout",
       "prompt_number": 262,
       "text": [
        "'\\nsooooo my best guesses...\\n\\nclock_period ~ 1/2.4Ghz (dual core 1.3GHz processor)\\nCPI 100 for basic for loops and each assignment+floatarith gives another 2.5 factor (all summed)\\ncount is given by number of loops\\n'"
       ]
      }
     ],
     "prompt_number": 262
    },
    {
     "cell_type": "code",
     "collapsed": false,
     "input": [],
     "language": "python",
     "metadata": {},
     "outputs": []
    }
   ],
   "metadata": {}
  }
 ]
}